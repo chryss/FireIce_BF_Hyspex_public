{
 "cells": [
  {
   "cell_type": "code",
   "execution_count": null,
   "metadata": {},
   "outputs": [],
   "source": [
    "import shutil\n",
    "import itertools\n",
    "from pathlib import Path"
   ]
  },
  {
   "cell_type": "markdown",
   "metadata": {},
   "source": [
    "### When to run this notebook"
   ]
  },
  {
   "cell_type": "markdown",
   "metadata": {},
   "source": [
    "You received data from a Hyspex survey. Presumably the complete set. You now want to get set up and create a project directory to run processing steps in.\n",
    "\n",
    "We presume that you obtained these notebooks by cloning a repository, for example https://github.alaska.edu/cwaigl/FireIce_BF_Hyspex , so that the notebook code will be able to access files to be moved in place. "
   ]
  },
  {
   "cell_type": "markdown",
   "metadata": {},
   "source": [
    "### Intialize variables\n"
   ]
  },
  {
   "cell_type": "markdown",
   "metadata": {},
   "source": [
    "Enter the directory of your HySpex processing project. We presume it doesn't exist yet. \n",
    "\n",
    "Make sure to use either forward slashes `/`, or double backslashes `\\\\` to separate path levels. \n",
    "\n",
    "*If you just want to create your directory structure, this is the only variable you need to set.*"
   ]
  },
  {
   "cell_type": "code",
   "execution_count": null,
   "metadata": {},
   "outputs": [],
   "source": [
    "projectdir = Path(r\"Z:/fihyper/cwaigl/20210828_KN\")"
   ]
  },
  {
   "cell_type": "markdown",
   "metadata": {},
   "source": [
    "If you also want this notebook to move your raw HySpex files into place (last code section of this notebook), you'll also need to provide the directory where the Hyspex files are stored and the common prefix for the files in this project. "
   ]
  },
  {
   "cell_type": "code",
   "execution_count": null,
   "metadata": {},
   "outputs": [],
   "source": [
    "prefix = '20210828-KN'\n",
    "dataarchive = Path(r'Z:\\fihyper\\Hyspex_Data\\2021\\BorealForest\\20210828-Kenai')"
   ]
  },
  {
   "cell_type": "markdown",
   "metadata": {},
   "source": [
    "### Create project directory and subdirectories"
   ]
  },
  {
   "cell_type": "markdown",
   "metadata": {},
   "source": [
    "You don't have to edit anything here if you just want the default setup. Only make changes if you have additional requirements and know what you're doing. Just run each code cell in order. The following list of directories will be created:"
   ]
  },
  {
   "cell_type": "code",
   "execution_count": null,
   "metadata": {},
   "outputs": [],
   "source": [
    "subdirs = [\n",
    "    '00_aux/Software',\n",
    "    '00_aux/GIS',\n",
    "    '00_aux/GIS/Flightline',\n",
    "    '01_inputs/DEM',\n",
    "    '01_inputs/sensor',\n",
    "    '01_inputs/HySpex',\n",
    "    '01_inputs/boresight',\n",
    "    '02_intermediate/working',\n",
    "    '03_products',\n",
    "    'x0_tmp',\n",
    "]"
   ]
  },
  {
   "cell_type": "markdown",
   "metadata": {},
   "source": [
    "Run the following code to create all directories. If they already exist, no error will be raised. If you want an error to be raised, change `exist_ok` to `False`."
   ]
  },
  {
   "cell_type": "code",
   "execution_count": null,
   "metadata": {},
   "outputs": [],
   "source": [
    "paths = [\n",
    "    projectdir / Path(subdir) for subdir in subdirs\n",
    "]\n",
    "\n",
    "for pth in paths:\n",
    "    pth.mkdir(parents=True, exist_ok=True)"
   ]
  },
  {
   "cell_type": "markdown",
   "metadata": {},
   "source": [
    "### Move sensormodel files in place"
   ]
  },
  {
   "cell_type": "markdown",
   "metadata": {},
   "source": [
    "In the Husky configuration, the cameras are installed 180 degrees rotated. Therefore, `rotated` should be set to `True`. If you are running this script for an unrotated configuration, set the variable to `False`."
   ]
  },
  {
   "cell_type": "code",
   "execution_count": null,
   "metadata": {},
   "outputs": [],
   "source": [
    "rotated = True\n",
    "if rotated:\n",
    "    sensorfilepaths = list(Path('../sensormodel').resolve().glob('*FOVexp_180deg_rotated.txt'))\n",
    "else:\n",
    "    sensorfilepaths = list(Path('../sensormodel').resolve().glob('*FOVexp.txt'))\n",
    "dst = projectdir / Path('01_inputs/sensor')\n",
    "\n",
    "for fp in sensorfilepaths:\n",
    "    shutil.copy(fp, dst)"
   ]
  },
  {
   "cell_type": "markdown",
   "metadata": {},
   "source": [
    "### Move boresight files in place"
   ]
  },
  {
   "cell_type": "markdown",
   "metadata": {},
   "source": [
    "Boresight calibration needs to be carried out each time that the camera is installed into an aircraft. This generates two new files containing boresight correction parameters, one for the VNIR camera, one for SWIR. \n",
    "\n",
    "You may prefer moving boresight files manually into the `01_inputs/boresight` directory. But if you want to use one of the existing boresight correction files, you can uncomment it here and use the following code to achieve that. \n",
    "\n",
    "**Check and edit the variables in the next cell before running it.**"
   ]
  },
  {
   "cell_type": "code",
   "execution_count": null,
   "metadata": {},
   "outputs": [],
   "source": [
    "# boresightdate = '20200522'\n",
    "# boresightdate = '20200625'\n",
    "boresightdate = '20200912'\n",
    "boresightDEM = 'IFSAR'\n",
    "boresightaircraft = 'Husky'\n",
    "\n",
    "boresightvnirfn = f'{boresightdate}_{boresightaircraft}_VNIR_boresight_{boresightDEM}.gcs'\n",
    "boresightswirfn = f'{boresightdate}_{boresightaircraft}_SWIR_boresight_{boresightDEM}.gcs'\n",
    "\n",
    "dst = projectdir / Path('01_inputs/boresight')\n",
    "for fn in [boresightvnirfn, boresightswirfn]:\n",
    "    shutil.copy(Path('../boresight', fn), dst)"
   ]
  },
  {
   "attachments": {},
   "cell_type": "markdown",
   "metadata": {},
   "source": [
    "### Move software in place (NOT)"
   ]
  },
  {
   "attachments": {},
   "cell_type": "markdown",
   "metadata": {},
   "source": [
    "In this public version of the tool chain, no proprietary software is moved into place automatically. You will need to do this manually or script it with the non-public tools. UAF researchers in need of the software can contact the HyLab team and/or consult the private repo at https://github.alaska.edu/cwaigl/FireIce_BF_Hyspex "
   ]
  },
  {
   "cell_type": "markdown",
   "metadata": {},
   "source": [
    "### Copy raw data files to input directory (optional - you can do this manually)"
   ]
  },
  {
   "cell_type": "code",
   "execution_count": null,
   "metadata": {},
   "outputs": [
    {
     "name": "stdout",
     "output_type": "stream",
     "text": [
      "The directory with the raw HySpex files exists: True\n"
     ]
    }
   ],
   "source": [
    "dst = (projectdir / Path('01_inputs/HySpex')).resolve()\n",
    "\n",
    "print(f\"The directory with the raw HySpex files exists: {dataarchive.is_dir()}\")"
   ]
  },
  {
   "cell_type": "code",
   "execution_count": null,
   "metadata": {},
   "outputs": [
    {
     "name": "stdout",
     "output_type": "stream",
     "text": [
      "There are 58 files to be moved\n"
     ]
    }
   ],
   "source": [
    "hyspexfilepaths = list(itertools.chain(dataarchive.glob(f'{prefix}*_raw.hyspex'), \n",
    "                   dataarchive.glob(f'{prefix}*_raw.hdr'),\n",
    "                   dataarchive.glob(f'{prefix}.log'),\n",
    "                   dataarchive.glob(f'{prefix}*.gps')))\n",
    "\n",
    "numfiles = len(hyspexfilepaths)\n",
    "print(f\"There are {numfiles} files to be moved\")"
   ]
  },
  {
   "cell_type": "code",
   "execution_count": null,
   "metadata": {},
   "outputs": [
    {
     "name": "stdout",
     "output_type": "stream",
     "text": [
      "Working on copying Z:\\fihyper\\Hyspex_Data\\2021\\BorealForest\\20210828-Kenai\\20210828-KN_01_SWIR_384me_SN3107_FOVx2_raw.hyspex\n",
      "Completed copying Z:\\fihyper\\Hyspex_Data\\2021\\BorealForest\\20210828-Kenai\\20210828-KN_01_SWIR_384me_SN3107_FOVx2_raw.hyspex (1/58)\n",
      "Working on copying Z:\\fihyper\\Hyspex_Data\\2021\\BorealForest\\20210828-Kenai\\20210828-KN_01_VNIR_1800_SN00812_FOVx2_raw.hyspex\n",
      "Completed copying Z:\\fihyper\\Hyspex_Data\\2021\\BorealForest\\20210828-Kenai\\20210828-KN_01_VNIR_1800_SN00812_FOVx2_raw.hyspex (2/58)\n",
      "Working on copying Z:\\fihyper\\Hyspex_Data\\2021\\BorealForest\\20210828-Kenai\\20210828-KN_02_SWIR_384me_SN3107_FOVx2_raw.hyspex\n",
      "Completed copying Z:\\fihyper\\Hyspex_Data\\2021\\BorealForest\\20210828-Kenai\\20210828-KN_02_SWIR_384me_SN3107_FOVx2_raw.hyspex (3/58)\n",
      "Working on copying Z:\\fihyper\\Hyspex_Data\\2021\\BorealForest\\20210828-Kenai\\20210828-KN_02_VNIR_1800_SN00812_FOVx2_raw.hyspex\n",
      "Completed copying Z:\\fihyper\\Hyspex_Data\\2021\\BorealForest\\20210828-Kenai\\20210828-KN_02_VNIR_1800_SN00812_FOVx2_raw.hyspex (4/58)\n",
      "Working on copying Z:\\fihyper\\Hyspex_Data\\2021\\BorealForest\\20210828-Kenai\\20210828-KN_03_SWIR_384me_SN3107_FOVx2_raw.hyspex\n",
      "Completed copying Z:\\fihyper\\Hyspex_Data\\2021\\BorealForest\\20210828-Kenai\\20210828-KN_03_SWIR_384me_SN3107_FOVx2_raw.hyspex (5/58)\n",
      "Working on copying Z:\\fihyper\\Hyspex_Data\\2021\\BorealForest\\20210828-Kenai\\20210828-KN_03_VNIR_1800_SN00812_FOVx2_raw.hyspex\n",
      "Completed copying Z:\\fihyper\\Hyspex_Data\\2021\\BorealForest\\20210828-Kenai\\20210828-KN_03_VNIR_1800_SN00812_FOVx2_raw.hyspex (6/58)\n",
      "Working on copying Z:\\fihyper\\Hyspex_Data\\2021\\BorealForest\\20210828-Kenai\\20210828-KN_04_SWIR_384me_SN3107_FOVx2_raw.hyspex\n",
      "Completed copying Z:\\fihyper\\Hyspex_Data\\2021\\BorealForest\\20210828-Kenai\\20210828-KN_04_SWIR_384me_SN3107_FOVx2_raw.hyspex (7/58)\n",
      "Working on copying Z:\\fihyper\\Hyspex_Data\\2021\\BorealForest\\20210828-Kenai\\20210828-KN_04_VNIR_1800_SN00812_FOVx2_raw.hyspex\n",
      "Completed copying Z:\\fihyper\\Hyspex_Data\\2021\\BorealForest\\20210828-Kenai\\20210828-KN_04_VNIR_1800_SN00812_FOVx2_raw.hyspex (8/58)\n",
      "Working on copying Z:\\fihyper\\Hyspex_Data\\2021\\BorealForest\\20210828-Kenai\\20210828-KN_05_SWIR_384me_SN3107_FOVx2_raw.hyspex\n",
      "Completed copying Z:\\fihyper\\Hyspex_Data\\2021\\BorealForest\\20210828-Kenai\\20210828-KN_05_SWIR_384me_SN3107_FOVx2_raw.hyspex (9/58)\n",
      "Working on copying Z:\\fihyper\\Hyspex_Data\\2021\\BorealForest\\20210828-Kenai\\20210828-KN_05_VNIR_1800_SN00812_FOVx2_raw.hyspex\n",
      "Completed copying Z:\\fihyper\\Hyspex_Data\\2021\\BorealForest\\20210828-Kenai\\20210828-KN_05_VNIR_1800_SN00812_FOVx2_raw.hyspex (10/58)\n",
      "Working on copying Z:\\fihyper\\Hyspex_Data\\2021\\BorealForest\\20210828-Kenai\\20210828-KN_06_SWIR_384me_SN3107_FOVx2_raw.hyspex\n",
      "Completed copying Z:\\fihyper\\Hyspex_Data\\2021\\BorealForest\\20210828-Kenai\\20210828-KN_06_SWIR_384me_SN3107_FOVx2_raw.hyspex (11/58)\n",
      "Working on copying Z:\\fihyper\\Hyspex_Data\\2021\\BorealForest\\20210828-Kenai\\20210828-KN_06_VNIR_1800_SN00812_FOVx2_raw.hyspex\n",
      "Completed copying Z:\\fihyper\\Hyspex_Data\\2021\\BorealForest\\20210828-Kenai\\20210828-KN_06_VNIR_1800_SN00812_FOVx2_raw.hyspex (12/58)\n",
      "Working on copying Z:\\fihyper\\Hyspex_Data\\2021\\BorealForest\\20210828-Kenai\\20210828-KN_07_SWIR_384me_SN3107_FOVx2_raw.hyspex\n",
      "Completed copying Z:\\fihyper\\Hyspex_Data\\2021\\BorealForest\\20210828-Kenai\\20210828-KN_07_SWIR_384me_SN3107_FOVx2_raw.hyspex (13/58)\n",
      "Working on copying Z:\\fihyper\\Hyspex_Data\\2021\\BorealForest\\20210828-Kenai\\20210828-KN_07_VNIR_1800_SN00812_FOVx2_raw.hyspex\n",
      "Completed copying Z:\\fihyper\\Hyspex_Data\\2021\\BorealForest\\20210828-Kenai\\20210828-KN_07_VNIR_1800_SN00812_FOVx2_raw.hyspex (14/58)\n",
      "Working on copying Z:\\fihyper\\Hyspex_Data\\2021\\BorealForest\\20210828-Kenai\\20210828-KN_08_SWIR_384me_SN3107_FOVx2_raw.hyspex\n",
      "Completed copying Z:\\fihyper\\Hyspex_Data\\2021\\BorealForest\\20210828-Kenai\\20210828-KN_08_SWIR_384me_SN3107_FOVx2_raw.hyspex (15/58)\n",
      "Working on copying Z:\\fihyper\\Hyspex_Data\\2021\\BorealForest\\20210828-Kenai\\20210828-KN_08_VNIR_1800_SN00812_FOVx2_raw.hyspex\n",
      "Completed copying Z:\\fihyper\\Hyspex_Data\\2021\\BorealForest\\20210828-Kenai\\20210828-KN_08_VNIR_1800_SN00812_FOVx2_raw.hyspex (16/58)\n",
      "Working on copying Z:\\fihyper\\Hyspex_Data\\2021\\BorealForest\\20210828-Kenai\\20210828-KN_09_SWIR_384me_SN3107_FOVx2_raw.hyspex\n",
      "Completed copying Z:\\fihyper\\Hyspex_Data\\2021\\BorealForest\\20210828-Kenai\\20210828-KN_09_SWIR_384me_SN3107_FOVx2_raw.hyspex (17/58)\n",
      "Working on copying Z:\\fihyper\\Hyspex_Data\\2021\\BorealForest\\20210828-Kenai\\20210828-KN_09_VNIR_1800_SN00812_FOVx2_raw.hyspex\n",
      "Completed copying Z:\\fihyper\\Hyspex_Data\\2021\\BorealForest\\20210828-Kenai\\20210828-KN_09_VNIR_1800_SN00812_FOVx2_raw.hyspex (18/58)\n",
      "Working on copying Z:\\fihyper\\Hyspex_Data\\2021\\BorealForest\\20210828-Kenai\\20210828-KN_10_SWIR_384me_SN3107_FOVx2_raw.hyspex\n",
      "Completed copying Z:\\fihyper\\Hyspex_Data\\2021\\BorealForest\\20210828-Kenai\\20210828-KN_10_SWIR_384me_SN3107_FOVx2_raw.hyspex (19/58)\n",
      "Working on copying Z:\\fihyper\\Hyspex_Data\\2021\\BorealForest\\20210828-Kenai\\20210828-KN_10_VNIR_1800_SN00812_FOVx2_raw.hyspex\n",
      "Completed copying Z:\\fihyper\\Hyspex_Data\\2021\\BorealForest\\20210828-Kenai\\20210828-KN_10_VNIR_1800_SN00812_FOVx2_raw.hyspex (20/58)\n",
      "Working on copying Z:\\fihyper\\Hyspex_Data\\2021\\BorealForest\\20210828-Kenai\\20210828-KN_11_SWIR_384me_SN3107_FOVx2_raw.hyspex\n",
      "Completed copying Z:\\fihyper\\Hyspex_Data\\2021\\BorealForest\\20210828-Kenai\\20210828-KN_11_SWIR_384me_SN3107_FOVx2_raw.hyspex (21/58)\n",
      "Working on copying Z:\\fihyper\\Hyspex_Data\\2021\\BorealForest\\20210828-Kenai\\20210828-KN_11_VNIR_1800_SN00812_FOVx2_raw.hyspex\n",
      "Completed copying Z:\\fihyper\\Hyspex_Data\\2021\\BorealForest\\20210828-Kenai\\20210828-KN_11_VNIR_1800_SN00812_FOVx2_raw.hyspex (22/58)\n",
      "Working on copying Z:\\fihyper\\Hyspex_Data\\2021\\BorealForest\\20210828-Kenai\\20210828-KN_12_SWIR_384me_SN3107_FOVx2_raw.hyspex\n",
      "Completed copying Z:\\fihyper\\Hyspex_Data\\2021\\BorealForest\\20210828-Kenai\\20210828-KN_12_SWIR_384me_SN3107_FOVx2_raw.hyspex (23/58)\n",
      "Working on copying Z:\\fihyper\\Hyspex_Data\\2021\\BorealForest\\20210828-Kenai\\20210828-KN_12_VNIR_1800_SN00812_FOVx2_raw.hyspex\n",
      "Completed copying Z:\\fihyper\\Hyspex_Data\\2021\\BorealForest\\20210828-Kenai\\20210828-KN_12_VNIR_1800_SN00812_FOVx2_raw.hyspex (24/58)\n",
      "Working on copying Z:\\fihyper\\Hyspex_Data\\2021\\BorealForest\\20210828-Kenai\\20210828-KN_13_SWIR_384me_SN3107_FOVx2_raw.hyspex\n",
      "Completed copying Z:\\fihyper\\Hyspex_Data\\2021\\BorealForest\\20210828-Kenai\\20210828-KN_13_SWIR_384me_SN3107_FOVx2_raw.hyspex (25/58)\n",
      "Working on copying Z:\\fihyper\\Hyspex_Data\\2021\\BorealForest\\20210828-Kenai\\20210828-KN_13_VNIR_1800_SN00812_FOVx2_raw.hyspex\n",
      "Completed copying Z:\\fihyper\\Hyspex_Data\\2021\\BorealForest\\20210828-Kenai\\20210828-KN_13_VNIR_1800_SN00812_FOVx2_raw.hyspex (26/58)\n",
      "Working on copying Z:\\fihyper\\Hyspex_Data\\2021\\BorealForest\\20210828-Kenai\\20210828-KN_14_SWIR_384me_SN3107_FOVx2_raw.hyspex\n",
      "Completed copying Z:\\fihyper\\Hyspex_Data\\2021\\BorealForest\\20210828-Kenai\\20210828-KN_14_SWIR_384me_SN3107_FOVx2_raw.hyspex (27/58)\n",
      "Working on copying Z:\\fihyper\\Hyspex_Data\\2021\\BorealForest\\20210828-Kenai\\20210828-KN_14_VNIR_1800_SN00812_FOVx2_raw.hyspex\n",
      "Completed copying Z:\\fihyper\\Hyspex_Data\\2021\\BorealForest\\20210828-Kenai\\20210828-KN_14_VNIR_1800_SN00812_FOVx2_raw.hyspex (28/58)\n",
      "Working on copying Z:\\fihyper\\Hyspex_Data\\2021\\BorealForest\\20210828-Kenai\\20210828-KN_01_SWIR_384me_SN3107_FOVx2_raw.hdr\n",
      "Completed copying Z:\\fihyper\\Hyspex_Data\\2021\\BorealForest\\20210828-Kenai\\20210828-KN_01_SWIR_384me_SN3107_FOVx2_raw.hdr (29/58)\n",
      "Working on copying Z:\\fihyper\\Hyspex_Data\\2021\\BorealForest\\20210828-Kenai\\20210828-KN_01_VNIR_1800_SN00812_FOVx2_raw.hdr\n",
      "Completed copying Z:\\fihyper\\Hyspex_Data\\2021\\BorealForest\\20210828-Kenai\\20210828-KN_01_VNIR_1800_SN00812_FOVx2_raw.hdr (30/58)\n",
      "Working on copying Z:\\fihyper\\Hyspex_Data\\2021\\BorealForest\\20210828-Kenai\\20210828-KN_02_SWIR_384me_SN3107_FOVx2_raw.hdr\n",
      "Completed copying Z:\\fihyper\\Hyspex_Data\\2021\\BorealForest\\20210828-Kenai\\20210828-KN_02_SWIR_384me_SN3107_FOVx2_raw.hdr (31/58)\n",
      "Working on copying Z:\\fihyper\\Hyspex_Data\\2021\\BorealForest\\20210828-Kenai\\20210828-KN_02_VNIR_1800_SN00812_FOVx2_raw.hdr\n",
      "Completed copying Z:\\fihyper\\Hyspex_Data\\2021\\BorealForest\\20210828-Kenai\\20210828-KN_02_VNIR_1800_SN00812_FOVx2_raw.hdr (32/58)\n",
      "Working on copying Z:\\fihyper\\Hyspex_Data\\2021\\BorealForest\\20210828-Kenai\\20210828-KN_03_SWIR_384me_SN3107_FOVx2_raw.hdr\n",
      "Completed copying Z:\\fihyper\\Hyspex_Data\\2021\\BorealForest\\20210828-Kenai\\20210828-KN_03_SWIR_384me_SN3107_FOVx2_raw.hdr (33/58)\n",
      "Working on copying Z:\\fihyper\\Hyspex_Data\\2021\\BorealForest\\20210828-Kenai\\20210828-KN_03_VNIR_1800_SN00812_FOVx2_raw.hdr\n",
      "Completed copying Z:\\fihyper\\Hyspex_Data\\2021\\BorealForest\\20210828-Kenai\\20210828-KN_03_VNIR_1800_SN00812_FOVx2_raw.hdr (34/58)\n",
      "Working on copying Z:\\fihyper\\Hyspex_Data\\2021\\BorealForest\\20210828-Kenai\\20210828-KN_04_SWIR_384me_SN3107_FOVx2_raw.hdr\n",
      "Completed copying Z:\\fihyper\\Hyspex_Data\\2021\\BorealForest\\20210828-Kenai\\20210828-KN_04_SWIR_384me_SN3107_FOVx2_raw.hdr (35/58)\n",
      "Working on copying Z:\\fihyper\\Hyspex_Data\\2021\\BorealForest\\20210828-Kenai\\20210828-KN_04_VNIR_1800_SN00812_FOVx2_raw.hdr\n",
      "Completed copying Z:\\fihyper\\Hyspex_Data\\2021\\BorealForest\\20210828-Kenai\\20210828-KN_04_VNIR_1800_SN00812_FOVx2_raw.hdr (36/58)\n",
      "Working on copying Z:\\fihyper\\Hyspex_Data\\2021\\BorealForest\\20210828-Kenai\\20210828-KN_05_SWIR_384me_SN3107_FOVx2_raw.hdr\n",
      "Completed copying Z:\\fihyper\\Hyspex_Data\\2021\\BorealForest\\20210828-Kenai\\20210828-KN_05_SWIR_384me_SN3107_FOVx2_raw.hdr (37/58)\n",
      "Working on copying Z:\\fihyper\\Hyspex_Data\\2021\\BorealForest\\20210828-Kenai\\20210828-KN_05_VNIR_1800_SN00812_FOVx2_raw.hdr\n",
      "Completed copying Z:\\fihyper\\Hyspex_Data\\2021\\BorealForest\\20210828-Kenai\\20210828-KN_05_VNIR_1800_SN00812_FOVx2_raw.hdr (38/58)\n",
      "Working on copying Z:\\fihyper\\Hyspex_Data\\2021\\BorealForest\\20210828-Kenai\\20210828-KN_06_SWIR_384me_SN3107_FOVx2_raw.hdr\n",
      "Completed copying Z:\\fihyper\\Hyspex_Data\\2021\\BorealForest\\20210828-Kenai\\20210828-KN_06_SWIR_384me_SN3107_FOVx2_raw.hdr (39/58)\n",
      "Working on copying Z:\\fihyper\\Hyspex_Data\\2021\\BorealForest\\20210828-Kenai\\20210828-KN_06_VNIR_1800_SN00812_FOVx2_raw.hdr\n",
      "Completed copying Z:\\fihyper\\Hyspex_Data\\2021\\BorealForest\\20210828-Kenai\\20210828-KN_06_VNIR_1800_SN00812_FOVx2_raw.hdr (40/58)\n",
      "Working on copying Z:\\fihyper\\Hyspex_Data\\2021\\BorealForest\\20210828-Kenai\\20210828-KN_07_SWIR_384me_SN3107_FOVx2_raw.hdr\n",
      "Completed copying Z:\\fihyper\\Hyspex_Data\\2021\\BorealForest\\20210828-Kenai\\20210828-KN_07_SWIR_384me_SN3107_FOVx2_raw.hdr (41/58)\n",
      "Working on copying Z:\\fihyper\\Hyspex_Data\\2021\\BorealForest\\20210828-Kenai\\20210828-KN_07_VNIR_1800_SN00812_FOVx2_raw.hdr\n",
      "Completed copying Z:\\fihyper\\Hyspex_Data\\2021\\BorealForest\\20210828-Kenai\\20210828-KN_07_VNIR_1800_SN00812_FOVx2_raw.hdr (42/58)\n",
      "Working on copying Z:\\fihyper\\Hyspex_Data\\2021\\BorealForest\\20210828-Kenai\\20210828-KN_08_SWIR_384me_SN3107_FOVx2_raw.hdr\n",
      "Completed copying Z:\\fihyper\\Hyspex_Data\\2021\\BorealForest\\20210828-Kenai\\20210828-KN_08_SWIR_384me_SN3107_FOVx2_raw.hdr (43/58)\n",
      "Working on copying Z:\\fihyper\\Hyspex_Data\\2021\\BorealForest\\20210828-Kenai\\20210828-KN_08_VNIR_1800_SN00812_FOVx2_raw.hdr\n",
      "Completed copying Z:\\fihyper\\Hyspex_Data\\2021\\BorealForest\\20210828-Kenai\\20210828-KN_08_VNIR_1800_SN00812_FOVx2_raw.hdr (44/58)\n",
      "Working on copying Z:\\fihyper\\Hyspex_Data\\2021\\BorealForest\\20210828-Kenai\\20210828-KN_09_SWIR_384me_SN3107_FOVx2_raw.hdr\n",
      "Completed copying Z:\\fihyper\\Hyspex_Data\\2021\\BorealForest\\20210828-Kenai\\20210828-KN_09_SWIR_384me_SN3107_FOVx2_raw.hdr (45/58)\n",
      "Working on copying Z:\\fihyper\\Hyspex_Data\\2021\\BorealForest\\20210828-Kenai\\20210828-KN_09_VNIR_1800_SN00812_FOVx2_raw.hdr\n",
      "Completed copying Z:\\fihyper\\Hyspex_Data\\2021\\BorealForest\\20210828-Kenai\\20210828-KN_09_VNIR_1800_SN00812_FOVx2_raw.hdr (46/58)\n",
      "Working on copying Z:\\fihyper\\Hyspex_Data\\2021\\BorealForest\\20210828-Kenai\\20210828-KN_10_SWIR_384me_SN3107_FOVx2_raw.hdr\n",
      "Completed copying Z:\\fihyper\\Hyspex_Data\\2021\\BorealForest\\20210828-Kenai\\20210828-KN_10_SWIR_384me_SN3107_FOVx2_raw.hdr (47/58)\n",
      "Working on copying Z:\\fihyper\\Hyspex_Data\\2021\\BorealForest\\20210828-Kenai\\20210828-KN_10_VNIR_1800_SN00812_FOVx2_raw.hdr\n",
      "Completed copying Z:\\fihyper\\Hyspex_Data\\2021\\BorealForest\\20210828-Kenai\\20210828-KN_10_VNIR_1800_SN00812_FOVx2_raw.hdr (48/58)\n",
      "Working on copying Z:\\fihyper\\Hyspex_Data\\2021\\BorealForest\\20210828-Kenai\\20210828-KN_11_SWIR_384me_SN3107_FOVx2_raw.hdr\n",
      "Completed copying Z:\\fihyper\\Hyspex_Data\\2021\\BorealForest\\20210828-Kenai\\20210828-KN_11_SWIR_384me_SN3107_FOVx2_raw.hdr (49/58)\n",
      "Working on copying Z:\\fihyper\\Hyspex_Data\\2021\\BorealForest\\20210828-Kenai\\20210828-KN_11_VNIR_1800_SN00812_FOVx2_raw.hdr\n",
      "Completed copying Z:\\fihyper\\Hyspex_Data\\2021\\BorealForest\\20210828-Kenai\\20210828-KN_11_VNIR_1800_SN00812_FOVx2_raw.hdr (50/58)\n",
      "Working on copying Z:\\fihyper\\Hyspex_Data\\2021\\BorealForest\\20210828-Kenai\\20210828-KN_12_SWIR_384me_SN3107_FOVx2_raw.hdr\n",
      "Completed copying Z:\\fihyper\\Hyspex_Data\\2021\\BorealForest\\20210828-Kenai\\20210828-KN_12_SWIR_384me_SN3107_FOVx2_raw.hdr (51/58)\n",
      "Working on copying Z:\\fihyper\\Hyspex_Data\\2021\\BorealForest\\20210828-Kenai\\20210828-KN_12_VNIR_1800_SN00812_FOVx2_raw.hdr\n",
      "Completed copying Z:\\fihyper\\Hyspex_Data\\2021\\BorealForest\\20210828-Kenai\\20210828-KN_12_VNIR_1800_SN00812_FOVx2_raw.hdr (52/58)\n",
      "Working on copying Z:\\fihyper\\Hyspex_Data\\2021\\BorealForest\\20210828-Kenai\\20210828-KN_13_SWIR_384me_SN3107_FOVx2_raw.hdr\n",
      "Completed copying Z:\\fihyper\\Hyspex_Data\\2021\\BorealForest\\20210828-Kenai\\20210828-KN_13_SWIR_384me_SN3107_FOVx2_raw.hdr (53/58)\n",
      "Working on copying Z:\\fihyper\\Hyspex_Data\\2021\\BorealForest\\20210828-Kenai\\20210828-KN_13_VNIR_1800_SN00812_FOVx2_raw.hdr\n",
      "Completed copying Z:\\fihyper\\Hyspex_Data\\2021\\BorealForest\\20210828-Kenai\\20210828-KN_13_VNIR_1800_SN00812_FOVx2_raw.hdr (54/58)\n",
      "Working on copying Z:\\fihyper\\Hyspex_Data\\2021\\BorealForest\\20210828-Kenai\\20210828-KN_14_SWIR_384me_SN3107_FOVx2_raw.hdr\n",
      "Completed copying Z:\\fihyper\\Hyspex_Data\\2021\\BorealForest\\20210828-Kenai\\20210828-KN_14_SWIR_384me_SN3107_FOVx2_raw.hdr (55/58)\n",
      "Working on copying Z:\\fihyper\\Hyspex_Data\\2021\\BorealForest\\20210828-Kenai\\20210828-KN_14_VNIR_1800_SN00812_FOVx2_raw.hdr\n",
      "Completed copying Z:\\fihyper\\Hyspex_Data\\2021\\BorealForest\\20210828-Kenai\\20210828-KN_14_VNIR_1800_SN00812_FOVx2_raw.hdr (56/58)\n",
      "Working on copying Z:\\fihyper\\Hyspex_Data\\2021\\BorealForest\\20210828-Kenai\\20210828-KN.log\n",
      "Completed copying Z:\\fihyper\\Hyspex_Data\\2021\\BorealForest\\20210828-Kenai\\20210828-KN.log (57/58)\n",
      "Working on copying Z:\\fihyper\\Hyspex_Data\\2021\\BorealForest\\20210828-Kenai\\20210828-KN_2021-08-28T224652Z.gps\n",
      "Completed copying Z:\\fihyper\\Hyspex_Data\\2021\\BorealForest\\20210828-Kenai\\20210828-KN_2021-08-28T224652Z.gps (58/58)\n"
     ]
    }
   ],
   "source": [
    "for ii, fp in enumerate(hyspexfilepaths):\n",
    "    print(f\"Working on copying {fp}\")\n",
    "    try:\n",
    "        my_abs_path = (dst / Path(fp.parts[-1])).resolve(strict=True)\n",
    "    except FileNotFoundError:        \n",
    "        shutil.copy2(fp, dst)\n",
    "        print(f\"Completed copying {fp} ({ii+1}/{numfiles})\")\n",
    "    else:\n",
    "        print(f\"{fp} already exists. Not copying. ({ii+1}/{numfiles})\")\n"
   ]
  },
  {
   "cell_type": "markdown",
   "metadata": {},
   "source": [
    "### NEXT STEPS"
   ]
  },
  {
   "cell_type": "markdown",
   "metadata": {},
   "source": [
    "At this stage, go and run HySpex NAV and HySpex RAD on the files. It does not matter which you run first. \n",
    "\n",
    "Afterwards go and open the second notebook,[02 Convert HySpex GPS txt to GIS - post NAV.ipynb](02%20Convert%20HySpex%20GPS%20txt%20to%20GIS%20-%20post%20NAV.ipynb)"
   ]
  }
 ],
 "metadata": {
  "kernelspec": {
   "display_name": "Python 3",
   "language": "python",
   "name": "python3"
  },
  "language_info": {
   "codemirror_mode": {
    "name": "ipython",
    "version": 3
   },
   "file_extension": ".py",
   "mimetype": "text/x-python",
   "name": "python",
   "nbconvert_exporter": "python",
   "pygments_lexer": "ipython3",
   "version": "3.9.6"
  },
  "vscode": {
   "interpreter": {
    "hash": "31f2aee4e71d21fbe5cf8b01ff0e069b9275f58929596ceb00d14d90e3e16cd6"
   }
  }
 },
 "nbformat": 4,
 "nbformat_minor": 4
}
