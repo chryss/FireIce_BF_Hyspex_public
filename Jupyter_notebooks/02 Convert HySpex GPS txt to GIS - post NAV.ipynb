{
 "cells": [
  {
   "cell_type": "code",
   "execution_count": null,
   "metadata": {},
   "outputs": [],
   "source": [
    "%matplotlib inline\n",
    "from pathlib import Path\n",
    "import glob\n",
    "import pandas as pd\n",
    "import geopandas as gp\n",
    "from shapely.geometry import Point, LineString\n",
    "from fiona.crs import from_string\n",
    "from matplotlib import pyplot as plt"
   ]
  },
  {
   "cell_type": "markdown",
   "metadata": {},
   "source": [
    "### When to run this Notebook"
   ]
  },
  {
   "cell_type": "markdown",
   "metadata": {},
   "source": [
    "Just after running a) Notebook 01 and b) HySpex RAD and NAV. It assumes all the output files of NAV are in one single folder. "
   ]
  },
  {
   "cell_type": "markdown",
   "metadata": {},
   "source": [
    "### Initialize variables"
   ]
  },
  {
   "cell_type": "markdown",
   "metadata": {},
   "source": [
    "You should only have to change the variables in this section. Make code changes in subsequent sections only if you have special needs to adapt the code. Please enter the project directory for your processing project, and the prefix of your HySpex files. (That is, both HySpex NAV and RAD produce output files per flightline. The prefix is the string before the flightline number. For example, for the file `20200522-cal_01_SWIR_384me_SN3107_FOVx2_raw.txt` the prefix would be `20200522-cal`. Leave out the underscore. "
   ]
  },
  {
   "cell_type": "code",
   "execution_count": null,
   "metadata": {},
   "outputs": [],
   "source": [
    "projectdir = Path(r\"Z:\\fihyper\\cwaigl\\20210911_DC\")\n",
    "prefix = '20210911-DC'"
   ]
  },
  {
   "cell_type": "markdown",
   "metadata": {},
   "source": [
    "By default, this script only uses the VNIR GPS data to generate the GIS file. Change this if you want one flightline for each, VNIR and SWIR."
   ]
  },
  {
   "cell_type": "code",
   "execution_count": null,
   "metadata": {},
   "outputs": [],
   "source": [
    "VNIR_only = True"
   ]
  },
  {
   "cell_type": "markdown",
   "metadata": {},
   "source": [
    "### Check and load the gps data"
   ]
  },
  {
   "cell_type": "code",
   "execution_count": null,
   "metadata": {},
   "outputs": [
    {
     "name": "stdout",
     "output_type": "stream",
     "text": [
      "Data path exists: True\n",
      "There are 26 files to be processed.\n"
     ]
    }
   ],
   "source": [
    "datadir = projectdir / r'00_aux\\Software\\HySpex_NAV_20200402_latest'\n",
    "print(f\"Data path exists: {datadir.is_dir()}\")\n",
    "if VNIR_only:\n",
    "    datafiles = sorted(list(datadir.glob(f'{prefix}*VNIR*.txt')))\n",
    "else:\n",
    "    datafiles = sorted(list(datadir.glob(f'{prefix}*.txt')))\n",
    "print(f\"There are {len(datafiles)} files to be processed.\")"
   ]
  },
  {
   "cell_type": "markdown",
   "metadata": {},
   "source": [
    "(the meaning of the column is something like `header=['rowid', 'lon', 'lat', 'elev', 'roll', 'pitch', 'heading', 'timestamp', ]`)"
   ]
  },
  {
   "cell_type": "code",
   "execution_count": null,
   "metadata": {},
   "outputs": [],
   "source": [
    "headerfields = ['rowid', 'lon', 'lat', 'elev', 'roll', 'pitch', 'heading', 'timestamp', ]\n",
    "geodfs = []\n",
    "for fpath in datafiles:\n",
    "    datatable = pd.read_csv(fpath, sep='\\s+', header=None)\n",
    "    datatable.columns = headerfields\n",
    "    datatable = datatable[datatable.lat > 0]\n",
    "    datatable.iloc[::10, :]\n",
    "    geodf = gp.GeoDataFrame(\n",
    "    datatable, geometry=gp.points_from_xy(datatable.lon, datatable.lat))\n",
    "    geodfs.append(geodf)"
   ]
  },
  {
   "cell_type": "code",
   "execution_count": null,
   "metadata": {},
   "outputs": [
    {
     "data": {
      "text/html": [
       "<div>\n",
       "<style scoped>\n",
       "    .dataframe tbody tr th:only-of-type {\n",
       "        vertical-align: middle;\n",
       "    }\n",
       "\n",
       "    .dataframe tbody tr th {\n",
       "        vertical-align: top;\n",
       "    }\n",
       "\n",
       "    .dataframe thead th {\n",
       "        text-align: right;\n",
       "    }\n",
       "</style>\n",
       "<table border=\"1\" class=\"dataframe\">\n",
       "  <thead>\n",
       "    <tr style=\"text-align: right;\">\n",
       "      <th></th>\n",
       "      <th>rowid</th>\n",
       "      <th>lon</th>\n",
       "      <th>lat</th>\n",
       "      <th>elev</th>\n",
       "      <th>roll</th>\n",
       "      <th>pitch</th>\n",
       "      <th>heading</th>\n",
       "      <th>timestamp</th>\n",
       "      <th>geometry</th>\n",
       "    </tr>\n",
       "  </thead>\n",
       "  <tbody>\n",
       "    <tr>\n",
       "      <th>0</th>\n",
       "      <td>1</td>\n",
       "      <td>-150.498554</td>\n",
       "      <td>64.969388</td>\n",
       "      <td>2274.646596</td>\n",
       "      <td>-2.817537</td>\n",
       "      <td>-3.383573</td>\n",
       "      <td>188.389974</td>\n",
       "      <td>594217.078276</td>\n",
       "      <td>POINT (-150.49855 64.96939)</td>\n",
       "    </tr>\n",
       "    <tr>\n",
       "      <th>1</th>\n",
       "      <td>2</td>\n",
       "      <td>-150.498554</td>\n",
       "      <td>64.969382</td>\n",
       "      <td>2274.640953</td>\n",
       "      <td>-2.805596</td>\n",
       "      <td>-3.379071</td>\n",
       "      <td>188.393715</td>\n",
       "      <td>594217.090276</td>\n",
       "      <td>POINT (-150.49855 64.96938)</td>\n",
       "    </tr>\n",
       "    <tr>\n",
       "      <th>2</th>\n",
       "      <td>3</td>\n",
       "      <td>-150.498553</td>\n",
       "      <td>64.969377</td>\n",
       "      <td>2274.635638</td>\n",
       "      <td>-2.776459</td>\n",
       "      <td>-3.334469</td>\n",
       "      <td>188.391567</td>\n",
       "      <td>594217.102276</td>\n",
       "      <td>POINT (-150.49855 64.96938)</td>\n",
       "    </tr>\n",
       "    <tr>\n",
       "      <th>3</th>\n",
       "      <td>4</td>\n",
       "      <td>-150.498552</td>\n",
       "      <td>64.969371</td>\n",
       "      <td>2274.630368</td>\n",
       "      <td>-2.744449</td>\n",
       "      <td>-3.325957</td>\n",
       "      <td>188.394481</td>\n",
       "      <td>594217.114276</td>\n",
       "      <td>POINT (-150.49855 64.96937)</td>\n",
       "    </tr>\n",
       "    <tr>\n",
       "      <th>4</th>\n",
       "      <td>5</td>\n",
       "      <td>-150.498552</td>\n",
       "      <td>64.969365</td>\n",
       "      <td>2274.624872</td>\n",
       "      <td>-2.725295</td>\n",
       "      <td>-3.358503</td>\n",
       "      <td>188.390550</td>\n",
       "      <td>594217.126275</td>\n",
       "      <td>POINT (-150.49855 64.96936)</td>\n",
       "    </tr>\n",
       "    <tr>\n",
       "      <th>...</th>\n",
       "      <td>...</td>\n",
       "      <td>...</td>\n",
       "      <td>...</td>\n",
       "      <td>...</td>\n",
       "      <td>...</td>\n",
       "      <td>...</td>\n",
       "      <td>...</td>\n",
       "      <td>...</td>\n",
       "      <td>...</td>\n",
       "    </tr>\n",
       "    <tr>\n",
       "      <th>23658</th>\n",
       "      <td>23659</td>\n",
       "      <td>-150.500947</td>\n",
       "      <td>64.827107</td>\n",
       "      <td>2252.978378</td>\n",
       "      <td>-2.042293</td>\n",
       "      <td>-4.238844</td>\n",
       "      <td>188.772727</td>\n",
       "      <td>594500.969484</td>\n",
       "      <td>POINT (-150.50095 64.82711)</td>\n",
       "    </tr>\n",
       "    <tr>\n",
       "      <th>23659</th>\n",
       "      <td>23660</td>\n",
       "      <td>-150.500947</td>\n",
       "      <td>64.827101</td>\n",
       "      <td>2252.966792</td>\n",
       "      <td>-2.045754</td>\n",
       "      <td>-4.207064</td>\n",
       "      <td>188.770981</td>\n",
       "      <td>594500.981483</td>\n",
       "      <td>POINT (-150.50095 64.82710)</td>\n",
       "    </tr>\n",
       "    <tr>\n",
       "      <th>23660</th>\n",
       "      <td>23661</td>\n",
       "      <td>-150.500947</td>\n",
       "      <td>64.827095</td>\n",
       "      <td>2252.955047</td>\n",
       "      <td>-2.043833</td>\n",
       "      <td>-4.218023</td>\n",
       "      <td>188.764907</td>\n",
       "      <td>594500.993483</td>\n",
       "      <td>POINT (-150.50095 64.82709)</td>\n",
       "    </tr>\n",
       "    <tr>\n",
       "      <th>23661</th>\n",
       "      <td>23662</td>\n",
       "      <td>-150.500948</td>\n",
       "      <td>64.827089</td>\n",
       "      <td>2252.943002</td>\n",
       "      <td>-2.062213</td>\n",
       "      <td>-4.256115</td>\n",
       "      <td>188.760812</td>\n",
       "      <td>594501.005483</td>\n",
       "      <td>POINT (-150.50095 64.82709)</td>\n",
       "    </tr>\n",
       "    <tr>\n",
       "      <th>23662</th>\n",
       "      <td>23663</td>\n",
       "      <td>-150.500948</td>\n",
       "      <td>64.827083</td>\n",
       "      <td>2252.931076</td>\n",
       "      <td>-2.080218</td>\n",
       "      <td>-4.253067</td>\n",
       "      <td>188.760236</td>\n",
       "      <td>594501.017483</td>\n",
       "      <td>POINT (-150.50095 64.82708)</td>\n",
       "    </tr>\n",
       "  </tbody>\n",
       "</table>\n",
       "<p>23663 rows × 9 columns</p>\n",
       "</div>"
      ],
      "text/plain": [
       "       rowid         lon        lat         elev      roll     pitch  \\\n",
       "0          1 -150.498554  64.969388  2274.646596 -2.817537 -3.383573   \n",
       "1          2 -150.498554  64.969382  2274.640953 -2.805596 -3.379071   \n",
       "2          3 -150.498553  64.969377  2274.635638 -2.776459 -3.334469   \n",
       "3          4 -150.498552  64.969371  2274.630368 -2.744449 -3.325957   \n",
       "4          5 -150.498552  64.969365  2274.624872 -2.725295 -3.358503   \n",
       "...      ...         ...        ...          ...       ...       ...   \n",
       "23658  23659 -150.500947  64.827107  2252.978378 -2.042293 -4.238844   \n",
       "23659  23660 -150.500947  64.827101  2252.966792 -2.045754 -4.207064   \n",
       "23660  23661 -150.500947  64.827095  2252.955047 -2.043833 -4.218023   \n",
       "23661  23662 -150.500948  64.827089  2252.943002 -2.062213 -4.256115   \n",
       "23662  23663 -150.500948  64.827083  2252.931076 -2.080218 -4.253067   \n",
       "\n",
       "          heading      timestamp                     geometry  \n",
       "0      188.389974  594217.078276  POINT (-150.49855 64.96939)  \n",
       "1      188.393715  594217.090276  POINT (-150.49855 64.96938)  \n",
       "2      188.391567  594217.102276  POINT (-150.49855 64.96938)  \n",
       "3      188.394481  594217.114276  POINT (-150.49855 64.96937)  \n",
       "4      188.390550  594217.126275  POINT (-150.49855 64.96936)  \n",
       "...           ...            ...                          ...  \n",
       "23658  188.772727  594500.969484  POINT (-150.50095 64.82711)  \n",
       "23659  188.770981  594500.981483  POINT (-150.50095 64.82710)  \n",
       "23660  188.764907  594500.993483  POINT (-150.50095 64.82709)  \n",
       "23661  188.760812  594501.005483  POINT (-150.50095 64.82709)  \n",
       "23662  188.760236  594501.017483  POINT (-150.50095 64.82708)  \n",
       "\n",
       "[23663 rows x 9 columns]"
      ]
     },
     "execution_count": 29,
     "metadata": {},
     "output_type": "execute_result"
    }
   ],
   "source": [
    "geodfs[0]"
   ]
  },
  {
   "cell_type": "code",
   "execution_count": null,
   "metadata": {},
   "outputs": [
    {
     "data": {
      "text/plain": [
       "<matplotlib.axes._subplots.AxesSubplot at 0x1a95afea708>"
      ]
     },
     "execution_count": 30,
     "metadata": {},
     "output_type": "execute_result"
    },
    {
     "data": {
      "image/png": "[encoded data removed]",
      "text/plain": [
       "<Figure size 432x288 with 1 Axes>"
      ]
     },
     "metadata": {
      "needs_background": "light"
     },
     "output_type": "display_data"
    }
   ],
   "source": [
    "geodfs[0].plot()"
   ]
  },
  {
   "cell_type": "code",
   "execution_count": null,
   "metadata": {},
   "outputs": [],
   "source": [
    "flightlines = [LineString(geodf['geometry'].tolist()) for geodf in geodfs] \n",
    "flightseries = gp.GeoSeries(flightlines[1:])"
   ]
  },
  {
   "cell_type": "code",
   "execution_count": null,
   "metadata": {},
   "outputs": [],
   "source": [
    "startpoints = [(flightline.boundary[0].x, flightline.boundary[0].y) for flightline in flightseries]"
   ]
  },
  {
   "cell_type": "code",
   "execution_count": null,
   "metadata": {},
   "outputs": [
    {
     "data": {
      "image/png": "[encoded data removed]",
      "text/plain": [
       "<Figure size 432x288 with 1 Axes>"
      ]
     },
     "metadata": {
      "needs_background": "light"
     },
     "output_type": "display_data"
    }
   ],
   "source": [
    "ax = flightseries.plot()\n",
    "plt.xticks(rotation=90)\n",
    "for idx, (x, y) in enumerate(startpoints):\n",
    "    ax.annotate(str(idx+1), xy=(x, y), xytext=(1, 3), textcoords=\"offset points\")"
   ]
  },
  {
   "cell_type": "code",
   "execution_count": null,
   "metadata": {},
   "outputs": [],
   "source": [
    "wgs84_crs = from_string(\"+datum=WGS84 +ellps=WGS84 +no_defs +proj=longlat\")\n",
    "flightseries.crs = wgs84_crs"
   ]
  },
  {
   "cell_type": "code",
   "execution_count": null,
   "metadata": {},
   "outputs": [],
   "source": [
    "flightlinedir = os.path.join(projectdir, '00_aux\\GIS\\Flightline')\n",
    "if not os.path.exists(flightlinedir):\n",
    "    os.makedirs(flightlinedir)\n",
    "flightseries.to_file(os.path.join(flightlinedir, prefix + \".shp\"), driver=\"ESRI Shapefile\")"
   ]
  },
  {
   "cell_type": "markdown",
   "metadata": {},
   "source": [
    "### NEXT STEPS"
   ]
  },
  {
   "cell_type": "markdown",
   "metadata": {},
   "source": [
    "Now you can run the third notebook, [03 Create and populate folders per-flightline.ipynb](03%20Create%20and%20populate%20folders%20per-flightline.ipynb), to create per-flightline folders and move all NAV and RAD files into them. "
   ]
  },
  {
   "cell_type": "markdown",
   "metadata": {},
   "source": [
    "### APPENDIX: Retrofitting flightlines"
   ]
  },
  {
   "cell_type": "markdown",
   "metadata": {},
   "source": [
    "The following code is in case the individual NAV output files are _no longer_ available in a single directory. For example, if you've already distributed the NAV files in the flightline directories, you can generate a global GIS file in the following manner. \n",
    "\n",
    "Prerequisite: The variables `projectdir`, `prefix` and `VNIR_only` are set. "
   ]
  },
  {
   "cell_type": "code",
   "execution_count": null,
   "metadata": {},
   "outputs": [],
   "source": [
    "if VNIR_only:\n",
    "    datafiles = sorted(glob.glob(os.path.abspath(os.path.join(projectdir, f'{prefix}_*', 'NAV', '*VNIR*.txt'))))\n",
    "else:\n",
    "    datafiles = sorted(glob.glob(os.path.abspath(os.path.join(projectdir, f'{prefix}_*', 'NAV', '*.txt'))))\n",
    "print(f\"There are {len(datafiles)} files to be processed.\")"
   ]
  },
  {
   "cell_type": "markdown",
   "metadata": {},
   "source": [
    "... and then return to the code above."
   ]
  }
 ],
 "metadata": {
  "kernelspec": {
   "display_name": "Python 3",
   "language": "python",
   "name": "python3"
  },
  "language_info": {
   "codemirror_mode": {
    "name": "ipython",
    "version": 3
   },
   "file_extension": ".py",
   "mimetype": "text/x-python",
   "name": "python",
   "nbconvert_exporter": "python",
   "pygments_lexer": "ipython3"
  }
 },
 "nbformat": 4,
 "nbformat_minor": 4
}
