{
 "cells": [
  {
   "cell_type": "code",
   "execution_count": null,
   "metadata": {},
   "outputs": [],
   "source": [
    "import shutil\n",
    "from pathlib import Path"
   ]
  },
  {
   "cell_type": "markdown",
   "metadata": {},
   "source": [
    "Enter the paths of the folders where your files are: The NAV and RAD files, as well as the root of your project folder. "
   ]
  },
  {
   "cell_type": "code",
   "execution_count": null,
   "metadata": {},
   "outputs": [],
   "source": [
    "projectdir = Path(r\"D:\\cw_scratch\\20210702-FX\")\n",
    "prefix = '20210702-FX'"
   ]
  },
  {
   "cell_type": "code",
   "execution_count": null,
   "metadata": {},
   "outputs": [],
   "source": [
    "NAV_files_folder = (projectdir / \"00_aux/Software/HySpex_NAV_20200402_latest\").resolve()\n",
    "RAD_files_folder = (projectdir / \"x0_tmp\").resolve()\n",
    "#NAV_files_folder = Path(\"D:\\\\cw_scratch\\\\hyspexproc_02\")\n",
    "#RAD_files_folder = NAV_files_folder"
   ]
  },
  {
   "cell_type": "code",
   "execution_count": null,
   "metadata": {},
   "outputs": [],
   "source": [
    "NAV_files_folder.exists(), RAD_files_folder.exists()"
   ]
  },
  {
   "cell_type": "code",
   "execution_count": null,
   "metadata": {},
   "outputs": [],
   "source": [
    "NAV_paths = sorted(NAV_files_folder.glob('*_raw.txt'))\n",
    "NAV_files = [item.name for item in NAV_paths]"
   ]
  },
  {
   "cell_type": "code",
   "execution_count": null,
   "metadata": {},
   "outputs": [],
   "source": [
    "NAV_files"
   ]
  },
  {
   "cell_type": "code",
   "execution_count": null,
   "metadata": {},
   "outputs": [],
   "source": [
    "numflightlines = len(NAV_paths)/2\n",
    "if numflightlines != int(numflightlines):\n",
    "    print(\"Not an even number of NAV files - incomplete set - please set numflightlines manually\")"
   ]
  },
  {
   "cell_type": "markdown",
   "metadata": {},
   "source": [
    "The following subdirectories will be created inside each flightline folder. If the dataset is to be used for boresight calibration, you might want to uncomment some of the following lines."
   ]
  },
  {
   "cell_type": "code",
   "execution_count": null,
   "metadata": {},
   "outputs": [],
   "source": [
    "subdirs = [\n",
    "    'ATCOR',\n",
    "    'BREFCOR',\n",
    "#    'Boresight_auto',\n",
    "#    'Boresight_cross',\n",
    "#    'Boresight_manual',\n",
    "    'ELE',\n",
    "    'NAV',\n",
    "    'postprocessing',\n",
    "#    'Parge_for_boresight_RGB',\n",
    "#    'Parge_no_offsets',\n",
    "    'PARGE',\n",
    "    'RAD',\n",
    "]"
   ]
  },
  {
   "cell_type": "code",
   "execution_count": null,
   "metadata": {},
   "outputs": [],
   "source": [
    "for idx in range(1, int(numflightlines)+1):\n",
    "    label = str(idx).zfill(2)\n",
    "    newdir = (projectdir / f\"{prefix}_{label}\")\n",
    "    paths = [\n",
    "    (newdir / subdir) for subdir in subdirs\n",
    "    ]\n",
    "    for pth in paths:\n",
    "        pth.mkdir(parents=True, exist_ok=True)\n",
    "    print(f\"Working on copying files into {newdir} ({idx}/{int(numflightlines)})\")\n",
    "    shutil.copy2(\n",
    "        (NAV_files_folder / f\"{prefix}_{label}_VNIR_1800_SN00812_FOVx2_raw.txt\"),\n",
    "        (newdir / 'NAV' / f\"{prefix}_{label}_VNIR_1800_SN00812_FOVx2_raw.txt\")\n",
    "    )\n",
    "    shutil.copy2(\n",
    "        (NAV_files_folder / f\"{prefix}_{label}_SWIR_384me_SN3107_FOVx2_raw.txt\"),\n",
    "        (newdir / 'NAV' / f\"{prefix}_{label}_SWIR_384me_SN3107_FOVx2_raw.txt\")\n",
    "    )\n",
    "    for fp in RAD_files_folder.glob(f\"{prefix}_{label}*\"):\n",
    "        shutil.move(str(fp), str(newdir / 'RAD'))\n",
    "    "
   ]
  }
 ],
 "metadata": {
  "kernelspec": {
   "display_name": "Python 3",
   "language": "python",
   "name": "python3"
  },
  "language_info": {
   "codemirror_mode": {
    "name": "ipython",
    "version": 3
   },
   "file_extension": ".py",
   "mimetype": "text/x-python",
   "name": "python",
   "nbconvert_exporter": "python",
   "pygments_lexer": "ipython3"
  }
 },
 "nbformat": 4,
 "nbformat_minor": 2
}
