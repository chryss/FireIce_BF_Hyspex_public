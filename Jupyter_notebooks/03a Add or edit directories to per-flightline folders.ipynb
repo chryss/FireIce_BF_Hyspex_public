{
 "cells": [
  {
   "cell_type": "code",
   "execution_count": null,
   "metadata": {},
   "outputs": [],
   "source": [
    "import os\n",
    "from pathlib import Path"
   ]
  },
  {
   "cell_type": "markdown",
   "metadata": {},
   "source": [
    "### When should you run this notebook?"
   ]
  },
  {
   "cell_type": "markdown",
   "metadata": {},
   "source": [
    "In Notebook 03 you created per-flightline floders under the project folder, with an initial set of subdirectories. Sometimes it becomes necessary later to add (or rename, or delete) folders. "
   ]
  },
  {
   "cell_type": "code",
   "execution_count": null,
   "metadata": {},
   "outputs": [],
   "source": [
    "datestr = '20210914'\n",
    "sitelabel = 'MC'\n",
    "dirprefix = f'{datestr}-{sitelabel}'\n",
    "fnprefix = f'{datestr}_{sitelabel}'\n",
    "projectdir = f\"Z:\\\\fihyper\\\\cwaigl\\\\{fnprefix}\""
   ]
  },
  {
   "cell_type": "code",
   "execution_count": null,
   "metadata": {},
   "outputs": [],
   "source": [
    "os.chdir(projectdir)"
   ]
  },
  {
   "cell_type": "code",
   "execution_count": null,
   "metadata": {},
   "outputs": [
    {
     "data": {
      "text/plain": [
       "['20210914-MC_01',\n",
       " '20210914-MC_02',\n",
       " '20210914-MC_03',\n",
       " '20210914-MC_04',\n",
       " '20210914-MC_05',\n",
       " '20210914-MC_06',\n",
       " '20210914-MC_07',\n",
       " '20210914-MC_08',\n",
       " '20210914-MC_09',\n",
       " '20210914-MC_10',\n",
       " '20210914-MC_11',\n",
       " '20210914-MC_12',\n",
       " '20210914-MC_13',\n",
       " '20210914-MC_14',\n",
       " '20210914-MC_15',\n",
       " '20210914-MC_16',\n",
       " '20210914-MC_17',\n",
       " '20210914-MC_18',\n",
       " '20210914-MC_19',\n",
       " '20210914-MC_20',\n",
       " '20210914-MC_21']"
      ]
     },
     "execution_count": 4,
     "metadata": {},
     "output_type": "execute_result"
    }
   ],
   "source": [
    "flightlines = [nm for nm in os.listdir() if nm.startswith(dirprefix)]\n",
    "flightlines"
   ]
  },
  {
   "cell_type": "markdown",
   "metadata": {},
   "source": [
    "#### Add directories to every flightline directory"
   ]
  },
  {
   "cell_type": "code",
   "execution_count": null,
   "metadata": {},
   "outputs": [],
   "source": [
    "newdirnames = ['ELE']"
   ]
  },
  {
   "cell_type": "code",
   "execution_count": null,
   "metadata": {},
   "outputs": [
    {
     "name": "stdout",
     "output_type": "stream",
     "text": [
      "created 20210914-MC_01\\ELE\n",
      "created 20210914-MC_02\\ELE\n",
      "created 20210914-MC_03\\ELE\n",
      "created 20210914-MC_04\\ELE\n",
      "created 20210914-MC_05\\ELE\n",
      "created 20210914-MC_06\\ELE\n",
      "created 20210914-MC_07\\ELE\n",
      "created 20210914-MC_08\\ELE\n",
      "created 20210914-MC_09\\ELE\n",
      "created 20210914-MC_10\\ELE\n",
      "created 20210914-MC_11\\ELE\n",
      "created 20210914-MC_12\\ELE\n",
      "created 20210914-MC_13\\ELE\n",
      "created 20210914-MC_14\\ELE\n",
      "created 20210914-MC_15\\ELE\n",
      "created 20210914-MC_16\\ELE\n",
      "created 20210914-MC_17\\ELE\n",
      "created 20210914-MC_18\\ELE\n",
      "created 20210914-MC_19\\ELE\n",
      "created 20210914-MC_20\\ELE\n",
      "created 20210914-MC_21\\ELE\n"
     ]
    }
   ],
   "source": [
    "for fl in flightlines:\n",
    "    for dirname in newdirnames:\n",
    "        tmp = os.path.join(fl, dirname)\n",
    "        Path(tmp).mkdir(parents=True, exist_ok=True)\n",
    "        print(f\"created {tmp}\")"
   ]
  },
  {
   "cell_type": "markdown",
   "metadata": {},
   "source": [
    "----"
   ]
  },
  {
   "cell_type": "markdown",
   "metadata": {},
   "source": [
    "Example of renaming"
   ]
  },
  {
   "cell_type": "code",
   "execution_count": null,
   "metadata": {},
   "outputs": [],
   "source": [
    "datestr = '20200710'\n",
    "sitelabel = 'CPC'\n",
    "dirprefix = f'{datestr}-{sitelabel}'\n",
    "fnprefix = f'{datestr}_{sitelabel}'\n",
    "projectdir = Path(f\"Z:\\\\fihyper\\\\cwaigl\\\\{fnprefix}\")\n",
    "#subdirs = ['Parge_with_offsets', 'ATCOR-1130']\n",
    "subdirs = ['ATCOR']"
   ]
  },
  {
   "cell_type": "code",
   "execution_count": null,
   "metadata": {},
   "outputs": [
    {
     "name": "stdout",
     "output_type": "stream",
     "text": [
      "Z:\\fihyper\\cwaigl\\20200710_CPC\\20200710-CPC_01\\ATCOR\\20200710-CPC_01_vnir_swir_supercube_geo.inn exists. Passing on.\n",
      "Z:\\fihyper\\cwaigl\\20200710_CPC\\20200710-CPC_02\\ATCOR\\20200710-CPC_02_VNIR_SWIR_supercube_geo.bsq exists. Passing on.\n",
      "Z:\\fihyper\\cwaigl\\20200710_CPC\\20200710-CPC_02\\ATCOR\\20200710-CPC_02_VNIR_SWIR_supercube_geo.hdr exists. Passing on.\n",
      "Z:\\fihyper\\cwaigl\\20200710_CPC\\20200710-CPC_03\\ATCOR\\20200710-CPC_03_VNIR_SWIR_supercube_geo.bsq exists. Passing on.\n",
      "Z:\\fihyper\\cwaigl\\20200710_CPC\\20200710-CPC_03\\ATCOR\\20200710-CPC_03_VNIR_SWIR_supercube_geo.hdr exists. Passing on.\n",
      "Z:\\fihyper\\cwaigl\\20200710_CPC\\20200710-CPC_04\\ATCOR\\20200710-CPC_04_VNIR_SWIR_supercube_geo.bsq exists. Passing on.\n",
      "Z:\\fihyper\\cwaigl\\20200710_CPC\\20200710-CPC_04\\ATCOR\\20200710-CPC_04_VNIR_SWIR_supercube_geo.hdr exists. Passing on.\n",
      "Z:\\fihyper\\cwaigl\\20200710_CPC\\20200710-CPC_08\\ATCOR\\20200710-CPC_08_VNIR_SWIR_supercube_geo.bsq exists. Passing on.\n",
      "Z:\\fihyper\\cwaigl\\20200710_CPC\\20200710-CPC_08\\ATCOR\\20200710-CPC_08_VNIR_SWIR_supercube_geo.hdr exists. Passing on.\n",
      "Z:\\fihyper\\cwaigl\\20200710_CPC\\20200710-CPC_12\\ATCOR\\20200710-CPC_12_vnir_swir_supercube_geo.inn exists. Passing on.\n"
     ]
    }
   ],
   "source": [
    "testing = False\n",
    "for pth in projectdir.glob(f'{datestr}-{sitelabel}_*'):\n",
    "    for subdir in subdirs: \n",
    "        for fn in (pth / subdir ).glob('*'):\n",
    "            if testing: \n",
    "#                if ('SWIR_geo' in str(fn)):\n",
    "#                    print(fn, fn.parent / fn.name.replace('SWIR_geo', 'SWIR_rad_geo'))\n",
    "#                print(fn.parent / fn.name.replace(\n",
    "#                    '_float32', '').replace('_raw', '').replace('_bsq', ''))\n",
    "                print(fn.parent / fn.name.replace(\n",
    "                    'supercube_geo', 'supercube_masked_geo').replace('vnir_swir', 'VNIR_SWIR'))\n",
    "            else:\n",
    "                try:\n",
    "                    fn.rename(fn.parent / fn.name.replace(\n",
    "                    'supercube_geo', 'supercube_masked_geo').replace('vnir_swir', 'VNIR_SWIR'))\n",
    "#                    fn.rename(fn.parent / fn.name.replace(\n",
    "#                    '_float32', '').replace('_raw', '').replace('_bsq', ''))\n",
    "                except FileExistsError:\n",
    "                    print(f\"{fn} exists. Passing on.\")"
   ]
  },
  {
   "cell_type": "markdown",
   "metadata": {},
   "source": [
    "----"
   ]
  },
  {
   "cell_type": "markdown",
   "metadata": {},
   "source": [
    "Copying files"
   ]
  },
  {
   "cell_type": "code",
   "execution_count": null,
   "metadata": {},
   "outputs": [],
   "source": [
    "import shutil"
   ]
  },
  {
   "cell_type": "code",
   "execution_count": null,
   "metadata": {},
   "outputs": [],
   "source": [
    "datestr = '20200710'\n",
    "sitelabel = 'CPC'\n",
    "dirprefix = f'{datestr}-{sitelabel}'\n",
    "fnprefix = f'{datestr}_{sitelabel}'\n",
    "projectdir = Path(f\"Z:\\\\fihyper\\\\cwaigl\\\\{fnprefix}\")\n",
    "fromsubdir = 'ATCOR' \n",
    "tosubdir = 'ATCOR-1130'\n",
    "patterns = ['*_geo.inn', '*_ilu.bsq', '*_ilu.hdr', '*_supercube_masked_geo_sca.hdr', '*_supercube_masked_geo_sca.bsq', ] "
   ]
  },
  {
   "cell_type": "code",
   "execution_count": null,
   "metadata": {},
   "outputs": [
    {
     "name": "stdout",
     "output_type": "stream",
     "text": [
      "Copying Z:\\fihyper\\cwaigl\\20200710_CPC\\20200710-CPC_01\\ATCOR\\20200710-CPC_01_VNIR_SWIR_supercube_masked_geo.inn\n",
      "Copying Z:\\fihyper\\cwaigl\\20200710_CPC\\20200710-CPC_01\\ATCOR\\20200710-CPC_01_vnir_swir_supercube_geo.inn\n",
      "Copying Z:\\fihyper\\cwaigl\\20200710_CPC\\20200710-CPC_01\\ATCOR\\20200710-CPC_01_VNIR_SWIR_supercube_masked_geo_ilu.bsq\n",
      "Copying Z:\\fihyper\\cwaigl\\20200710_CPC\\20200710-CPC_01\\ATCOR\\20200710-CPC_01_VNIR_SWIR_supercube_masked_geo_ilu.hdr\n",
      "Copying Z:\\fihyper\\cwaigl\\20200710_CPC\\20200710-CPC_01\\ATCOR\\20200710-CPC_01_VNIR_SWIR_supercube_masked_geo_sca.hdr\n",
      "Copying Z:\\fihyper\\cwaigl\\20200710_CPC\\20200710-CPC_01\\ATCOR\\20200710-CPC_01_VNIR_SWIR_supercube_masked_geo_sca.bsq\n",
      "Copying Z:\\fihyper\\cwaigl\\20200710_CPC\\20200710-CPC_02\\ATCOR\\20200710-CPC_02_VNIR_SWIR_supercube_masked_geo_sca.hdr\n",
      "Copying Z:\\fihyper\\cwaigl\\20200710_CPC\\20200710-CPC_02\\ATCOR\\20200710-CPC_02_VNIR_SWIR_supercube_masked_geo_sca.bsq\n",
      "Copying Z:\\fihyper\\cwaigl\\20200710_CPC\\20200710-CPC_03\\ATCOR\\20200710-CPC_03_VNIR_SWIR_supercube_masked_geo_sca.hdr\n",
      "Copying Z:\\fihyper\\cwaigl\\20200710_CPC\\20200710-CPC_03\\ATCOR\\20200710-CPC_03_VNIR_SWIR_supercube_masked_geo_sca.bsq\n",
      "Copying Z:\\fihyper\\cwaigl\\20200710_CPC\\20200710-CPC_04\\ATCOR\\20200710-CPC_04_VNIR_SWIR_supercube_masked_geo_sca.hdr\n",
      "Copying Z:\\fihyper\\cwaigl\\20200710_CPC\\20200710-CPC_04\\ATCOR\\20200710-CPC_04_VNIR_SWIR_supercube_masked_geo_sca.bsq\n",
      "Copying Z:\\fihyper\\cwaigl\\20200710_CPC\\20200710-CPC_05\\ATCOR\\20200710-CPC_05_VNIR_SWIR_supercube_masked_geo_sca.hdr\n",
      "Copying Z:\\fihyper\\cwaigl\\20200710_CPC\\20200710-CPC_05\\ATCOR\\20200710-CPC_05_VNIR_SWIR_supercube_masked_geo_sca.bsq\n",
      "Copying Z:\\fihyper\\cwaigl\\20200710_CPC\\20200710-CPC_06\\ATCOR\\20200710-CPC_06_VNIR_SWIR_supercube_masked_geo_sca.hdr\n",
      "Copying Z:\\fihyper\\cwaigl\\20200710_CPC\\20200710-CPC_06\\ATCOR\\20200710-CPC_06_VNIR_SWIR_supercube_masked_geo_sca.bsq\n",
      "Copying Z:\\fihyper\\cwaigl\\20200710_CPC\\20200710-CPC_07\\ATCOR\\20200710-CPC_07_VNIR_SWIR_supercube_masked_geo_sca.hdr\n",
      "Copying Z:\\fihyper\\cwaigl\\20200710_CPC\\20200710-CPC_07\\ATCOR\\20200710-CPC_07_VNIR_SWIR_supercube_masked_geo_sca.bsq\n",
      "Copying Z:\\fihyper\\cwaigl\\20200710_CPC\\20200710-CPC_08\\ATCOR\\20200710-CPC_08_VNIR_SWIR_supercube_masked_geo_sca.hdr\n",
      "Copying Z:\\fihyper\\cwaigl\\20200710_CPC\\20200710-CPC_08\\ATCOR\\20200710-CPC_08_VNIR_SWIR_supercube_masked_geo_sca.bsq\n",
      "Copying Z:\\fihyper\\cwaigl\\20200710_CPC\\20200710-CPC_09\\ATCOR\\20200710-CPC_09_VNIR_SWIR_supercube_masked_geo_sca.hdr\n",
      "Copying Z:\\fihyper\\cwaigl\\20200710_CPC\\20200710-CPC_09\\ATCOR\\20200710-CPC_09_VNIR_SWIR_supercube_masked_geo_sca.bsq\n",
      "Copying Z:\\fihyper\\cwaigl\\20200710_CPC\\20200710-CPC_10\\ATCOR\\20200710-CPC_10_VNIR_SWIR_supercube_masked_geo_sca.hdr\n",
      "Copying Z:\\fihyper\\cwaigl\\20200710_CPC\\20200710-CPC_10\\ATCOR\\20200710-CPC_10_VNIR_SWIR_supercube_masked_geo_sca.bsq\n",
      "Copying Z:\\fihyper\\cwaigl\\20200710_CPC\\20200710-CPC_11\\ATCOR\\20200710-CPC_11_VNIR_SWIR_supercube_masked_geo_sca.bsq\n",
      "Copying Z:\\fihyper\\cwaigl\\20200710_CPC\\20200710-CPC_12\\ATCOR\\20200710-CPC_12_VNIR_SWIR_supercube_masked_geo_sca.bsq\n",
      "Copying Z:\\fihyper\\cwaigl\\20200710_CPC\\20200710-CPC_13\\ATCOR\\20200710-CPC_13_VNIR_SWIR_supercube_masked_geo_sca.bsq\n",
      "Copying Z:\\fihyper\\cwaigl\\20200710_CPC\\20200710-CPC_14\\ATCOR\\20200710-CPC_14_VNIR_SWIR_supercube_masked_geo_sca.bsq\n"
     ]
    }
   ],
   "source": [
    "testing = False\n",
    "for pth in projectdir.glob(f'{datestr}-{sitelabel}_*'):\n",
    "    for patt in patterns: \n",
    "        for fn in (pth / fromsubdir ).glob(patt):\n",
    "            if not (pth / tosubdir / fn.name).exists():\n",
    "                if testing:\n",
    "                    print(f\"Copying {fn} to {pth / tosubdir}\")\n",
    "                else:\n",
    "                    print(f\"Copying {fn}\")\n",
    "                    shutil.copy2(fn, pth / tosubdir)"
   ]
  }
 ],
 "metadata": {
  "kernelspec": {
   "display_name": "Python 3",
   "language": "python",
   "name": "python3"
  },
  "language_info": {
   "codemirror_mode": {
    "name": "ipython",
    "version": 3
   },
   "file_extension": ".py",
   "mimetype": "text/x-python",
   "name": "python",
   "nbconvert_exporter": "python",
   "pygments_lexer": "ipython3"
  }
 },
 "nbformat": 4,
 "nbformat_minor": 4
}
