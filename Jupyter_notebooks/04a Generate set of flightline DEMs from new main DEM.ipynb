{
 "cells": [
  {
   "cell_type": "code",
   "execution_count": null,
   "metadata": {},
   "outputs": [],
   "source": [
    "import os\n",
    "from osgeo import gdal"
   ]
  },
  {
   "cell_type": "code",
   "execution_count": null,
   "metadata": {},
   "outputs": [],
   "source": [
    "projectdir = \"Z:\\\\fihyper\\\\cwaigl\\\\20200710_CPC\"\n",
    "dem_subdir = \"01_inputs\\\\DEM\"\n",
    "newmainDEM = \"IFSAR_crop_1m_cubic_main.bsq\""
   ]
  },
  {
   "cell_type": "code",
   "execution_count": null,
   "metadata": {},
   "outputs": [],
   "source": [
    "os.chdir(projectdir)"
   ]
  },
  {
   "cell_type": "code",
   "execution_count": null,
   "metadata": {},
   "outputs": [
    {
     "data": {
      "text/plain": [
       "['00_aux',\n",
       " '01_inputs',\n",
       " '02_intermediate',\n",
       " '03_products',\n",
       " 'x0_tmp',\n",
       " '20200710-CPC_01',\n",
       " '20200710-CPC_02',\n",
       " '20200710-CPC_03',\n",
       " '20200710-CPC_04',\n",
       " '20200710-CPC_05',\n",
       " '20200710-CPC_06',\n",
       " '20200710-CPC_07',\n",
       " '20200710-CPC_08',\n",
       " '20200710-CPC_09',\n",
       " '20200710-CPC_10',\n",
       " '20200710-CPC_11',\n",
       " '20200710-CPC_12',\n",
       " '20200710-CPC_13',\n",
       " '20200710-CPC_14']"
      ]
     },
     "execution_count": 12,
     "metadata": {},
     "output_type": "execute_result"
    }
   ],
   "source": [
    "os.listdir()"
   ]
  },
  {
   "cell_type": "code",
   "execution_count": null,
   "metadata": {},
   "outputs": [
    {
     "data": {
      "text/plain": [
       "['20200710-CPC_01',\n",
       " '20200710-CPC_02',\n",
       " '20200710-CPC_03',\n",
       " '20200710-CPC_04',\n",
       " '20200710-CPC_05',\n",
       " '20200710-CPC_06',\n",
       " '20200710-CPC_07',\n",
       " '20200710-CPC_08',\n",
       " '20200710-CPC_09',\n",
       " '20200710-CPC_10',\n",
       " '20200710-CPC_11',\n",
       " '20200710-CPC_12',\n",
       " '20200710-CPC_13',\n",
       " '20200710-CPC_14']"
      ]
     },
     "execution_count": 24,
     "metadata": {},
     "output_type": "execute_result"
    }
   ],
   "source": [
    "dirprefix = '20200710-CPC'\n",
    "fnprefix = '20200710_CPC'\n",
    "flightlines = [nm for nm in os.listdir() if nm.startswith(dirprefix)]\n",
    "flightlines"
   ]
  },
  {
   "cell_type": "markdown",
   "metadata": {},
   "source": [
    "### Exploration "
   ]
  },
  {
   "cell_type": "code",
   "execution_count": null,
   "metadata": {},
   "outputs": [],
   "source": [
    "lineno = '01'"
   ]
  },
  {
   "cell_type": "code",
   "execution_count": null,
   "metadata": {},
   "outputs": [],
   "source": [
    "ds_newmain = gdal.Open(os.path.join(dem_subdir, newmainDEM))\n",
    "ds = gdal.Open(os.path.join(flightlines[0], 'ELE', f'{fnprefix}_{lineno}_ELE.bsq'))"
   ]
  },
  {
   "cell_type": "code",
   "execution_count": null,
   "metadata": {},
   "outputs": [
    {
     "data": {
      "text/plain": [
       "'20200710-CPC_01\\\\ELE\\\\20200710_CPC_01_ELE.bsq'"
      ]
     },
     "execution_count": 31,
     "metadata": {},
     "output_type": "execute_result"
    }
   ],
   "source": [
    "os.path.join(flightlines[0], 'ELE', f'{fnprefix}_{lineno}_ELE.bsq')"
   ]
  },
  {
   "cell_type": "code",
   "execution_count": null,
   "metadata": {},
   "outputs": [
    {
     "data": {
      "text/plain": [
       "(483599.5, 1.0, -0.0, 7236250.5, -0.0, -1.0)"
      ]
     },
     "execution_count": 51,
     "metadata": {},
     "output_type": "execute_result"
    }
   ],
   "source": [
    "geotrans = ds.GetGeoTransform()\n",
    "linedem = ds.ReadAsArray()\n",
    "geotrans"
   ]
  },
  {
   "cell_type": "code",
   "execution_count": null,
   "metadata": {},
   "outputs": [
    {
     "data": {
      "text/plain": [
       "(14451, 1751)"
      ]
     },
     "execution_count": 50,
     "metadata": {},
     "output_type": "execute_result"
    }
   ],
   "source": [
    "linedem.shape"
   ]
  },
  {
   "cell_type": "code",
   "execution_count": null,
   "metadata": {},
   "outputs": [],
   "source": [
    "ulx = geotrans[0] \n",
    "uly = geotrans[3]\n",
    "lrx = ulx + geotrans[1] * linedem.shape[1]\n",
    "lry = uly + geotrans[5] * linedem.shape[0]"
   ]
  },
  {
   "cell_type": "code",
   "execution_count": null,
   "metadata": {},
   "outputs": [],
   "source": [
    "newfn = os.path.join(flightlines[0], 'ELE', f'{fnprefix}_{lineno}_cubic_ELE.bsq')\n",
    "dsout = gdal.Translate(newfn, ds_newmain, projWin=[ulx, uly, lrx, lry], format='ENVI', resampleAlg='bilinear')\n",
    "dsout = None"
   ]
  },
  {
   "cell_type": "code",
   "execution_count": null,
   "metadata": {},
   "outputs": [
    {
     "data": {
      "text/plain": [
       "(483599.5, 7236250.5, 485350.5, 7221799.5)"
      ]
     },
     "execution_count": 59,
     "metadata": {},
     "output_type": "execute_result"
    }
   ],
   "source": [
    "ulx, uly, lrx, lry"
   ]
  },
  {
   "cell_type": "code",
   "execution_count": null,
   "metadata": {},
   "outputs": [],
   "source": [
    "ds_newmain = None\n",
    "ds = None"
   ]
  },
  {
   "cell_type": "markdown",
   "metadata": {},
   "source": [
    "### Loop through flightlines"
   ]
  },
  {
   "cell_type": "code",
   "execution_count": null,
   "metadata": {},
   "outputs": [],
   "source": [
    "ds_newmain = gdal.Open(os.path.join(dem_subdir, newmainDEM))"
   ]
  },
  {
   "cell_type": "code",
   "execution_count": null,
   "metadata": {},
   "outputs": [
    {
     "name": "stdout",
     "output_type": "stream",
     "text": [
      "Writing 20200710-CPC_03\\ELE\\20200710_CPC_03_cubic_ELE.bsq\n",
      "Writing 20200710-CPC_04\\ELE\\20200710_CPC_04_cubic_ELE.bsq\n",
      "Writing 20200710-CPC_05\\ELE\\20200710_CPC_05_cubic_ELE.bsq\n",
      "Writing 20200710-CPC_06\\ELE\\20200710_CPC_06_cubic_ELE.bsq\n",
      "Writing 20200710-CPC_07\\ELE\\20200710_CPC_07_cubic_ELE.bsq\n",
      "Writing 20200710-CPC_08\\ELE\\20200710_CPC_08_cubic_ELE.bsq\n",
      "Writing 20200710-CPC_09\\ELE\\20200710_CPC_09_cubic_ELE.bsq\n",
      "Writing 20200710-CPC_10\\ELE\\20200710_CPC_10_cubic_ELE.bsq\n",
      "Writing 20200710-CPC_11\\ELE\\20200710_CPC_11_cubic_ELE.bsq\n",
      "Writing 20200710-CPC_12\\ELE\\20200710_CPC_12_cubic_ELE.bsq\n",
      "Writing 20200710-CPC_13\\ELE\\20200710_CPC_13_cubic_ELE.bsq\n",
      "Writing 20200710-CPC_14\\ELE\\20200710_CPC_14_cubic_ELE.bsq\n"
     ]
    },
    {
     "data": {
      "text/plain": [
       "<osgeo.gdal.Dataset; proxy of <Swig Object of type 'GDALDatasetShadow *' at 0x000001FF24D6F030> >"
      ]
     },
     "execution_count": 67,
     "metadata": {},
     "output_type": "execute_result"
    }
   ],
   "source": [
    "for flightline in flightlines[2:]:\n",
    "    lineno = flightline[-2:]\n",
    "    ds = gdal.Open(os.path.join(flightline, 'ELE', f'{fnprefix}_{lineno}_ELE.bsq'))\n",
    "    geotrans = ds.GetGeoTransform()\n",
    "    linedem = ds.ReadAsArray()\n",
    "    ulx = geotrans[0] \n",
    "    uly = geotrans[3]\n",
    "    lrx = ulx + geotrans[1] * linedem.shape[1]\n",
    "    lry = uly + geotrans[5] * linedem.shape[0]\n",
    "    newfn = os.path.join(flightline, 'ELE', f'{fnprefix}_{lineno}_cubic_ELE.bsq')\n",
    "    print(f\"Writing {newfn}\")\n",
    "    dsout = gdal.Translate(newfn, ds_newmain, projWin=[ulx, uly, lrx, lry], format='ENVI', resampleAlg='bilinear')\n",
    "    dsout = None   \n",
    "    ds = None\n",
    "ds_newmain"
   ]
  }
 ],
 "metadata": {
  "kernelspec": {
   "display_name": "Python 3",
   "language": "python",
   "name": "python3"
  },
  "language_info": {
   "codemirror_mode": {
    "name": "ipython",
    "version": 3
   },
   "file_extension": ".py",
   "mimetype": "text/x-python",
   "name": "python",
   "nbconvert_exporter": "python",
   "pygments_lexer": "ipython3"
  }
 },
 "nbformat": 4,
 "nbformat_minor": 4
}
