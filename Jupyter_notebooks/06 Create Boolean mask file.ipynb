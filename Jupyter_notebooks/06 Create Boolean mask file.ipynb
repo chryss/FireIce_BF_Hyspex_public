{
 "cells": [
  {
   "cell_type": "code",
   "execution_count": null,
   "metadata": {},
   "outputs": [],
   "source": [
    "import os\n",
    "import sys\n",
    "import numpy as np\n",
    "from matplotlib import pyplot as plt\n",
    "import seaborn as sns\n",
    "import rasterio as rio\n",
    "from rasterio.plot import show\n",
    "from rasterio.merge import merge\n",
    "from pathlib import Path\n",
    "import masking as msk"
   ]
  },
  {
   "cell_type": "markdown",
   "metadata": {},
   "source": [
    "### When to run this notebook"
   ]
  },
  {
   "cell_type": "markdown",
   "metadata": {},
   "source": [
    "PARGE does not output files with proper nodata masks outside the flightline area. This notebook creates boolean raster masks according to your specifications. Please adapt based on what input files you want to use (radiance, reflectance, scan angle?) and whether you have separate VNIR/SWIR rasters or a combined supercube from integrated processing. \n",
    "\n",
    "Raster masks can then be converted to vector masks with GDAL, such as:\n",
    "\n",
    "` gdal_polygonize.py -8 rastermasks/vnir_swir_05_mask.bsq vectormasks_flightline/vnir_swir_05_mask.shp` "
   ]
  },
  {
   "cell_type": "code",
   "execution_count": null,
   "metadata": {},
   "outputs": [],
   "source": [
    "inputdir = Path(r\"Z:/fihyper/cwaigl/20190817_CPC/20190817-CPC_03/Parge_with_offsets/\")\n",
    "outputdir = Path(r\"Z:/fihyper/cwaigl/20190817_CPC/02_intermediate/\")"
   ]
  },
  {
   "cell_type": "code",
   "execution_count": null,
   "metadata": {},
   "outputs": [],
   "source": [
    "fnvnir = \"20210803-BC_02_VNIR_SWIR_rad_geo.bsq\"\n",
    "fnswir = \"20210803-BC_02_VNIR_SWIR_rad_geo.bsq\"\n",
    "fnvnir_sca = \"20210803-BC_02_VNIR_SWIR_rad_geo_sca.bsq\"\n",
    "fnswir_sca = \"20210803-BC_02_VNIR_SWIR_rad_geo_sca.bsq\""
   ]
  },
  {
   "cell_type": "code",
   "execution_count": null,
   "metadata": {},
   "outputs": [],
   "source": [
    "os.chdir(inputdir)"
   ]
  },
  {
   "cell_type": "markdown",
   "metadata": {},
   "source": [
    "### Helper functions"
   ]
  },
  {
   "cell_type": "markdown",
   "metadata": {},
   "source": [
    "Find start and end of valid data, presuming a lower bound nodata value. Optionally switch to upper bound (set `reversesign` to `True`.) "
   ]
  },
  {
   "cell_type": "code",
   "execution_count": null,
   "metadata": {},
   "outputs": [],
   "source": [
    "def getdatabounds(row, nodataval=0.0, reversesign=False):\n",
    "    prefac = -1 if reversesign else 1\n",
    "    cond = prefac * row > prefac * nodataval\n",
    "    return np.nonzero(cond)[0][0], np.nonzero(cond)[0][-1]"
   ]
  },
  {
   "cell_type": "markdown",
   "metadata": {},
   "source": [
    "Crop a row by setting all values outside the left and right bounds to the desired nodata value (0 by default). Optionnally reduce row by a fixed proportion. "
   ]
  },
  {
   "cell_type": "code",
   "execution_count": null,
   "metadata": {},
   "outputs": [],
   "source": [
    "def croprow(row, lprop=0.0, rprop=0.0, nodataval=0):\n",
    "    try:\n",
    "        lidx, ridx = getdatabounds(row)\n",
    "        lidx = lidx + int((ridx - lidx) * lprop)\n",
    "        ridx = ridx - int((ridx - lidx) * rprop)\n",
    "        row[:lidx] = nodataval\n",
    "        row[ridx:] = nodataval\n",
    "    except IndexError:\n",
    "        pass\n",
    "    return row"
   ]
  },
  {
   "cell_type": "code",
   "execution_count": null,
   "metadata": {},
   "outputs": [],
   "source": [
    "def maskrow(row, lprop=0.0, rprop=0.0, nodataval=0):\n",
    "    newrow = np.ones(len(row))\n",
    "    try:\n",
    "        lbound, rbound = getdatabounds(row)\n",
    "        newrow[:lbound] = nodataval\n",
    "        newrow[rbound+1:] = nodataval\n",
    "        return newrow\n",
    "    except IndexError:\n",
    "        return nodataval * newrow\n",
    "\n",
    "def maskrow_l(row, lprop=0.1, rprop=0.0, nodataval=0):\n",
    "    newrow = np.ones(len(row))\n",
    "    try:\n",
    "        lidx, ridx = getdatabounds(row)\n",
    "        lidx = lidx + int((ridx - lidx) * lprop)\n",
    "        ridx = ridx - int((ridx - lidx) * rprop)\n",
    "        newrow[:lidx] = nodataval\n",
    "        newrow[ridx+1:] = nodataval\n",
    "        return newrow\n",
    "    except IndexError:\n",
    "        return nodataval * newrow\n",
    "    \n",
    "def maskrow_r(row, lprop=0.0, rprop=0.1, nodataval=0):\n",
    "    newrow = np.ones(len(row))\n",
    "    try:\n",
    "        lidx, ridx = getdatabounds(row)\n",
    "        lidx = lidx + int((ridx - lidx) * lprop)\n",
    "        ridx = ridx - int((ridx - lidx) * rprop)\n",
    "        newrow[:lidx] = nodataval\n",
    "        newrow[ridx+1:] = nodataval\n",
    "        return newrow\n",
    "    except IndexError:\n",
    "        return nodataval * newrow"
   ]
  },
  {
   "cell_type": "code",
   "execution_count": null,
   "metadata": {},
   "outputs": [
    {
     "data": {
      "text/plain": [
       "array([0., 0., 0., 0., 1., 1., 1., 1., 1., 1., 1., 1., 1., 1., 1., 1., 1.,\n",
       "       1., 1., 1., 1., 0., 0.])"
      ]
     },
     "execution_count": 84,
     "metadata": {},
     "output_type": "execute_result"
    }
   ],
   "source": [
    "maskrow_r(np.array([0,0,0, 0,1,2,3,4,1, 1, 1, 1, 1, 1, 1, 1, 5,6,7,8,9, 1, 0]))"
   ]
  },
  {
   "cell_type": "markdown",
   "metadata": {},
   "source": [
    "### Create 1 nodata mask from separately processed VNIR/SWIR radiance files and scanangle files"
   ]
  },
  {
   "cell_type": "code",
   "execution_count": null,
   "metadata": {},
   "outputs": [
    {
     "name": "stdout",
     "output_type": "stream",
     "text": [
      "read vnir band\n",
      "read swir band\n",
      "read vnir altitude\n",
      "read swir altitude\n",
      "created vnir mask\n",
      "created swir mask\n",
      "created vnir altitude mask\n",
      "created swir altitude mask\n"
     ]
    }
   ],
   "source": [
    "with rio.open(fnvnir) as vnir:\n",
    "    with rio.open(fnswir) as swir:\n",
    "        with rio.open(fnvnir_sca) as vnir_sca:\n",
    "            with rio.open(fnswir_sca) as swir_sca:\n",
    "                outmeta = vnir.meta.copy()\n",
    "                vnir_sampleband = vnir.read(1)\n",
    "                print(\"read vnir band\")\n",
    "                swir_sampleband = swir.read(200)\n",
    "                print(\"read swir band\")\n",
    "                vnir_alt = vnir_sca.read(3)\n",
    "                print(\"read vnir altitude\")\n",
    "                swir_alt = swir_sca.read(3)\n",
    "                print(\"read swir altitude\")\n",
    "                maskvnir = np.apply_along_axis(maskrow, 1, vnir_sampleband)\n",
    "                print(\"created vnir mask\")\n",
    "                maskswir = np.apply_along_axis(maskrow, 1, swir_sampleband)\n",
    "                print(\"created swir mask\")\n",
    "                maskvnir_alt = np.apply_along_axis(maskrow, 1, vnir_alt)\n",
    "                print(\"created vnir altitude mask\")\n",
    "                maskswir_alt = np.apply_along_axis(maskrow, 1, swir_alt)\n",
    "                print(\"created swir altitude mask\")\n",
    "                outdata = maskvnir * maskswir * maskvnir_alt * maskswir_alt\n"
   ]
  },
  {
   "cell_type": "code",
   "execution_count": null,
   "metadata": {},
   "outputs": [],
   "source": [
    "outdata = outdata.astype('int16')"
   ]
  },
  {
   "cell_type": "code",
   "execution_count": null,
   "metadata": {},
   "outputs": [],
   "source": [
    "outmeta.update({\n",
    "    'dtype': 'int16',\n",
    "    'count': 1,\n",
    "    'nodata': 0\n",
    "})"
   ]
  },
  {
   "cell_type": "code",
   "execution_count": null,
   "metadata": {},
   "outputs": [],
   "source": [
    "outfn = os.path.join(outputdir, 'vnir_swir_02_mask.bsq')\n",
    "with rio.open(outfn, \"w\", **outmeta) as dst:\n",
    "    dst.write(outdata, indexes=1)"
   ]
  },
  {
   "cell_type": "markdown",
   "metadata": {},
   "source": [
    "This code was transfered to `masking.py` "
   ]
  },
  {
   "cell_type": "markdown",
   "metadata": {},
   "source": [
    "### Looping and mask creation for VNIR/SWIR stacks from integrated processing"
   ]
  },
  {
   "cell_type": "code",
   "execution_count": null,
   "metadata": {},
   "outputs": [],
   "source": [
    "import json"
   ]
  },
  {
   "cell_type": "code",
   "execution_count": null,
   "metadata": {},
   "outputs": [],
   "source": [
    "projdir = Path(r\"Z:\\fihyper\\cwaigl\\20200830_BC\")\n",
    "prefix = \"20200830-BC\"\n",
    "subdir = \"Parge_offsets_integrated\"\n",
    "jsonfile_suffix = \"_VNIR_SWIR_rad_geo_flightdata.txt\"\n",
    "linedirs = list(projdir.glob(f\"{prefix}_*\"))\n",
    "outputdir = projdir / \"02_intermediate/rastermasks\""
   ]
  },
  {
   "cell_type": "code",
   "execution_count": null,
   "metadata": {},
   "outputs": [
    {
     "name": "stdout",
     "output_type": "stream",
     "text": [
      "working in Z:\\fihyper\\cwaigl\\20200830_BC\\20200830-BC_05\n",
      "read vnir band\n",
      "read swir band\n",
      "read  altitude\n",
      "created vnir mask\n",
      "created swir mask\n",
      "created altitude mask\n",
      "writing Z:\\fihyper\\cwaigl\\20200830_BC\\02_intermediate\\rastermasks\\vnir_swir_05_mask.bsq\n"
     ]
    }
   ],
   "source": [
    "for linedir in linedirs[4:5]:\n",
    "    print(f\"working in {linedir}\")\n",
    "    with (linedir / \"NAV\" / f\"{linedir.parts[-1]}{jsonfile_suffix}\").open() as src:\n",
    "        meta = json.load(src)\n",
    "    fn = f\"{linedir.parts[-1]}_VNIR_SWIR_rad_geo.bsq\"\n",
    "    fn_sca = f\"{linedir.parts[-1]}_VNIR_SWIR_rad_geo_sca.bsq\"\n",
    "    lineno = linedir.parts[-1][-2:]\n",
    "    if meta['heading_avg'] < 20 or meta['heading_avg'] > 340:\n",
    "        maskfunc = maskrow_r\n",
    "    else:\n",
    "        maskfunc = maskrow_l\n",
    "    with rio.open(linedir / subdir / fn) as data:\n",
    "        with rio.open(linedir / subdir / fn_sca) as data_sca:\n",
    "            outmeta = data.meta.copy()\n",
    "            vnir_sampleband = data.read(1)\n",
    "            print(\"read vnir band\")\n",
    "            swir_sampleband = data.read(200)\n",
    "            print(\"read swir band\")\n",
    "            altband = data_sca.read(3)\n",
    "            print(\"read  altitude\")\n",
    "            maskvnir = np.apply_along_axis(maskfunc, 1, vnir_sampleband)\n",
    "            print(\"created vnir mask\")\n",
    "            maskswir = np.apply_along_axis(maskfunc, 1, swir_sampleband)\n",
    "            print(\"created swir mask\")\n",
    "            mask_alt = np.apply_along_axis(maskfunc, 1, altband)\n",
    "            print(\"created altitude mask\")\n",
    "            outdata = maskvnir * maskswir * mask_alt \n",
    "    outdata = outdata.astype('int16')\n",
    "    outmeta.update({\n",
    "        'dtype': 'int16',\n",
    "        'count': 1,\n",
    "        'nodata': 0\n",
    "    })\n",
    "    outfn = outputdir / f'vnir_swir_{lineno}_mask.bsq'\n",
    "    with rio.open(outfn, \"w\", **outmeta) as dst:\n",
    "        print(f\"writing {outfn}\")\n",
    "        dst.write(outdata, indexes=1)"
   ]
  },
  {
   "cell_type": "code",
   "execution_count": null,
   "metadata": {},
   "outputs": [
    {
     "data": {
      "text/plain": [
       "[WindowsPath('Z:/fihyper/cwaigl/20200830_BC/20200830-BC_01'),\n",
       " WindowsPath('Z:/fihyper/cwaigl/20200830_BC/20200830-BC_02'),\n",
       " WindowsPath('Z:/fihyper/cwaigl/20200830_BC/20200830-BC_03'),\n",
       " WindowsPath('Z:/fihyper/cwaigl/20200830_BC/20200830-BC_04'),\n",
       " WindowsPath('Z:/fihyper/cwaigl/20200830_BC/20200830-BC_05'),\n",
       " WindowsPath('Z:/fihyper/cwaigl/20200830_BC/20200830-BC_06'),\n",
       " WindowsPath('Z:/fihyper/cwaigl/20200830_BC/20200830-BC_07')]"
      ]
     },
     "execution_count": 102,
     "metadata": {},
     "output_type": "execute_result"
    }
   ],
   "source": [
    "linedirs"
   ]
  },
  {
   "cell_type": "markdown",
   "metadata": {},
   "source": [
    "###  Change to a new data project directory"
   ]
  },
  {
   "cell_type": "code",
   "execution_count": null,
   "metadata": {},
   "outputs": [],
   "source": [
    "os.chdir(\"Z:/fihyper/cwaigl/20190817_CPC/\")"
   ]
  },
  {
   "cell_type": "code",
   "execution_count": null,
   "metadata": {},
   "outputs": [
    {
     "data": {
      "text/plain": [
       "['20190817-CPC_01',\n",
       " '20190817-CPC_02',\n",
       " '20190817-CPC_03',\n",
       " '20190817-CPC_04',\n",
       " '20190817-CPC_05',\n",
       " '20190817-CPC_06',\n",
       " '20190817-CPC_07',\n",
       " '20190817-CPC_08',\n",
       " '20190817-CPC_09',\n",
       " '.DS_Store',\n",
       " '20190817-CPC_10',\n",
       " '._.DS_Store',\n",
       " '01_inputs',\n",
       " '20190817-CPC_11',\n",
       " '00_aux',\n",
       " 'x0_tmp',\n",
       " '02_intermediate',\n",
       " '03_products',\n",
       " 'xx_misc_orig_processing_files',\n",
       " '20190817-CPC_12',\n",
       " '20190817-CPC_13',\n",
       " '20190817-CPC_14',\n",
       " '20190817-CPC_15',\n",
       " '20190817-CPC_16',\n",
       " '20190817-CPC_17',\n",
       " '20190817-CPC_18',\n",
       " '20190817-CPC_19',\n",
       " '20190817-CPC_20',\n",
       " '20190817-CPC_21',\n",
       " '20190817-CPC_22',\n",
       " '20190817-CPC_23',\n",
       " '20190817-CPC_24',\n",
       " '20190817-CPC_25',\n",
       " '20190817-CPC_26']"
      ]
     },
     "execution_count": 7,
     "metadata": {},
     "output_type": "execute_result"
    }
   ],
   "source": [
    "os.listdir()"
   ]
  },
  {
   "cell_type": "code",
   "execution_count": null,
   "metadata": {},
   "outputs": [
    {
     "data": {
      "text/plain": [
       "['20190817-CPC_01',\n",
       " '20190817-CPC_02',\n",
       " '20190817-CPC_03',\n",
       " '20190817-CPC_04',\n",
       " '20190817-CPC_05',\n",
       " '20190817-CPC_06',\n",
       " '20190817-CPC_07',\n",
       " '20190817-CPC_08',\n",
       " '20190817-CPC_09',\n",
       " '20190817-CPC_10',\n",
       " '20190817-CPC_11',\n",
       " '20190817-CPC_12',\n",
       " '20190817-CPC_13',\n",
       " '20190817-CPC_14',\n",
       " '20190817-CPC_15',\n",
       " '20190817-CPC_16',\n",
       " '20190817-CPC_17',\n",
       " '20190817-CPC_18',\n",
       " '20190817-CPC_19',\n",
       " '20190817-CPC_20',\n",
       " '20190817-CPC_21',\n",
       " '20190817-CPC_22',\n",
       " '20190817-CPC_23',\n",
       " '20190817-CPC_24',\n",
       " '20190817-CPC_25',\n",
       " '20190817-CPC_26']"
      ]
     },
     "execution_count": 8,
     "metadata": {},
     "output_type": "execute_result"
    }
   ],
   "source": [
    "dirprefix = '20190817-CPC'\n",
    "flightlines = [nm for nm in os.listdir() if nm.startswith(dirprefix)]\n",
    "flightlines"
   ]
  },
  {
   "cell_type": "markdown",
   "metadata": {},
   "source": [
    "Sometimes the output files have an extra `_rad` element."
   ]
  },
  {
   "cell_type": "code",
   "execution_count": null,
   "metadata": {},
   "outputs": [],
   "source": [
    "extra = '_rad'\n",
    "#extra = ''"
   ]
  },
  {
   "cell_type": "markdown",
   "metadata": {},
   "source": [
    "**Optional:** Only run the following cell if you want to pick out certain flightlines only"
   ]
  },
  {
   "cell_type": "code",
   "execution_count": null,
   "metadata": {},
   "outputs": [],
   "source": [
    "selected = [flightlines[ii] for ii in [1, 2, 3, 6]]\n",
    "flightlines = selected"
   ]
  },
  {
   "cell_type": "markdown",
   "metadata": {},
   "source": [
    "### Loop through flightlines and create masks for separately prepared VNIR, SWIR and scanagnle files"
   ]
  },
  {
   "cell_type": "code",
   "execution_count": null,
   "metadata": {},
   "outputs": [
    {
     "name": "stdout",
     "output_type": "stream",
     "text": [
      "True True False False\n",
      "Didn't find all fines for flightline\n",
      "Problem opening files in 20190817-CPC_26\n"
     ]
    }
   ],
   "source": [
    "for linedir in flightlines[-1:]:\n",
    "    linenumstr = linedir[-2:]\n",
    "    inputdir_vnir = f\"{linedir}\\\\Parge_with_offsets\"\n",
    "    inputdir_swir = inputdir_vnir\n",
    "    outputdir = f\"{linedir}\\\\ATCOR\"\n",
    "    Path(outputdir).mkdir(parents=True, exist_ok=True)\n",
    "    fnvnir = os.path.join(inputdir_vnir, f\"{dirprefix}_{linenumstr}_VNIR_1800_SN00812_FOVx2_raw{extra}_bsq_float32_geo.bsq\")\n",
    "    fnswir = os.path.join(inputdir_swir, f\"{dirprefix}_{linenumstr}_SWIR_384me_SN3107_FOVx2_raw{extra}_bsq_float32_geo.bsq\")\n",
    "    fnvnir_sca = os.path.join(inputdir_vnir, f\"{dirprefix}_{linenumstr}_VNIR_1800_SN00812_FOVx2_raw{extra}_bsq_float32_geo_sca.bsq\")\n",
    "    fnswir_sca = os.path.join(inputdir_swir, f\"{dirprefix}_{linenumstr}_SWIR_384me_SN3107_FOVx2_raw{extra}_bsq_float32_geo_sca.bsq\")\n",
    "    print(os.path.exists(fnvnir), os.path.exists(fnswir), \n",
    "          os.path.exists(fnvnir_sca), os.path.exists(fnswir_sca))\n",
    "    try:\n",
    "        outdata, outmeta = msk.getflightlinemask(fnvnir, fnswir, fnvnir_sca, fnswir_sca)\n",
    "    except: \n",
    "        print(f\"Problem opening files in {linedir}\")\n",
    "        continue\n",
    "    outfn = os.path.join(outputdir, f'vnir_swir_{linenumstr}_mask.bsq')\n",
    "    with rio.open(outfn, \"w\", **outmeta) as dst:\n",
    "        dst.write(outdata, indexes=1)\n",
    "        print(f\"Wrote vnir_swir_{linenumstr}_mask.bsq to {outputdir}\")"
   ]
  },
  {
   "cell_type": "markdown",
   "metadata": {},
   "source": [
    "### Loop throught flightlines and make masked RGB"
   ]
  },
  {
   "cell_type": "code",
   "execution_count": null,
   "metadata": {},
   "outputs": [],
   "source": [
    "for linedir in flightlines:\n",
    "    linenumstr = linedir[-2:]\n",
    "    print(f\"Working on line {linenumstr}\")\n",
    "    inputdir_vnir = f\"{linedir}\\\\Parge_with_offsets\"\n",
    "    inputdir_swir = inputdir_vnir\n",
    "    outputdir = f\"{linedir}\\\\ATCOR\"\n",
    "    Path(outputdir).mkdir(parents=True, exist_ok=True)\n",
    "    fnvnir = os.path.join(inputdir_vnir, f\"{dirprefix}_{linenumstr}_VNIR_1800_SN00812_FOVx2_raw{extra}_bsq_float32_geo.bsq\")\n",
    "    fnswir = os.path.join(inputdir_swir, f\"{dirprefix}_{linenumstr}_SWIR_384me_SN3107_FOVx2_raw{extra}_bsq_float32_geo.bsq\")\n",
    "\n",
    "    with rio.open(fnvnir) as vnir:\n",
    "        outmeta1 = vnir.meta.copy()\n",
    "        outmeta2 = vnir.meta.copy()\n",
    "    with rio.open(os.path.join(outputdir, f'vnir_swir_{linenumstr}_mask.bsq')) as maskdata:\n",
    "        mask = maskdata.read(1)\n",
    "    outmeta1.update({\n",
    "        'count': 3,\n",
    "        'nodata': 0.0\n",
    "    })\n",
    "    outmeta2.update({\n",
    "        'count': 3,\n",
    "        'driver': 'GTiff',\n",
    "        'nodata': 0.0\n",
    "    })    \n",
    "    outfn1 = os.path.join(inputdir_vnir, f'{dirprefix}_{linenumstr}_vnir_swir_firergb_geo.bsq')\n",
    "    outfn2 = os.path.join(inputdir_vnir, f'{dirprefix}_{linenumstr}_vnir_swir_firergb_geo.tif')\n",
    "\n",
    "    with rio.open(outfn1, \"w\", **outmeta1) as dst1:\n",
    "        with rio.open(outfn2, \"w\", **outmeta2) as dst2:\n",
    "            with rio.open(fnswir) as swir:\n",
    "                swir_sampleband = swir.read(120)\n",
    "                bandout = swir_sampleband * mask\n",
    "                dst1.write(bandout, indexes=1)\n",
    "                dst2.write(bandout, indexes=1)\n",
    "            with rio.open(fnvnir) as vnir:\n",
    "                ii = 2\n",
    "                for bandnum in [140, 20]:\n",
    "                    vnir_sampleband = vnir.read(bandnum)\n",
    "                    bandout = vnir_sampleband * mask\n",
    "                    dst1.write(bandout, indexes=ii)\n",
    "                    dst2.write(bandout, indexes=ii)\n",
    "                    ii = ii + 1\n",
    "\n",
    "    "
   ]
  },
  {
   "cell_type": "code",
   "execution_count": null,
   "metadata": {},
   "outputs": [
    {
     "name": "stdout",
     "output_type": "stream",
     "text": [
      "Working on line 01\n",
      "Working on line 02\n",
      "Working on line 03\n",
      "Working on line 04\n",
      "Working on line 05\n",
      "Working on line 06\n",
      "Working on line 07\n"
     ]
    }
   ],
   "source": [
    "for linedir in flightlines:\n",
    "    linenumstr = linedir[-2:]\n",
    "    print(f\"Working on line {linenumstr}\")\n",
    "    inputdir_vnir = f\"{linedir}\\\\Parge_with_offsets\"\n",
    "    outputdir = f\"{linedir}\\\\ATCOR\"\n",
    "    Path(outputdir).mkdir(parents=True, exist_ok=True)\n",
    "    fnvnir = os.path.join(inputdir_vnir, f\"{dirprefix}_{linenumstr}_VNIR_1800_SN00812_FOVx2_raw{extra}_bsq_float32_geo.bsq\")\n",
    "\n",
    "    with rio.open(fnvnir) as vnir:\n",
    "        outmeta1 = vnir.meta.copy()\n",
    "        outmeta2 = vnir.meta.copy()\n",
    "    with rio.open(os.path.join(outputdir, f'vnir_swir_{linenumstr}_mask.bsq')) as maskdata:\n",
    "        mask = maskdata.read(1)\n",
    "    outmeta1.update({\n",
    "        'count': 3,\n",
    "        'nodata': 0.0\n",
    "    })\n",
    "    outmeta2.update({\n",
    "        'count': 3,\n",
    "        'driver': 'GTiff',\n",
    "        'nodata': 0.0\n",
    "    })    \n",
    "    outfn1 = os.path.join(inputdir_vnir, f'{dirprefix}_{linenumstr}_vnir_landrgb_geo.bsq')\n",
    "    outfn2 = os.path.join(inputdir_vnir, f'{dirprefix}_{linenumstr}_vnir_landrgb_geo.tif')\n",
    "\n",
    "    with rio.open(outfn1, \"w\", **outmeta1) as dst1:\n",
    "        with rio.open(outfn2, \"w\", **outmeta2) as dst2:\n",
    "            with rio.open(fnvnir) as vnir:\n",
    "                for ii, bandnum in enumerate([75, 45 , 20], 1):\n",
    "                    vnir_sampleband = vnir.read(bandnum)\n",
    "                    bandout = vnir_sampleband * mask\n",
    "                    dst1.write(bandout, indexes=ii)\n",
    "                    dst2.write(bandout, indexes=ii)"
   ]
  },
  {
   "cell_type": "markdown",
   "metadata": {},
   "source": [
    "### Loop through flightlines and stack & mask scan angle files"
   ]
  },
  {
   "cell_type": "code",
   "execution_count": null,
   "metadata": {},
   "outputs": [
    {
     "name": "stdout",
     "output_type": "stream",
     "text": [
      "Working on line 02\n",
      "20190817-CPC_02\\ATCOR\\vnir_swir_02_mask.bsq: No such file or directory\n",
      "Working on line 03\n",
      "Working on line 04\n",
      "Working on line 05\n",
      "Working on line 06\n",
      "Working on line 07\n",
      "Working on line 08\n",
      "Working on line 09\n",
      "Working on line 10\n",
      "20190817-CPC_10\\ATCOR\\vnir_swir_10_mask.bsq: No such file or directory\n",
      "Working on line 11\n",
      "Working on line 12\n",
      "20190817-CPC_12\\ATCOR\\vnir_swir_12_mask.bsq: No such file or directory\n",
      "Working on line 13\n",
      "20190817-CPC_13\\ATCOR\\vnir_swir_13_mask.bsq: No such file or directory\n",
      "Working on line 14\n",
      "Working on line 15\n",
      "Working on line 16\n",
      "Working on line 17\n",
      "Working on line 18\n",
      "Working on line 19\n",
      "Working on line 20\n",
      "Working on line 21\n",
      "Working on line 22\n",
      "Working on line 23\n",
      "Working on line 24\n",
      "Working on line 25\n"
     ]
    }
   ],
   "source": [
    "for linedir in flightlines[1:-1]:\n",
    "    linenumstr = linedir[-2:]\n",
    "    print(f\"Working on line {linenumstr}\")\n",
    "    inputdir = f\"{linedir}\\\\Parge_with_offsets\"\n",
    "    outputdir = f\"{linedir}\\\\ATCOR\"\n",
    "    fnvnirsca = os.path.join(inputdir, f\"{dirprefix}_{linenumstr}_VNIR_1800_SN00812_FOVx2_raw{extra}_bsq_float32_geo_sca.bsq\")\n",
    "    fnswirsca = os.path.join(inputdir, f\"{dirprefix}_{linenumstr}_SWIR_384me_SN3107_FOVx2_raw{extra}_bsq_float32_geo_sca.bsq\")\n",
    "    outfn = os.path.join(outputdir, f'{dirprefix}_{linenumstr}_vnir_swir_supercube_geo_sca.bsq')\n",
    "    \n",
    "    try:\n",
    "        with rio.open(os.path.join(outputdir, f'vnir_swir_{linenumstr}_mask.bsq')) as maskdata:\n",
    "            mask = maskdata.read(1)\n",
    "    except rio.RasterioIOError as e:\n",
    "        print(str(e))\n",
    "        continue\n",
    "\n",
    "    with rio.open(fnvnirsca) as vnirsca:\n",
    "        with rio.open(fnswirsca) as swirsca:\n",
    "            outmeta = vnirsca.meta.copy()\n",
    "            outtags = vnirsca.tags().copy()\n",
    "            with rio.open(outfn, \"w\", **outmeta) as dst:\n",
    "                # start with scan angles\n",
    "                vnirbd = vnirsca.read(1)\n",
    "                swirbd = swirsca.read(1)\n",
    "                stackbd = np.rint((vnirbd + swirbd)/2)\n",
    "                stackbd[mask==0] = 9100\n",
    "                dst.write(stackbd.astype('int16'), indexes=1)\n",
    "                # now the other three\n",
    "                for ii in [2, 3, 4]:\n",
    "                    vnirbd = vnirsca.read(1)\n",
    "                    swirbd = swirsca.read(1)\n",
    "                    stackbd = mask * np.rint((vnirbd + swirbd)/2)\n",
    "                    dst.write(stackbd.astype('int16'), indexes=ii)\n",
    "                dst.update_tags(**outtags)"
   ]
  }
 ],
 "metadata": {
  "kernelspec": {
   "display_name": "Python 3",
   "language": "python",
   "name": "python3"
  },
  "language_info": {
   "codemirror_mode": {
    "name": "ipython",
    "version": 3
   },
   "file_extension": ".py",
   "mimetype": "text/x-python",
   "name": "python",
   "nbconvert_exporter": "python",
   "pygments_lexer": "ipython3"
  }
 },
 "nbformat": 4,
 "nbformat_minor": 4
}
