{
 "cells": [
  {
   "cell_type": "code",
   "execution_count": null,
   "metadata": {},
   "outputs": [],
   "source": [
    "import seaborn as sns\n",
    "import shapely \n",
    "import geopandas as gp\n",
    "from pathlib import Path\n",
    "import masking as msk"
   ]
  },
  {
   "cell_type": "markdown",
   "metadata": {},
   "source": [
    "### When to run this notebook"
   ]
  },
  {
   "cell_type": "markdown",
   "metadata": {},
   "source": [
    "After creating raster masks in notebook 06 and converting them to vector masks using GDAL, you may want to tighten them somewhat to clean up edge effects, or combine with an ROI mask. This notebook can help. "
   ]
  },
  {
   "cell_type": "code",
   "execution_count": null,
   "metadata": {},
   "outputs": [],
   "source": [
    "projectdir = Path(r\"Z:\\fihyper\\cwaigl\\20200714_MKB\")\n",
    "inputdir = projectdir / r\"02_intermediate/vectormasks_flightline\" \n",
    "outputdir = projectdir / r\"02_intermediate/vectormasks_cropped\" "
   ]
  },
  {
   "cell_type": "code",
   "execution_count": null,
   "metadata": {},
   "outputs": [
    {
     "data": {
      "text/plain": [
       "True"
      ]
     },
     "execution_count": 5,
     "metadata": {},
     "output_type": "execute_result"
    }
   ],
   "source": [
    "outputdir.exists()"
   ]
  },
  {
   "cell_type": "code",
   "execution_count": null,
   "metadata": {},
   "outputs": [
    {
     "data": {
      "text/plain": [
       "[WindowsPath('Z:/fihyper/cwaigl/20200714_MKB/02_intermediate/vectormasks_flightline/vnir_swir_01_mask.shp'),\n",
       " WindowsPath('Z:/fihyper/cwaigl/20200714_MKB/02_intermediate/vectormasks_flightline/vnir_swir_02_mask.shp'),\n",
       " WindowsPath('Z:/fihyper/cwaigl/20200714_MKB/02_intermediate/vectormasks_flightline/vnir_swir_03_mask.shp'),\n",
       " WindowsPath('Z:/fihyper/cwaigl/20200714_MKB/02_intermediate/vectormasks_flightline/vnir_swir_04_mask.shp'),\n",
       " WindowsPath('Z:/fihyper/cwaigl/20200714_MKB/02_intermediate/vectormasks_flightline/vnir_swir_05_mask.shp'),\n",
       " WindowsPath('Z:/fihyper/cwaigl/20200714_MKB/02_intermediate/vectormasks_flightline/vnir_swir_06_mask.shp'),\n",
       " WindowsPath('Z:/fihyper/cwaigl/20200714_MKB/02_intermediate/vectormasks_flightline/vnir_swir_07_mask.shp'),\n",
       " WindowsPath('Z:/fihyper/cwaigl/20200714_MKB/02_intermediate/vectormasks_flightline/vnir_swir_08_mask.shp'),\n",
       " WindowsPath('Z:/fihyper/cwaigl/20200714_MKB/02_intermediate/vectormasks_flightline/vnir_swir_09_mask.shp'),\n",
       " WindowsPath('Z:/fihyper/cwaigl/20200714_MKB/02_intermediate/vectormasks_flightline/vnir_swir_10_mask.shp'),\n",
       " WindowsPath('Z:/fihyper/cwaigl/20200714_MKB/02_intermediate/vectormasks_flightline/vnir_swir_11_mask.shp')]"
      ]
     },
     "execution_count": 6,
     "metadata": {},
     "output_type": "execute_result"
    }
   ],
   "source": [
    "vectormasks = sorted(list(inputdir.glob(r\"vnir_swir_*.shp\")))\n",
    "vectormasks"
   ]
  },
  {
   "cell_type": "markdown",
   "metadata": {},
   "source": [
    "We generate a series of eroded polygons for use in masking. To smoothen out the edge, we buffer-and-erode first. "
   ]
  },
  {
   "cell_type": "code",
   "execution_count": null,
   "metadata": {},
   "outputs": [],
   "source": [
    "smoothbuff = 2\n",
    "buffs = [0, 2, 5, 10, 20, 50]\n",
    "crop = False\n",
    "cropROI = Path(r\"Z:\\fiboreal\\cwaigl\\2021-HySpex_fuels\\GIS\\ROIs\\CPC_ROI_CW.shp\")\n",
    "cropgdf = gp.read_file(cropROI)"
   ]
  },
  {
   "cell_type": "code",
   "execution_count": null,
   "metadata": {},
   "outputs": [],
   "source": [
    "if crop:\n",
    "    cropgdf"
   ]
  },
  {
   "cell_type": "code",
   "execution_count": null,
   "metadata": {},
   "outputs": [
    {
     "name": "stdout",
     "output_type": "stream",
     "text": [
      "writing Z:\\fihyper\\cwaigl\\20200714_MKB\\02_intermediate\\vectormasks_cropped\\vnir_swir_01_mask_buff0.shp\n",
      "writing Z:\\fihyper\\cwaigl\\20200714_MKB\\02_intermediate\\vectormasks_cropped\\vnir_swir_01_mask_buff2.shp\n",
      "writing Z:\\fihyper\\cwaigl\\20200714_MKB\\02_intermediate\\vectormasks_cropped\\vnir_swir_01_mask_buff5.shp\n",
      "writing Z:\\fihyper\\cwaigl\\20200714_MKB\\02_intermediate\\vectormasks_cropped\\vnir_swir_01_mask_buff10.shp\n",
      "writing Z:\\fihyper\\cwaigl\\20200714_MKB\\02_intermediate\\vectormasks_cropped\\vnir_swir_01_mask_buff20.shp\n",
      "writing Z:\\fihyper\\cwaigl\\20200714_MKB\\02_intermediate\\vectormasks_cropped\\vnir_swir_01_mask_buff50.shp\n",
      "writing Z:\\fihyper\\cwaigl\\20200714_MKB\\02_intermediate\\vectormasks_cropped\\vnir_swir_02_mask_buff0.shp\n",
      "writing Z:\\fihyper\\cwaigl\\20200714_MKB\\02_intermediate\\vectormasks_cropped\\vnir_swir_02_mask_buff2.shp\n",
      "writing Z:\\fihyper\\cwaigl\\20200714_MKB\\02_intermediate\\vectormasks_cropped\\vnir_swir_02_mask_buff5.shp\n",
      "writing Z:\\fihyper\\cwaigl\\20200714_MKB\\02_intermediate\\vectormasks_cropped\\vnir_swir_02_mask_buff10.shp\n",
      "writing Z:\\fihyper\\cwaigl\\20200714_MKB\\02_intermediate\\vectormasks_cropped\\vnir_swir_02_mask_buff20.shp\n",
      "writing Z:\\fihyper\\cwaigl\\20200714_MKB\\02_intermediate\\vectormasks_cropped\\vnir_swir_02_mask_buff50.shp\n",
      "writing Z:\\fihyper\\cwaigl\\20200714_MKB\\02_intermediate\\vectormasks_cropped\\vnir_swir_03_mask_buff0.shp\n",
      "writing Z:\\fihyper\\cwaigl\\20200714_MKB\\02_intermediate\\vectormasks_cropped\\vnir_swir_03_mask_buff2.shp\n",
      "writing Z:\\fihyper\\cwaigl\\20200714_MKB\\02_intermediate\\vectormasks_cropped\\vnir_swir_03_mask_buff5.shp\n",
      "writing Z:\\fihyper\\cwaigl\\20200714_MKB\\02_intermediate\\vectormasks_cropped\\vnir_swir_03_mask_buff10.shp\n",
      "writing Z:\\fihyper\\cwaigl\\20200714_MKB\\02_intermediate\\vectormasks_cropped\\vnir_swir_03_mask_buff20.shp\n",
      "writing Z:\\fihyper\\cwaigl\\20200714_MKB\\02_intermediate\\vectormasks_cropped\\vnir_swir_03_mask_buff50.shp\n",
      "writing Z:\\fihyper\\cwaigl\\20200714_MKB\\02_intermediate\\vectormasks_cropped\\vnir_swir_04_mask_buff0.shp\n",
      "writing Z:\\fihyper\\cwaigl\\20200714_MKB\\02_intermediate\\vectormasks_cropped\\vnir_swir_04_mask_buff2.shp\n",
      "writing Z:\\fihyper\\cwaigl\\20200714_MKB\\02_intermediate\\vectormasks_cropped\\vnir_swir_04_mask_buff5.shp\n",
      "writing Z:\\fihyper\\cwaigl\\20200714_MKB\\02_intermediate\\vectormasks_cropped\\vnir_swir_04_mask_buff10.shp\n",
      "writing Z:\\fihyper\\cwaigl\\20200714_MKB\\02_intermediate\\vectormasks_cropped\\vnir_swir_04_mask_buff20.shp\n",
      "writing Z:\\fihyper\\cwaigl\\20200714_MKB\\02_intermediate\\vectormasks_cropped\\vnir_swir_04_mask_buff50.shp\n",
      "writing Z:\\fihyper\\cwaigl\\20200714_MKB\\02_intermediate\\vectormasks_cropped\\vnir_swir_05_mask_buff0.shp\n",
      "writing Z:\\fihyper\\cwaigl\\20200714_MKB\\02_intermediate\\vectormasks_cropped\\vnir_swir_05_mask_buff2.shp\n",
      "writing Z:\\fihyper\\cwaigl\\20200714_MKB\\02_intermediate\\vectormasks_cropped\\vnir_swir_05_mask_buff5.shp\n",
      "writing Z:\\fihyper\\cwaigl\\20200714_MKB\\02_intermediate\\vectormasks_cropped\\vnir_swir_05_mask_buff10.shp\n",
      "writing Z:\\fihyper\\cwaigl\\20200714_MKB\\02_intermediate\\vectormasks_cropped\\vnir_swir_05_mask_buff20.shp\n",
      "writing Z:\\fihyper\\cwaigl\\20200714_MKB\\02_intermediate\\vectormasks_cropped\\vnir_swir_05_mask_buff50.shp\n",
      "writing Z:\\fihyper\\cwaigl\\20200714_MKB\\02_intermediate\\vectormasks_cropped\\vnir_swir_06_mask_buff0.shp\n",
      "writing Z:\\fihyper\\cwaigl\\20200714_MKB\\02_intermediate\\vectormasks_cropped\\vnir_swir_06_mask_buff2.shp\n",
      "writing Z:\\fihyper\\cwaigl\\20200714_MKB\\02_intermediate\\vectormasks_cropped\\vnir_swir_06_mask_buff5.shp\n",
      "writing Z:\\fihyper\\cwaigl\\20200714_MKB\\02_intermediate\\vectormasks_cropped\\vnir_swir_06_mask_buff10.shp\n",
      "writing Z:\\fihyper\\cwaigl\\20200714_MKB\\02_intermediate\\vectormasks_cropped\\vnir_swir_06_mask_buff20.shp\n",
      "writing Z:\\fihyper\\cwaigl\\20200714_MKB\\02_intermediate\\vectormasks_cropped\\vnir_swir_06_mask_buff50.shp\n",
      "writing Z:\\fihyper\\cwaigl\\20200714_MKB\\02_intermediate\\vectormasks_cropped\\vnir_swir_07_mask_buff0.shp\n",
      "writing Z:\\fihyper\\cwaigl\\20200714_MKB\\02_intermediate\\vectormasks_cropped\\vnir_swir_07_mask_buff2.shp\n",
      "writing Z:\\fihyper\\cwaigl\\20200714_MKB\\02_intermediate\\vectormasks_cropped\\vnir_swir_07_mask_buff5.shp\n",
      "writing Z:\\fihyper\\cwaigl\\20200714_MKB\\02_intermediate\\vectormasks_cropped\\vnir_swir_07_mask_buff10.shp\n",
      "writing Z:\\fihyper\\cwaigl\\20200714_MKB\\02_intermediate\\vectormasks_cropped\\vnir_swir_07_mask_buff20.shp\n",
      "writing Z:\\fihyper\\cwaigl\\20200714_MKB\\02_intermediate\\vectormasks_cropped\\vnir_swir_07_mask_buff50.shp\n",
      "writing Z:\\fihyper\\cwaigl\\20200714_MKB\\02_intermediate\\vectormasks_cropped\\vnir_swir_08_mask_buff0.shp\n",
      "writing Z:\\fihyper\\cwaigl\\20200714_MKB\\02_intermediate\\vectormasks_cropped\\vnir_swir_08_mask_buff2.shp\n",
      "writing Z:\\fihyper\\cwaigl\\20200714_MKB\\02_intermediate\\vectormasks_cropped\\vnir_swir_08_mask_buff5.shp\n",
      "writing Z:\\fihyper\\cwaigl\\20200714_MKB\\02_intermediate\\vectormasks_cropped\\vnir_swir_08_mask_buff10.shp\n",
      "writing Z:\\fihyper\\cwaigl\\20200714_MKB\\02_intermediate\\vectormasks_cropped\\vnir_swir_08_mask_buff20.shp\n",
      "writing Z:\\fihyper\\cwaigl\\20200714_MKB\\02_intermediate\\vectormasks_cropped\\vnir_swir_08_mask_buff50.shp\n",
      "writing Z:\\fihyper\\cwaigl\\20200714_MKB\\02_intermediate\\vectormasks_cropped\\vnir_swir_09_mask_buff0.shp\n",
      "writing Z:\\fihyper\\cwaigl\\20200714_MKB\\02_intermediate\\vectormasks_cropped\\vnir_swir_09_mask_buff2.shp\n",
      "writing Z:\\fihyper\\cwaigl\\20200714_MKB\\02_intermediate\\vectormasks_cropped\\vnir_swir_09_mask_buff5.shp\n",
      "writing Z:\\fihyper\\cwaigl\\20200714_MKB\\02_intermediate\\vectormasks_cropped\\vnir_swir_09_mask_buff10.shp\n",
      "writing Z:\\fihyper\\cwaigl\\20200714_MKB\\02_intermediate\\vectormasks_cropped\\vnir_swir_09_mask_buff20.shp\n",
      "writing Z:\\fihyper\\cwaigl\\20200714_MKB\\02_intermediate\\vectormasks_cropped\\vnir_swir_09_mask_buff50.shp\n",
      "writing Z:\\fihyper\\cwaigl\\20200714_MKB\\02_intermediate\\vectormasks_cropped\\vnir_swir_10_mask_buff0.shp\n",
      "writing Z:\\fihyper\\cwaigl\\20200714_MKB\\02_intermediate\\vectormasks_cropped\\vnir_swir_10_mask_buff2.shp\n",
      "writing Z:\\fihyper\\cwaigl\\20200714_MKB\\02_intermediate\\vectormasks_cropped\\vnir_swir_10_mask_buff5.shp\n",
      "writing Z:\\fihyper\\cwaigl\\20200714_MKB\\02_intermediate\\vectormasks_cropped\\vnir_swir_10_mask_buff10.shp\n",
      "writing Z:\\fihyper\\cwaigl\\20200714_MKB\\02_intermediate\\vectormasks_cropped\\vnir_swir_10_mask_buff20.shp\n",
      "writing Z:\\fihyper\\cwaigl\\20200714_MKB\\02_intermediate\\vectormasks_cropped\\vnir_swir_10_mask_buff50.shp\n",
      "writing Z:\\fihyper\\cwaigl\\20200714_MKB\\02_intermediate\\vectormasks_cropped\\vnir_swir_11_mask_buff0.shp\n",
      "writing Z:\\fihyper\\cwaigl\\20200714_MKB\\02_intermediate\\vectormasks_cropped\\vnir_swir_11_mask_buff2.shp\n",
      "writing Z:\\fihyper\\cwaigl\\20200714_MKB\\02_intermediate\\vectormasks_cropped\\vnir_swir_11_mask_buff5.shp\n",
      "writing Z:\\fihyper\\cwaigl\\20200714_MKB\\02_intermediate\\vectormasks_cropped\\vnir_swir_11_mask_buff10.shp\n",
      "writing Z:\\fihyper\\cwaigl\\20200714_MKB\\02_intermediate\\vectormasks_cropped\\vnir_swir_11_mask_buff20.shp\n",
      "writing Z:\\fihyper\\cwaigl\\20200714_MKB\\02_intermediate\\vectormasks_cropped\\vnir_swir_11_mask_buff50.shp\n"
     ]
    }
   ],
   "source": [
    "for infile in vectormasks:\n",
    "    testdata = gp.read_file(infile)\n",
    "    for buff in buffs:\n",
    "        testpoly = max(testdata.geometry, key=lambda a: a.area)\n",
    "        outpoly = testpoly.buffer(smoothbuff).buffer((-1)*(smoothbuff + buff))\n",
    "        outdata = gp.GeoSeries([outpoly], crs=testdata.crs)\n",
    "        outfn = outputdir / f\"{infile.stem}_buff{buff}.shp\"\n",
    "        print(f\"writing {outfn}\")\n",
    "        outdata.to_file(outfn)\n",
    "        if crop:\n",
    "            cropoutdata = outdata.intersection(cropgdf)\n",
    "            cropoutdata = gp.GeoSeries(max(cropoutdata, key=lambda a: a.area), crs=testdata.crs)\n",
    "            outfn = outputdir / f\"{infile.stem}_buff{buff}_crop.shp\"\n",
    "            print(f\"writing {outfn}\")\n",
    "            cropoutdata.to_file(outfn)"
   ]
  }
 ],
 "metadata": {
  "kernelspec": {
   "display_name": "Python 3",
   "language": "python",
   "name": "python3"
  },
  "language_info": {
   "codemirror_mode": {
    "name": "ipython",
    "version": 3
   },
   "file_extension": ".py",
   "mimetype": "text/x-python",
   "name": "python",
   "nbconvert_exporter": "python",
   "pygments_lexer": "ipython3"
  }
 },
 "nbformat": 4,
 "nbformat_minor": 4
}
