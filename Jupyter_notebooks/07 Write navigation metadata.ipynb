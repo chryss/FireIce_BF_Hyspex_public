{
 "cells": [
  {
   "cell_type": "code",
   "execution_count": null,
   "metadata": {},
   "outputs": [],
   "source": [
    "from pathlib import Path\n",
    "import metadata, navigation\n",
    "import numpy as np\n",
    "import json\n",
    "import datetime as dt\n",
    "import pytz "
   ]
  },
  {
   "cell_type": "code",
   "execution_count": null,
   "metadata": {},
   "outputs": [],
   "source": [
    "from pysolar import solar"
   ]
  },
  {
   "cell_type": "markdown",
   "metadata": {},
   "source": [
    "### When to run this notebook"
   ]
  },
  {
   "cell_type": "markdown",
   "metadata": {},
   "source": [
    "After stacking VNIR and SWIR cubes into full supercubes `[flightline]_VNIR_SWIR_supercube.geo.bsq`, and assembling full-supercubes `[flightline]_VNIR_SWIR_supercube.geo_sca.bsq` (for example using notebook 06). There are a number of ways to accomplish this, among them:\n",
    "\n",
    "* Manually stacking VNIR and SWIR output using ENVI\n",
    "* Stacking VNIR and SWIR output programmatically with the `gdal` tools\n",
    "* Using PARGE's integrated processing to produce a single supercube\n",
    "\n",
    "The code in the following is quite flexible and needs to be run thoughtfully. With manual stacking in ENVI as originally described, we would be using bands 1-170 VNIR and 2-288 SWIR for a total of 457 bands. With integrated processing, cutting over at 954 nm from VNIR to SWIR, we end up with 459 bands.\n",
    "\n",
    "The goal of this code is to produce suitable metadata for use in ATCOR and prepare final packaging metadata. We also save the navigation and solar parameters in a text file to be loaded when needed.  "
   ]
  },
  {
   "cell_type": "code",
   "execution_count": null,
   "metadata": {},
   "outputs": [],
   "source": [
    "projdir = Path(r\"Z:\\fihyper\\cwaigl\\20210803_BC\")\n",
    "prefix = '20210803-BC'"
   ]
  },
  {
   "cell_type": "markdown",
   "metadata": {},
   "source": [
    "### Load reference data "
   ]
  },
  {
   "cell_type": "markdown",
   "metadata": {},
   "source": [
    "**This section is for prototyping. For production use, go straight to the next section.** Let's first test with one line"
   ]
  },
  {
   "cell_type": "code",
   "execution_count": null,
   "metadata": {},
   "outputs": [],
   "source": [
    "lineno = '07' "
   ]
  },
  {
   "cell_type": "markdown",
   "metadata": {},
   "source": [
    "Depending on the settings in NEO HySpex RAD, the file names for spectral radiance may or may not have a name element '\\_rad'. "
   ]
  },
  {
   "cell_type": "code",
   "execution_count": null,
   "metadata": {},
   "outputs": [],
   "source": [
    "extra = '_rad'\n",
    "# extra = ''\n",
    "referencefile = f'{prefix}_{lineno}_VNIR_1800_SN00812_FOVx2_raw{extra}_bsq_float32.hdr'"
   ]
  },
  {
   "cell_type": "markdown",
   "metadata": {},
   "source": [
    "Enter the subdirectory that holds the PARGE output files. We will use them as reference. "
   ]
  },
  {
   "cell_type": "code",
   "execution_count": null,
   "metadata": {},
   "outputs": [],
   "source": [
    "exampledir = projdir / f\"{prefix}_{lineno}/RAD\""
   ]
  },
  {
   "cell_type": "markdown",
   "metadata": {},
   "source": [
    "Load metadata from refrerence file"
   ]
  },
  {
   "cell_type": "code",
   "execution_count": null,
   "metadata": {},
   "outputs": [
    {
     "data": {
      "text/plain": [
       "{'description': '{',\n",
       " 'Frameperiod': '12000',\n",
       " 'Integration time': '8300',\n",
       " 'Binning': '1',\n",
       " 'Number of frames': '26866',\n",
       " 'Aperture size': '0.008000',\n",
       " 'dw': '1',\n",
       " 'EQ': '0',\n",
       " 'FOVexp': '5',\n",
       " 'Lens': '5',\n",
       " 'NumberOfAvg': '1',\n",
       " 'CalibAvailable': '0',\n",
       " 'Number of background': '200',\n",
       " 'Pixelsize x': '0.000320',\n",
       " 'Pixelsize y': '0.000640',\n",
       " 'ID': 'VNIR_1800_SN00812',\n",
       " 'Comment': '',\n",
       " 'Serialnumber': '812',\n",
       " 'Scanningmode': 'Airborne }',\n",
       " 'samples': '1800',\n",
       " 'lines': '26866',\n",
       " 'bands': '182',\n",
       " 'header offset': '5246976',\n",
       " 'acquisition date': '2021-07-02',\n",
       " 'acquisition start time': '13:22:21',\n",
       " 'data type': '4',\n",
       " 'data ignore value': '2',\n",
       " 'interleave': 'bsq',\n",
       " 'default bands': '{75,46,19}',\n",
       " 'byte order': '0',\n",
       " 'wavelength': '{410.359,413.529,416.698,419.868,423.038,426.207,429.377,432.547,435.716,438.886,442.055,445.225,448.395,451.564,454.734,457.904,461.073,464.243,467.412,470.582,473.752,476.921,480.091,483.261,486.43,489.6,492.769,495.939,499.109,502.278,505.448,508.618,511.787,514.957,518.126,521.296,524.466,527.635,530.805,533.975,537.144,540.314,543.483,546.653,549.823,552.992,556.162,559.332,562.501,565.671,568.84,572.01,575.18,578.349,581.519,584.689,587.858,591.028,594.197,597.367,600.537,603.706,606.876,610.046,613.215,616.385,619.554,622.724,625.894,629.063,632.233,635.403,638.572,641.742,644.911,648.081,651.251,654.42,657.59,660.76,663.929,667.099,670.268,673.438,676.608,679.777,682.947,686.117,689.286,692.456,695.625,698.795,701.965,705.134,708.304,711.474,714.643,717.813,720.982,724.152,727.322,730.491,733.661,736.831,740,743.17,746.339,749.509,752.679,755.848,759.018,762.188,765.357,768.527,771.696,774.866,778.036,781.205,784.375,787.545,790.714,793.884,797.053,800.223,803.393,806.562,809.732,812.902,816.071,819.241,822.41,825.58,828.75,831.919,835.089,838.259,841.428,844.598,847.767,850.937,854.107,857.276,860.446,863.616,866.785,869.955,873.124,876.294,879.464,882.633,885.803,888.973,892.142,895.312,898.481,901.651,904.821,907.99,911.16,914.33,917.499,920.669,923.839,927.008,930.178,933.347,936.517,939.687,942.856,946.026,949.196,952.365,955.535,958.704,961.874,965.044,968.213,971.383,974.553,977.722,980.892,984.061}'}"
      ]
     },
     "execution_count": 7,
     "metadata": {},
     "output_type": "execute_result"
    }
   ],
   "source": [
    "refmeta = metadata.hdrfile_to_dict(exampledir / referencefile)\n",
    "refmeta"
   ]
  },
  {
   "cell_type": "markdown",
   "metadata": {},
   "source": [
    "Get timestamp from reference metadata and convert to UTC.  Assumption: Data is aquired during AKDT. Check timestamp whether this makes sense!"
   ]
  },
  {
   "cell_type": "code",
   "execution_count": null,
   "metadata": {},
   "outputs": [
    {
     "name": "stdout",
     "output_type": "stream",
     "text": [
      "2021-07-02 21:22:21\n"
     ]
    }
   ],
   "source": [
    "#origts = dt.datetime.strptime(refmeta['acquisition time'], '%Y-%m-%dT%H:%M:%S.0Z')\n",
    "origts = dt.datetime.strptime(f\"{refmeta['acquisition date']} {refmeta['acquisition start time']}\", '%Y-%m-%d %H:%M:%S')\n",
    "origts = origts + dt.timedelta(hours=8)\n",
    "print(origts)"
   ]
  },
  {
   "cell_type": "markdown",
   "metadata": {},
   "source": [
    "Load navigation data and extract average heading, average flight height, andthe time stamp from the NAV data."
   ]
  },
  {
   "cell_type": "code",
   "execution_count": null,
   "metadata": {},
   "outputs": [],
   "source": [
    "navdir = projdir / f\"{prefix}_{lineno}/NAV\"\n",
    "navpath = navdir / f\"{prefix}_{lineno}_VNIR_1800_SN00812_FOVx2_raw.txt\""
   ]
  },
  {
   "cell_type": "code",
   "execution_count": null,
   "metadata": {},
   "outputs": [],
   "source": [
    "data1 = np.loadtxt(navpath, dtype={'names': ('line', 'lon', 'lat', 'height', 'roll', 'pitch', 'heading', 'tstamp'), \n",
    "                                   'formats': ('<i4', '<f8', '<f8', '<f8', '<f8', '<f8', '<f8', '<f8')})\n",
    "middle = len(data1)//2"
   ]
  },
  {
   "cell_type": "code",
   "execution_count": null,
   "metadata": {},
   "outputs": [
    {
     "name": "stdout",
     "output_type": "stream",
     "text": [
      "Flightline heading: 170.85 °\n",
      "Flightline elevation: 2406.44 m\n",
      "Flightline latitude: 64.90 °\n",
      "Flightline longitude: -150.79 °\n"
     ]
    }
   ],
   "source": [
    "flight_heading = navigation.avg_angle(data1['heading'])\n",
    "flight_elevation = data1['height'].mean()\n",
    "flight_lat = data1['lat'][middle]\n",
    "flight_lon = data1['lon'][middle]\n",
    "\n",
    "print(\"Flightline heading: {:3.2f} °\\nFlightline elevation: {:4.2f} m\".format(flight_heading, flight_elevation))\n",
    "print(\"Flightline latitude: {:3.2f} °\\nFlightline longitude: {:3.2f} °\".format(flight_lat, flight_lon))"
   ]
  },
  {
   "cell_type": "code",
   "execution_count": null,
   "metadata": {},
   "outputs": [
    {
     "name": "stdout",
     "output_type": "stream",
     "text": [
      "5 days, 21:33:43.765230\n"
     ]
    }
   ],
   "source": [
    "navts = dt.timedelta(seconds=data1['tstamp'][middle])\n",
    "hours = navts.seconds // 60 // 60\n",
    "minutes = (navts.seconds - hours*3600)//60\n",
    "\n",
    "print(navts)\n",
    "\n",
    "corr = 0\n",
    "if hours == 0 and origts.hour == 23:\n",
    "    corr = 1\n",
    "elif origts.hour != hours:\n",
    "    print(\"!!! CAREFUL: Something odd is going on with the timestamps. Check your data for consistency.\",\n",
    "         \"Do not continue just running the code !!! \")"
   ]
  },
  {
   "cell_type": "code",
   "execution_count": null,
   "metadata": {},
   "outputs": [
    {
     "name": "stdout",
     "output_type": "stream",
     "text": [
      "2021-07-02 21:33:43+00:00\n"
     ]
    }
   ],
   "source": [
    "datestamp = dt.datetime(origts.year, origts.month, origts.day, hours, minutes, navts.seconds % 60) + dt.timedelta(days=corr)\n",
    "datestamp = pytz.utc.localize(datestamp)\n",
    "\n",
    "print(datestamp)"
   ]
  },
  {
   "cell_type": "code",
   "execution_count": null,
   "metadata": {},
   "outputs": [
    {
     "name": "stderr",
     "output_type": "stream",
     "text": [
      "C:\\Users\\cwaigl\\AppData\\Local\\Continuum\\miniconda3\\envs\\hyspex_proc\\lib\\site-packages\\pysolar\\solartime.py:112: UserWarning: I don't know about leap seconds after 2018\n",
      "  (leap_seconds_base_year + len(leap_seconds_adjustments) - 1)\n"
     ]
    }
   ],
   "source": [
    "azimuth = solar.get_azimuth(flight_lat, flight_lon, datestamp)"
   ]
  },
  {
   "cell_type": "code",
   "execution_count": null,
   "metadata": {},
   "outputs": [],
   "source": [
    "zenith = 90 - solar.get_altitude_fast(flight_lat, flight_lon, datestamp)"
   ]
  },
  {
   "cell_type": "code",
   "execution_count": null,
   "metadata": {},
   "outputs": [
    {
     "name": "stdout",
     "output_type": "stream",
     "text": [
      "Solar azimuth: 168.47 °\n",
      "Solar zenith: 42.22 °\n"
     ]
    }
   ],
   "source": [
    "print(\"Solar azimuth: {:3.2f} °\\nSolar zenith: {:3.2f} °\".format(azimuth, zenith))"
   ]
  },
  {
   "cell_type": "markdown",
   "metadata": {},
   "source": [
    "### Add navigation data file to each line directory"
   ]
  },
  {
   "cell_type": "code",
   "execution_count": null,
   "metadata": {},
   "outputs": [],
   "source": [
    "projdir = Path(r\"Z:\\fihyper\\cwaigl\\20210803_BC\")\n",
    "prefix = '20210803-BC'"
   ]
  },
  {
   "cell_type": "markdown",
   "metadata": {},
   "source": [
    "Setting parameters - edit if needed"
   ]
  },
  {
   "cell_type": "code",
   "execution_count": null,
   "metadata": {},
   "outputs": [
    {
     "name": "stdout",
     "output_type": "stream",
     "text": [
      "There are 7 flightlines to process\n"
     ]
    }
   ],
   "source": [
    "subdirstr = 'NAV'\n",
    "navfilepattern = \"_VNIR_1800_SN00812_FOVx2_raw.txt\"\n",
    "refdirstr = 'RAD'\n",
    "extra = '_rad'\n",
    "#extra = ''\n",
    "reffilepattern = f'_VNIR_1800_SN00812_FOVx2_raw{extra}_bsq_float32.hdr'\n",
    "flightlines = list(projdir.glob(f\"{prefix}_??\"))\n",
    "print(f\"There are {len(flightlines)} flightlines to process\")"
   ]
  },
  {
   "cell_type": "markdown",
   "metadata": {},
   "source": [
    "We're writing files to the `NAV` subdirectory. By default, writing is disabled. Edit filename pattern as desired. "
   ]
  },
  {
   "cell_type": "code",
   "execution_count": null,
   "metadata": {},
   "outputs": [],
   "source": [
    "write_files = True\n",
    "outfile_patt = \"VNIR_SWIR_rad_geo_flightdata.txt\"\n",
    "outdirstr = subdirstr"
   ]
  },
  {
   "cell_type": "code",
   "execution_count": null,
   "metadata": {},
   "outputs": [
    {
     "name": "stdout",
     "output_type": "stream",
     "text": [
      "Working on line number 01\n"
     ]
    },
    {
     "name": "stderr",
     "output_type": "stream",
     "text": [
      "C:\\Users\\cwaigl\\AppData\\Local\\Continuum\\miniconda3\\envs\\hyspex_proc\\lib\\site-packages\\pysolar\\solartime.py:112: UserWarning: I don't know about leap seconds after 2018\n",
      "  (leap_seconds_base_year + len(leap_seconds_adjustments) - 1)\n"
     ]
    },
    {
     "name": "stdout",
     "output_type": "stream",
     "text": [
      "Done writing Z:\\fihyper\\cwaigl\\20210803_BC\\20210803-BC_01\\NAV\\20210803-BC_01_VNIR_SWIR_rad_geo_flightdata.txt.\n",
      "\tFlightline heading: 4.58 °\n",
      "\tFlightline elevation: 1796.58 m\n",
      "\tFlightline roll: 0.14 °\n",
      "\tFlightline roll std: 2.68 °\n",
      "\tFlightline pitch: -1.57 °\n",
      "\tFlightline pitch std: 1.31 °\n",
      "\tFlightline latitude: 64.72 °\n",
      "\tFlightline longitude: -148.29 °\n",
      "\tNEO start timestamp (UTC): 2021-08-03 20:58:25\n",
      "\tFlightline timestamp (UTC): 2021-08-03 21:09:35+00:00\n",
      "\tFlightline timestamp (AKDT): 2021-08-03 13:09:35\n",
      "\tSolar azimuth: 164.01 °\n",
      "\tSolar zenith: 48.09 °\n",
      "\n",
      "Working on line number 02\n",
      "Done writing Z:\\fihyper\\cwaigl\\20210803_BC\\20210803-BC_02\\NAV\\20210803-BC_02_VNIR_SWIR_rad_geo_flightdata.txt.\n",
      "\tFlightline heading: 175.97 °\n",
      "\tFlightline elevation: 1762.89 m\n",
      "\tFlightline roll: 0.45 °\n",
      "\tFlightline roll std: 2.53 °\n",
      "\tFlightline pitch: -0.34 °\n",
      "\tFlightline pitch std: 1.12 °\n",
      "\tFlightline latitude: 64.72 °\n",
      "\tFlightline longitude: -148.31 °\n",
      "\tNEO start timestamp (UTC): 2021-08-03 21:03:04\n",
      "\tFlightline timestamp (UTC): 2021-08-03 21:14:05+00:00\n",
      "\tFlightline timestamp (AKDT): 2021-08-03 13:14:05\n",
      "\tSolar azimuth: 165.42 °\n",
      "\tSolar zenith: 47.95 °\n",
      "\n",
      "Working on line number 03\n",
      "Done writing Z:\\fihyper\\cwaigl\\20210803_BC\\20210803-BC_03\\NAV\\20210803-BC_03_VNIR_SWIR_rad_geo_flightdata.txt.\n",
      "\tFlightline heading: 3.82 °\n",
      "\tFlightline elevation: 1781.24 m\n",
      "\tFlightline roll: 0.89 °\n",
      "\tFlightline roll std: 2.25 °\n",
      "\tFlightline pitch: -0.95 °\n",
      "\tFlightline pitch std: 1.01 °\n",
      "\tFlightline latitude: 64.72 °\n",
      "\tFlightline longitude: -148.32 °\n",
      "\tNEO start timestamp (UTC): 2021-08-03 21:07:23\n",
      "\tFlightline timestamp (UTC): 2021-08-03 21:18:40+00:00\n",
      "\tFlightline timestamp (AKDT): 2021-08-03 13:18:40\n",
      "\tSolar azimuth: 166.87 °\n",
      "\tSolar zenith: 47.85 °\n",
      "\n",
      "Working on line number 04\n",
      "Done writing Z:\\fihyper\\cwaigl\\20210803_BC\\20210803-BC_04\\NAV\\20210803-BC_04_VNIR_SWIR_rad_geo_flightdata.txt.\n",
      "\tFlightline heading: 174.64 °\n",
      "\tFlightline elevation: 1752.28 m\n",
      "\tFlightline roll: 1.34 °\n",
      "\tFlightline roll std: 3.01 °\n",
      "\tFlightline pitch: -1.68 °\n",
      "\tFlightline pitch std: 1.22 °\n",
      "\tFlightline latitude: 64.72 °\n",
      "\tFlightline longitude: -148.33 °\n",
      "\tNEO start timestamp (UTC): 2021-08-03 21:12:07\n",
      "\tFlightline timestamp (UTC): 2021-08-03 21:23:05+00:00\n",
      "\tFlightline timestamp (AKDT): 2021-08-03 13:23:05\n",
      "\tSolar azimuth: 168.27 °\n",
      "\tSolar zenith: 47.73 °\n",
      "\n",
      "Working on line number 05\n",
      "Done writing Z:\\fihyper\\cwaigl\\20210803_BC\\20210803-BC_05\\NAV\\20210803-BC_05_VNIR_SWIR_rad_geo_flightdata.txt.\n",
      "\tFlightline heading: 5.68 °\n",
      "\tFlightline elevation: 1755.46 m\n",
      "\tFlightline roll: 0.55 °\n",
      "\tFlightline roll std: 2.33 °\n",
      "\tFlightline pitch: -0.92 °\n",
      "\tFlightline pitch std: 1.07 °\n",
      "\tFlightline latitude: 64.72 °\n",
      "\tFlightline longitude: -148.34 °\n",
      "\tNEO start timestamp (UTC): 2021-08-03 21:16:25\n",
      "\tFlightline timestamp (UTC): 2021-08-03 21:27:40+00:00\n",
      "\tFlightline timestamp (AKDT): 2021-08-03 13:27:40\n",
      "\tSolar azimuth: 169.73 °\n",
      "\tSolar zenith: 47.65 °\n",
      "\n",
      "Working on line number 06\n",
      "Done writing Z:\\fihyper\\cwaigl\\20210803_BC\\20210803-BC_06\\NAV\\20210803-BC_06_VNIR_SWIR_rad_geo_flightdata.txt.\n",
      "\tFlightline heading: 175.14 °\n",
      "\tFlightline elevation: 1764.67 m\n",
      "\tFlightline roll: 0.55 °\n",
      "\tFlightline roll std: 2.43 °\n",
      "\tFlightline pitch: -1.25 °\n",
      "\tFlightline pitch std: 1.00 °\n",
      "\tFlightline latitude: 64.72 °\n",
      "\tFlightline longitude: -148.35 °\n",
      "\tNEO start timestamp (UTC): 2021-08-03 21:21:26\n",
      "\tFlightline timestamp (UTC): 2021-08-03 21:32:24+00:00\n",
      "\tFlightline timestamp (AKDT): 2021-08-03 13:32:24\n",
      "\tSolar azimuth: 171.24 °\n",
      "\tSolar zenith: 47.56 °\n",
      "\n",
      "Working on line number 07\n",
      "Done writing Z:\\fihyper\\cwaigl\\20210803_BC\\20210803-BC_07\\NAV\\20210803-BC_07_VNIR_SWIR_rad_geo_flightdata.txt.\n",
      "\tFlightline heading: 3.59 °\n",
      "\tFlightline elevation: 1767.44 m\n",
      "\tFlightline roll: 0.81 °\n",
      "\tFlightline roll std: 2.38 °\n",
      "\tFlightline pitch: -0.14 °\n",
      "\tFlightline pitch std: 1.88 °\n",
      "\tFlightline latitude: 64.72 °\n",
      "\tFlightline longitude: -148.37 °\n",
      "\tNEO start timestamp (UTC): 2021-08-03 21:25:54\n",
      "\tFlightline timestamp (UTC): 2021-08-03 21:37:15+00:00\n",
      "\tFlightline timestamp (AKDT): 2021-08-03 13:37:15\n",
      "\tSolar azimuth: 172.78 °\n",
      "\tSolar zenith: 47.49 °\n",
      "\n"
     ]
    }
   ],
   "source": [
    "for linedir in flightlines:\n",
    "    linenumstr = linedir.parts[-1][-2:]\n",
    "    print(f\"Working on line number {linenumstr}\")\n",
    "    # load reference data and retrieve timestamp\n",
    "    refpath = linedir / refdirstr / f\"{prefix}_{linenumstr}{reffilepattern}\" \n",
    "    refmeta = metadata.hdrfile_to_dict(refpath)\n",
    "    origts = dt.datetime.strptime(\n",
    "        f\"{refmeta['acquisition date']} {refmeta['acquisition start time']}\", \n",
    "        '%Y-%m-%d %H:%M:%S') + dt.timedelta(hours=8)\n",
    "    # load navigation data\n",
    "    navpath = linedir / subdirstr / f\"{prefix}_{linenumstr}{navfilepattern}\"\n",
    "    navdata = np.loadtxt(navpath, dtype={'names': ('line', 'lon', 'lat', 'height', 'roll', 'pitch', 'heading', 'tstamp'), \n",
    "                                   'formats': ('<i4', '<f8', '<f8', '<f8', '<f8', '<f8', '<f8', '<f8')})\n",
    "    middle = len(navdata)//2\n",
    "    flight_heading = navigation.avg_angle(navdata['heading'])\n",
    "    flight_roll = navdata['roll'].mean()\n",
    "    flight_pitch = navdata['pitch'].mean()\n",
    "    flight_roll_std = navdata['roll'].std()\n",
    "    flight_pitch_std = navdata['pitch'].std()\n",
    "    flight_elevation = navdata['height'].mean()\n",
    "    flight_lat = navdata['lat'][middle]\n",
    "    flight_lon = navdata['lon'][middle]\n",
    "    navts = dt.timedelta(seconds=navdata['tstamp'][middle])\n",
    "    hours = navts.seconds // 60 // 60\n",
    "    minutes = (navts.seconds - hours*3600)//60\n",
    "    corr = 0\n",
    "    if hours == 0 and origts.hour == 23:\n",
    "        corr = 1\n",
    "    elif hours-origts.hour not in [0, 1]:\n",
    "        print(\"!!! CAREFUL: Something odd is going on with the timestamps. Check your data for consistency.\",\n",
    "             \"Do not continue just running the code !!! \")\n",
    "        print(hours, origts.hour)\n",
    "        continue\n",
    "    # make a new corrected timestamp\n",
    "    datestamp = dt.datetime(\n",
    "        origts.year, origts.month, origts.day, \n",
    "        hours, minutes, navts.seconds % 60) + dt.timedelta(days=corr)\n",
    "    datestamp_akdt = datestamp + dt.timedelta(hours=-8)\n",
    "    datestamp = pytz.utc.localize(datestamp)\n",
    "    # calcualte solar geometry with new timestamp\n",
    "    azimuth = solar.get_azimuth(flight_lat, flight_lon, datestamp)\n",
    "    zenith = 90 - solar.get_altitude_fast(flight_lat, flight_lon, datestamp)\n",
    "    #populate flightdata dictionary\n",
    "    if write_files: \n",
    "        flightdata = {}\n",
    "        flightdata['flightlinename'] = linedir.parts[-1]\n",
    "        flightdata['origts_utc'] = origts.strftime('%Y-%m-%dT%H:%M:%S.0Z')\n",
    "        flightdata['linets_utc'] = datestamp.strftime('%Y-%m-%dT%H:%M:%S.0Z')\n",
    "        flightdata['linets_akdt'] = datestamp_akdt.strftime('%Y-%m-%d %H:%M:%S')\n",
    "        flightdata['heading_avg'] = round(flight_heading, 2)\n",
    "        flightdata['roll_avg'] = round(flight_roll, 2)\n",
    "        flightdata['roll_std'] = round(flight_roll_std, 2)\n",
    "        flightdata['pitch_avg'] = round(flight_pitch, 2)\n",
    "        flightdata['pitch_std'] = round(flight_pitch_std, 2)\n",
    "        flightdata['elevation_m_amsl'] = round(flight_elevation, 2)\n",
    "        flightdata['latitude'] = round(flight_lat, 2)\n",
    "        flightdata['longitude'] = round(flight_lon, 2)\n",
    "        flightdata['sun_azimuth'] = round(azimuth, 2)\n",
    "        flightdata['sun_zenith'] = round(zenith, 2)\n",
    "        outfp = linedir / outdirstr / f\"{prefix}_{linenumstr}_{outfile_patt}\"\n",
    "        with open(outfp, \"w\") as dst:\n",
    "            dst.write(json.dumps(flightdata, indent=2))\n",
    "        print(f\"Done writing {outfp}.\")\n",
    "    # output results\n",
    "    print(\"\\tFlightline heading: {:3.2f} °\\n\\tFlightline elevation: {:4.2f} m\".format(flight_heading, flight_elevation))\n",
    "    print(\"\\tFlightline roll: {:3.2f} °\\n\\tFlightline roll std: {:3.2f} °\".format(flight_roll, flight_roll_std))\n",
    "    print(\"\\tFlightline pitch: {:3.2f} °\\n\\tFlightline pitch std: {:3.2f} °\".format(flight_pitch, flight_pitch_std))\n",
    "    print(\"\\tFlightline latitude: {:3.2f} °\\n\\tFlightline longitude: {:3.2f} °\".format(flight_lat, flight_lon))\n",
    "    print(f\"\\tNEO start timestamp (UTC): {origts}\\n\\tFlightline timestamp (UTC): {datestamp}\")\n",
    "    print(f\"\\tFlightline timestamp (AKDT): {datestamp_akdt}\")\n",
    "    print(\"\\tSolar azimuth: {:3.2f} °\\n\\tSolar zenith: {:3.2f} °\".format(azimuth, zenith))\n",
    "    print()"
   ]
  }
 ],
 "metadata": {
  "kernelspec": {
   "display_name": "Python 3",
   "language": "python",
   "name": "python3"
  },
  "language_info": {
   "codemirror_mode": {
    "name": "ipython",
    "version": 3
   },
   "file_extension": ".py",
   "mimetype": "text/x-python",
   "name": "python",
   "nbconvert_exporter": "python",
   "pygments_lexer": "ipython3"
  }
 },
 "nbformat": 4,
 "nbformat_minor": 4
}
