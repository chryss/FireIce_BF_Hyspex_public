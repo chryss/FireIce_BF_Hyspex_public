{
 "cells": [
  {
   "cell_type": "code",
   "execution_count": null,
   "metadata": {},
   "outputs": [],
   "source": [
    "import json\n",
    "from pathlib import Path\n",
    "import metadata\n",
    "import numpy as np\n",
    "import shutil\n",
    "import datetime as dt\n",
    "import pytz "
   ]
  },
  {
   "cell_type": "markdown",
   "metadata": {},
   "source": [
    "### When to run this notebook"
   ]
  },
  {
   "cell_type": "markdown",
   "metadata": {},
   "source": [
    "After generating PARGE radiance supercubes through integrated processing, or stacking VNIR and SWIR cubes into full supercubes `[flightline]_VNIR_SWIR_supercube.geo.bsq`, and assembling full-supercubes `[flightline]_VNIR_SWIR_supercube.geo_sca.bsq` (for example using notebook 06). There are a number of ways to accomplish this, among them:\n",
    "\n",
    "* Manually stacking VNIR and SWIR output using ENVI\n",
    "* Stacking VNIR and SWIR output programmatically with the `gdal` tools\n",
    "* Using PARGE's integrated processing to produce a single supercube\n",
    "\n",
    "The code in the following is quite flexible and needs to be run thoughtfully. At the time of this writing, we presume EITHER integrated processing with cutover at 954 nm to generate 459 bands, or manual stacking in ENVI, using bands 1-170 VNIR and 2-288 SWIR for a total of 457 bands\n",
    "\n",
    "The code can also be run after ATCOR, for final product generation.\n",
    "\n",
    "The goal of this code is to produce suitable metadata for use in ATCOR and prepare final packaging metadata."
   ]
  },
  {
   "cell_type": "code",
   "execution_count": null,
   "metadata": {},
   "outputs": [],
   "source": [
    "def strip_braces(mystr):\n",
    "    return mystr.replace('{', '').replace('}', '').strip()"
   ]
  },
  {
   "cell_type": "code",
   "execution_count": null,
   "metadata": {},
   "outputs": [],
   "source": [
    "def metadata_to_dict(metadatalist):\n",
    "    \"\"\"Take metadata in list-of-lines form, parse into dict\"\"\"\n",
    "    metadict = {}\n",
    "    for line in metadatalist:\n",
    "        if line.startswith(' '):\n",
    "            try:\n",
    "                metadict[lastkey] = metadict[lastkey] + '\\n ' + line.strip()\n",
    "                continue\n",
    "            except KeyError:\n",
    "                continue\n",
    "        newitem = [item.strip() for item in line.split('=', 1)]\n",
    "        try:\n",
    "            metadict[newitem[0]] = metadict[newitem[0]] + ' ' + newitem[1]\n",
    "        except KeyError:\n",
    "            try:\n",
    "                metadict[newitem[0]] = newitem[1]\n",
    "                lastkey = newitem[0]\n",
    "            except IndexError:\n",
    "                metadict[lastkey] = metadict[lastkey] + '\\n ' + newitem[0]\n",
    "    return metadict\n",
    "\n",
    "def hdrfile_to_dict(fp):\n",
    "    \"\"\"Take file path, return dictionary\"\"\" \n",
    "    with open(fp) as src:\n",
    "        lines = src.readlines()\n",
    "        metadata = metadata_to_dict(lines[1:])\n",
    "    return metadata\n"
   ]
  },
  {
   "cell_type": "code",
   "execution_count": null,
   "metadata": {},
   "outputs": [],
   "source": [
    "projdir = \"Z://fihyper//cwaigl//20200710_CPC\"\n",
    "prefix = \"20200710-CPC\""
   ]
  },
  {
   "cell_type": "markdown",
   "metadata": {},
   "source": [
    "### Prototyping"
   ]
  },
  {
   "cell_type": "code",
   "execution_count": null,
   "metadata": {},
   "outputs": [],
   "source": [
    "lineno = '14' \n",
    "navdir = Path(f\"{projdir}\\\\{prefix}_{lineno}\\\\NAV\")\n",
    "atcordir = Path(f\"{projdir}\\\\{prefix}_{lineno}\\\\ATCOR-1130\")\n",
    "brefcordir = Path(f\"{projdir}\\\\02_intermediate\\\\brefcor\")\n",
    "pargedir = Path(f\"{projdir}\\\\{prefix}_{lineno}\\\\ATCOR\")\n",
    "outputdir = Path(f\"{projdir}\\\\02_intermediate\\\\working\")"
   ]
  },
  {
   "cell_type": "code",
   "execution_count": null,
   "metadata": {},
   "outputs": [],
   "source": [
    "extra = '_rad' "
   ]
  },
  {
   "cell_type": "code",
   "execution_count": null,
   "metadata": {},
   "outputs": [],
   "source": [
    "targetfile = f'{prefix}_{lineno}_VNIR_SWIR_rad_geo_atm_bcor_crop.hdr'\n",
    "atcorfile = f'{prefix}_{lineno}_VNIR_SWIR_supercube_masked_geo_atm.hdr'\n",
    "pargefile = f'{prefix}_{lineno}_VNIR_SWIR_supercube_masked_geo.hdr'\n",
    "flightdatafile = f'{prefix}_{lineno}_VNIR_SWIR_rad_geo_flightdata.txt'"
   ]
  },
  {
   "cell_type": "code",
   "execution_count": null,
   "metadata": {},
   "outputs": [],
   "source": [
    "targetfile = f'{prefix}_{lineno}_VNIR_SWIR_rad_geo_atm_bcor.hdr'\n",
    "atcorfile = f'{prefix}_{lineno}_VNIR_SWIR_rad_geo_atm.hdr'\n",
    "pargefile = f'{prefix}_{lineno}_VNIR_SWIR{extra}_geo.hdr'\n",
    "flightdatafile = f'{prefix}_{lineno}_VNIR_SWIR_rad_geo_flightdata.txt'"
   ]
  },
  {
   "cell_type": "code",
   "execution_count": null,
   "metadata": {},
   "outputs": [],
   "source": [
    "pargemeta = hdrfile_to_dict(pargedir / pargefile)\n",
    "atcormeta = hdrfile_to_dict(atcordir / atcorfile)\n",
    "targetmeta = hdrfile_to_dict(brefcordir / targetfile)\n",
    "flightdata = json.load(open(navdir / flightdatafile))"
   ]
  },
  {
   "cell_type": "code",
   "execution_count": null,
   "metadata": {},
   "outputs": [
    {
     "data": {
      "text/plain": [
       "{'flightlinename': '20200710-CPC_14',\n",
       " 'origts_utc': '2020-07-11T01:33:33.0Z',\n",
       " 'linets_utc': '2020-07-11T01:38:09.0Z',\n",
       " 'linets_akdt': '2020-07-10 17:38:09',\n",
       " 'heading_avg': 182.67,\n",
       " 'roll_avg': -1.27,\n",
       " 'roll_std': 1.84,\n",
       " 'pitch_avg': -7.25,\n",
       " 'pitch_std': 1.09,\n",
       " 'elevation_m_amsl': 2335.72,\n",
       " 'latitude': 65.16,\n",
       " 'longitude': -147.51,\n",
       " 'sun_azimuth': 247.51,\n",
       " 'sun_zenith': 56.0}"
      ]
     },
     "execution_count": 60,
     "metadata": {},
     "output_type": "execute_result"
    }
   ],
   "source": [
    "flightdata"
   ]
  },
  {
   "cell_type": "code",
   "execution_count": null,
   "metadata": {},
   "outputs": [
    {
     "data": {
      "text/plain": [
       "{'description': '{\\n 20200710-CPC_14_VNIR_SWIR_rad_geo_atm_bcor_crop.bsq}',\n",
       " 'samples': '1128',\n",
       " 'lines': '6503',\n",
       " 'bands': '457',\n",
       " 'header offset': '0',\n",
       " 'file type': 'ENVI Standard',\n",
       " 'data type': '2',\n",
       " 'interleave': 'bsq',\n",
       " 'byte order': '0',\n",
       " 'map info': '{UTM, 1, 1, 475388.5, 7230445.5, 1, 1, 6, North,WGS-84}',\n",
       " 'coordinate system string': '{PROJCS[\"WGS_1984_UTM_Zone_6N\",GEOGCS[\"GCS_WGS_1984\",DATUM[\"D_WGS_1984\",SPHEROID[\"WGS_1984\",6378137.0,298.257223563]],PRIMEM[\"Greenwich\",0.0],UNIT[\"Degree\",0.0174532925199433]],PROJECTION[\"Transverse_Mercator\"],PARAMETER[\"False_Easting\",500000.0],PARAMETER[\"False_Northing\",0.0],PARAMETER[\"Central_Meridian\",-147.0],PARAMETER[\"Scale_Factor\",0.9996],PARAMETER[\"Latitude_Of_Origin\",0.0],UNIT[\"Meter\",1.0]]}',\n",
       " 'band names': '{\\n band 1 refl [%*100] (410.36),\\n band 2 refl [%*100] (413.53),\\n band 3 refl [%*100] (416.70),\\n band 4 refl [%*100] (419.87),\\n band 5 refl [%*100] (423.04),\\n band 6 refl [%*100] (426.21),\\n band 7 refl [%*100] (429.38),\\n band 8 refl [%*100] (432.55),\\n band 9 refl [%*100] (435.71),\\n band 10 refl [%*100] (438.89),\\n band 11 refl [%*100] (442.05),\\n band 12 refl [%*100] (445.23),\\n band 13 refl [%*100] (448.40),\\n band 14 refl [%*100] (451.57),\\n band 15 refl [%*100] (454.74),\\n band 16 refl [%*100] (457.90),\\n band 17 refl [%*100] (461.07),\\n band 18 refl [%*100] (464.24),\\n band 19 refl [%*100] (467.41),\\n band 20 refl [%*100] (470.58),\\n band 21 refl [%*100] (473.75),\\n band 22 refl [%*100] (476.92),\\n band 23 refl [%*100] (480.09),\\n band 24 refl [%*100] (483.26),\\n band 25 refl [%*100] (486.43),\\n band 26 refl [%*100] (489.60),\\n band 27 refl [%*100] (492.77),\\n band 28 refl [%*100] (495.94),\\n band 29 refl [%*100] (499.11),\\n band 30 refl [%*100] (502.28),\\n band 31 refl [%*100] (505.45),\\n band 32 refl [%*100] (508.62),\\n band 33 refl [%*100] (511.79),\\n band 34 refl [%*100] (514.96),\\n band 35 refl [%*100] (518.13),\\n band 36 refl [%*100] (521.29),\\n band 37 refl [%*100] (524.47),\\n band 38 refl [%*100] (527.63),\\n band 39 refl [%*100] (530.80),\\n band 40 refl [%*100] (533.97),\\n band 41 refl [%*100] (537.15),\\n band 42 refl [%*100] (540.32),\\n band 43 refl [%*100] (543.48),\\n band 44 refl [%*100] (546.65),\\n band 45 refl [%*100] (549.82),\\n band 46 refl [%*100] (552.99),\\n band 47 refl [%*100] (556.16),\\n band 48 refl [%*100] (559.33),\\n band 49 refl [%*100] (562.50),\\n band 50 refl [%*100] (565.67),\\n band 51 refl [%*100] (568.84),\\n band 52 refl [%*100] (572.01),\\n band 53 refl [%*100] (575.18),\\n band 54 refl [%*100] (578.35),\\n band 55 refl [%*100] (581.52),\\n band 56 refl [%*100] (584.69),\\n band 57 refl [%*100] (587.86),\\n band 58 refl [%*100] (591.03),\\n band 59 refl [%*100] (594.20),\\n band 60 refl [%*100] (597.37),\\n band 61 refl [%*100] (600.54),\\n band 62 refl [%*100] (603.71),\\n band 63 refl [%*100] (606.88),\\n band 64 refl [%*100] (610.05),\\n band 65 refl [%*100] (613.22),\\n band 66 refl [%*100] (616.39),\\n band 67 refl [%*100] (619.55),\\n band 68 refl [%*100] (622.73),\\n band 69 refl [%*100] (625.90),\\n band 70 refl [%*100] (629.06),\\n band 71 refl [%*100] (632.23),\\n band 72 refl [%*100] (635.40),\\n band 73 refl [%*100] (638.57),\\n band 74 refl [%*100] (641.74),\\n band 75 refl [%*100] (644.91),\\n band 76 refl [%*100] (648.08),\\n band 77 refl [%*100] (651.25),\\n band 78 refl [%*100] (654.42),\\n band 79 refl [%*100] (657.59),\\n band 80 refl [%*100] (660.76),\\n band 81 refl [%*100] (663.93),\\n band 82 refl [%*100] (667.10),\\n band 83 refl [%*100] (670.27),\\n band 84 refl [%*100] (673.44),\\n band 85 refl [%*100] (676.61),\\n band 86 refl [%*100] (679.78),\\n band 87 refl [%*100] (682.95),\\n band 88 refl [%*100] (686.12),\\n band* 89 refl [%*100] (689.28),\\n band* 90 refl [%*100] (692.46),\\n band* 91 refl [%*100] (695.63),\\n band* 92 refl [%*100] (698.80),\\n band* 93 refl [%*100] (701.96),\\n band* 94 refl [%*100] (705.14),\\n band* 95 refl [%*100] (708.30),\\n band* 96 refl [%*100] (711.47),\\n band* 97 refl [%*100] (714.64),\\n band* 98 refl [%*100] (717.81),\\n band* 99 refl [%*100] (720.98),\\n band*100 refl [%*100] (724.15),\\n band*101 refl [%*100] (727.32),\\n band*102 refl [%*100] (730.49),\\n band*103 refl [%*100] (733.66),\\n band*104 refl [%*100] (736.83),\\n band*105 refl [%*100] (740.00),\\n band 106 refl [%*100] (743.17),\\n band 107 refl [%*100] (746.34),\\n band 108 refl [%*100] (749.51),\\n band*109 refl [%*100] (752.68),\\n band*110 refl [%*100] (755.85),\\n band*111 refl [%*100] (759.02),\\n band*112 refl [%*100] (762.19),\\n band*113 refl [%*100] (765.36),\\n band*114 refl [%*100] (768.53),\\n band*115 refl [%*100] (771.70),\\n band 116 refl [%*100] (774.86),\\n band 117 refl [%*100] (778.04),\\n band 118 refl [%*100] (781.21),\\n band 119 refl [%*100] (784.38),\\n band 120 refl [%*100] (787.55),\\n band*121 refl [%*100] (790.71),\\n band*122 refl [%*100] (793.88),\\n band*123 refl [%*100] (797.05),\\n band*124 refl [%*100] (800.22),\\n band*125 refl [%*100] (803.39),\\n band*126 refl [%*100] (806.56),\\n band*127 refl [%*100] (809.73),\\n band*128 refl [%*100] (812.90),\\n band*129 refl [%*100] (816.07),\\n band*130 refl [%*100] (819.24),\\n band*131 refl [%*100] (822.41),\\n band*132 refl [%*100] (825.58),\\n band*133 refl [%*100] (828.75),\\n band*134 refl [%*100] (831.92),\\n band*135 refl [%*100] (835.09),\\n band*136 refl [%*100] (838.26),\\n band 137 refl [%*100] (841.43),\\n band 138 refl [%*100] (844.60),\\n band 139 refl [%*100] (847.77),\\n band 140 refl [%*100] (850.94),\\n band 141 refl [%*100] (854.11),\\n band 142 refl [%*100] (857.28),\\n band 143 refl [%*100] (860.45),\\n band 144 refl [%*100] (863.62),\\n band 145 refl [%*100] (866.78),\\n band 146 refl [%*100] (869.96),\\n band 147 refl [%*100] (873.13),\\n band 148 refl [%*100] (876.29),\\n band 149 refl [%*100] (879.46),\\n band 150 refl [%*100] (882.63),\\n band 151 refl [%*100] (885.80),\\n band 152 refl [%*100] (888.97),\\n band 153 refl [%*100] (892.14),\\n band*154 refl [%*100] (895.31),\\n band*155 refl [%*100] (898.48),\\n band*156 refl [%*100] (901.65),\\n band*157 refl [%*100] (904.82),\\n band*158 refl [%*100] (907.99),\\n band*159 refl [%*100] (911.16),\\n band*160 refl [%*100] (914.33),\\n band*161 refl [%*100] (917.50),\\n band*162 refl [%*100] (920.67),\\n band*163 refl [%*100] (923.84),\\n band*164 refl [%*100] (927.01),\\n band*165 refl [%*100] (930.18),\\n band*166 refl [%*100] (933.35),\\n band*167 refl [%*100] (936.52),\\n band*168 refl [%*100] (939.69),\\n band*169 refl [%*100] (942.85),\\n band*170 refl [%*100] (946.03),\\n band*171 refl [%*100] (954.75),\\n band*172 refl [%*100] (960.18),\\n band*173 refl [%*100] (965.62),\\n band*174 refl [%*100] (971.05),\\n band*175 refl [%*100] (976.49),\\n band*176 refl [%*100] (981.92),\\n band*177 refl [%*100] (987.36),\\n band*178 refl [%*100] (992.79),\\n band*179 refl [%*100] (998.23),\\n band 180 refl [%*100] (1003.66),\\n band 181 refl [%*100] (1009.10),\\n band 182 refl [%*100] (1014.53),\\n band 183 refl [%*100] (1019.96),\\n band 184 refl [%*100] (1025.40),\\n band 185 refl [%*100] (1030.83),\\n band 186 refl [%*100] (1036.27),\\n band 187 refl [%*100] (1041.70),\\n band 188 refl [%*100] (1047.14),\\n band 189 refl [%*100] (1052.57),\\n band 190 refl [%*100] (1058.01),\\n band 191 refl [%*100] (1063.44),\\n band 192 refl [%*100] (1068.88),\\n band 193 refl [%*100] (1074.31),\\n band*194 refl [%*100] (1079.74),\\n band*195 refl [%*100] (1085.18),\\n band*196 refl [%*100] (1090.61),\\n band*197 refl [%*100] (1096.05),\\n band*198 refl [%*100] (1101.48),\\n band*199 refl [%*100] (1106.92),\\n band*200 refl [%*100] (1112.35),\\n band*201 refl [%*100] (1117.79),\\n band*202 refl [%*100] (1123.22),\\n band*203 refl [%*100] (1128.65),\\n band*204 refl [%*100] (1134.09),\\n band*205 refl [%*100] (1139.52),\\n band*206 refl [%*100] (1144.96),\\n band*207 refl [%*100] (1150.39),\\n band*208 refl [%*100] (1155.83),\\n band*209 refl [%*100] (1161.26),\\n band*210 refl [%*100] (1166.70),\\n band*211 refl [%*100] (1172.13),\\n band*212 refl [%*100] (1177.57),\\n band*213 refl [%*100] (1183.00),\\n band*214 refl [%*100] (1188.43),\\n band 215 refl [%*100] (1193.87),\\n band 216 refl [%*100] (1199.30),\\n band 217 refl [%*100] (1204.74),\\n band 218 refl [%*100] (1210.17),\\n band 219 refl [%*100] (1215.61),\\n band 220 refl [%*100] (1221.04),\\n band 221 refl [%*100] (1226.48),\\n band 222 refl [%*100] (1231.91),\\n band 223 refl [%*100] (1237.35),\\n band 224 refl [%*100] (1242.78),\\n band 225 refl [%*100] (1248.21),\\n band 226 refl [%*100] (1253.65),\\n band 227 refl [%*100] (1259.08),\\n band 228 refl [%*100] (1264.52),\\n band 229 refl [%*100] (1269.95),\\n band 230 refl [%*100] (1275.39),\\n band 231 refl [%*100] (1280.82),\\n band 232 refl [%*100] (1286.26),\\n band 233 refl [%*100] (1291.69),\\n band 234 refl [%*100] (1297.12),\\n band 235 refl [%*100] (1302.56),\\n band 236 refl [%*100] (1307.99),\\n band 237 refl [%*100] (1313.43),\\n band 238 refl [%*100] (1318.86),\\n band 239 refl [%*100] (1324.30),\\n band 240 refl [%*100] (1329.73),\\n band 241 refl [%*100] (1335.17),\\n band 242 refl [%*100] (1340.60),\\n band 243 refl [%*100] (1346.04),\\n band 244 refl [%*100] (1351.47),\\n band 245 refl [%*100] (1356.90),\\n band 246 refl [%*100] (1362.34),\\n band 247 refl [%*100] (1367.77),\\n band 248 refl [%*100] (1373.21),\\n band 249 refl [%*100] (1378.64),\\n band 250 refl [%*100] (1384.08),\\n band 251 refl [%*100] (1389.51),\\n band 252 refl [%*100] (1394.95),\\n band 253 refl [%*100] (1400.38),\\n band 254 refl [%*100] (1405.82),\\n band 255 refl [%*100] (1411.25),\\n band 256 refl [%*100] (1416.68),\\n band 257 refl [%*100] (1422.12),\\n band 258 refl [%*100] (1427.55),\\n band 259 refl [%*100] (1432.99),\\n band 260 refl [%*100] (1438.42),\\n band 261 refl [%*100] (1443.86),\\n band 262 refl [%*100] (1449.29),\\n band 263 refl [%*100] (1454.73),\\n band 264 refl [%*100] (1460.16),\\n band 265 refl [%*100] (1465.60),\\n band 266 refl [%*100] (1471.03),\\n band 267 refl [%*100] (1476.46),\\n band 268 refl [%*100] (1481.90),\\n band 269 refl [%*100] (1487.33),\\n band 270 refl [%*100] (1492.77),\\n band 271 refl [%*100] (1498.20),\\n band 272 refl [%*100] (1503.64),\\n band 273 refl [%*100] (1509.07),\\n band 274 refl [%*100] (1514.51),\\n band 275 refl [%*100] (1519.94),\\n band 276 refl [%*100] (1525.37),\\n band 277 refl [%*100] (1530.81),\\n band 278 refl [%*100] (1536.24),\\n band 279 refl [%*100] (1541.68),\\n band 280 refl [%*100] (1547.11),\\n band 281 refl [%*100] (1552.55),\\n band 282 refl [%*100] (1557.98),\\n band 283 refl [%*100] (1563.42),\\n band 284 refl [%*100] (1568.85),\\n band 285 refl [%*100] (1574.29),\\n band 286 refl [%*100] (1579.72),\\n band 287 refl [%*100] (1585.15),\\n band 288 refl [%*100] (1590.59),\\n band 289 refl [%*100] (1596.02),\\n band 290 refl [%*100] (1601.46),\\n band 291 refl [%*100] (1606.89),\\n band 292 refl [%*100] (1612.33),\\n band 293 refl [%*100] (1617.76),\\n band 294 refl [%*100] (1623.20),\\n band 295 refl [%*100] (1628.63),\\n band 296 refl [%*100] (1634.07),\\n band 297 refl [%*100] (1639.50),\\n band 298 refl [%*100] (1644.93),\\n band 299 refl [%*100] (1650.37),\\n band 300 refl [%*100] (1655.80),\\n band 301 refl [%*100] (1661.24),\\n band 302 refl [%*100] (1666.67),\\n band 303 refl [%*100] (1672.11),\\n band 304 refl [%*100] (1677.54),\\n band 305 refl [%*100] (1682.98),\\n band 306 refl [%*100] (1688.41),\\n band 307 refl [%*100] (1693.84),\\n band 308 refl [%*100] (1699.28),\\n band 309 refl [%*100] (1704.71),\\n band 310 refl [%*100] (1710.15),\\n band 311 refl [%*100] (1715.58),\\n band 312 refl [%*100] (1721.02),\\n band 313 refl [%*100] (1726.45),\\n band 314 refl [%*100] (1731.89),\\n band 315 refl [%*100] (1737.32),\\n band 316 refl [%*100] (1742.76),\\n band 317 refl [%*100] (1748.19),\\n band 318 refl [%*100] (1753.62),\\n band 319 refl [%*100] (1759.06),\\n band 320 refl [%*100] (1764.49),\\n band 321 refl [%*100] (1769.93),\\n band 322 refl [%*100] (1775.36),\\n band 323 refl [%*100] (1780.80),\\n band 324 refl [%*100] (1786.23),\\n band 325 refl [%*100] (1791.67),\\n band 326 refl [%*100] (1797.10),\\n band 327 refl [%*100] (1802.54),\\n band 328 refl [%*100] (1807.97),\\n band 329 refl [%*100] (1813.40),\\n band 330 refl [%*100] (1818.84),\\n band 331 refl [%*100] (1824.27),\\n band 332 refl [%*100] (1829.71),\\n band 333 refl [%*100] (1835.14),\\n band 334 refl [%*100] (1840.58),\\n band 335 refl [%*100] (1846.01),\\n band 336 refl [%*100] (1851.45),\\n band 337 refl [%*100] (1856.88),\\n band 338 refl [%*100] (1862.31),\\n band 339 refl [%*100] (1867.75),\\n band 340 refl [%*100] (1873.18),\\n band 341 refl [%*100] (1878.62),\\n band 342 refl [%*100] (1884.05),\\n band 343 refl [%*100] (1889.49),\\n band 344 refl [%*100] (1894.92),\\n band 345 refl [%*100] (1900.36),\\n band 346 refl [%*100] (1905.79),\\n band 347 refl [%*100] (1911.23),\\n band 348 refl [%*100] (1916.66),\\n band 349 refl [%*100] (1922.09),\\n band 350 refl [%*100] (1927.53),\\n band 351 refl [%*100] (1932.96),\\n band 352 refl [%*100] (1938.40),\\n band 353 refl [%*100] (1943.83),\\n band 354 refl [%*100] (1949.27),\\n band 355 refl [%*100] (1954.70),\\n band 356 refl [%*100] (1960.14),\\n band 357 refl [%*100] (1965.57),\\n band 358 refl [%*100] (1971.01),\\n band 359 refl [%*100] (1976.44),\\n band 360 refl [%*100] (1981.87),\\n band 361 refl [%*100] (1987.31),\\n band 362 refl [%*100] (1992.74),\\n band 363 refl [%*100] (1998.18),\\n band 364 refl [%*100] (2003.61),\\n band 365 refl [%*100] (2009.05),\\n band 366 refl [%*100] (2014.48),\\n band 367 refl [%*100] (2019.92),\\n band 368 refl [%*100] (2025.35),\\n band 369 refl [%*100] (2030.79),\\n band 370 refl [%*100] (2036.22),\\n band 371 refl [%*100] (2041.65),\\n band 372 refl [%*100] (2047.09),\\n band 373 refl [%*100] (2052.52),\\n band 374 refl [%*100] (2057.96),\\n band 375 refl [%*100] (2063.39),\\n band 376 refl [%*100] (2068.83),\\n band 377 refl [%*100] (2074.26),\\n band 378 refl [%*100] (2079.70),\\n band 379 refl [%*100] (2085.13),\\n band 380 refl [%*100] (2090.56),\\n band 381 refl [%*100] (2096.00),\\n band 382 refl [%*100] (2101.43),\\n band 383 refl [%*100] (2106.87),\\n band 384 refl [%*100] (2112.30),\\n band 385 refl [%*100] (2117.74),\\n band 386 refl [%*100] (2123.17),\\n band 387 refl [%*100] (2128.61),\\n band 388 refl [%*100] (2134.04),\\n band 389 refl [%*100] (2139.48),\\n band 390 refl [%*100] (2144.91),\\n band 391 refl [%*100] (2150.34),\\n band 392 refl [%*100] (2155.78),\\n band 393 refl [%*100] (2161.21),\\n band 394 refl [%*100] (2166.65),\\n band 395 refl [%*100] (2172.08),\\n band 396 refl [%*100] (2177.52),\\n band 397 refl [%*100] (2182.95),\\n band 398 refl [%*100] (2188.39),\\n band 399 refl [%*100] (2193.82),\\n band 400 refl [%*100] (2199.26),\\n band 401 refl [%*100] (2204.69),\\n band 402 refl [%*100] (2210.12),\\n band 403 refl [%*100] (2215.56),\\n band 404 refl [%*100] (2220.99),\\n band 405 refl [%*100] (2226.43),\\n band 406 refl [%*100] (2231.86),\\n band 407 refl [%*100] (2237.30),\\n band 408 refl [%*100] (2242.73),\\n band 409 refl [%*100] (2248.17),\\n band 410 refl [%*100] (2253.60),\\n band 411 refl [%*100] (2259.03),\\n band 412 refl [%*100] (2264.47),\\n band 413 refl [%*100] (2269.90),\\n band 414 refl [%*100] (2275.34),\\n band 415 refl [%*100] (2280.77),\\n band 416 refl [%*100] (2286.21),\\n band 417 refl [%*100] (2291.64),\\n band 418 refl [%*100] (2297.08),\\n band 419 refl [%*100] (2302.51),\\n band 420 refl [%*100] (2307.95),\\n band 421 refl [%*100] (2313.38),\\n band 422 refl [%*100] (2318.81),\\n band 423 refl [%*100] (2324.25),\\n band 424 refl [%*100] (2329.68),\\n band 425 refl [%*100] (2335.12),\\n band 426 refl [%*100] (2340.55),\\n band 427 refl [%*100] (2345.99),\\n band 428 refl [%*100] (2351.42),\\n band 429 refl [%*100] (2356.86),\\n band 430 refl [%*100] (2362.29),\\n band 431 refl [%*100] (2367.73),\\n band 432 refl [%*100] (2373.16),\\n band 433 refl [%*100] (2378.59),\\n band 434 refl [%*100] (2384.03),\\n band 435 refl [%*100] (2389.46),\\n band 436 refl [%*100] (2394.90),\\n band 437 refl [%*100] (2400.33),\\n band 438 refl [%*100] (2405.77),\\n band 439 refl [%*100] (2411.20),\\n band 440 refl [%*100] (2416.64),\\n band 441 refl [%*100] (2422.07),\\n band 442 refl [%*100] (2427.50),\\n band 443 refl [%*100] (2432.94),\\n band 444 refl [%*100] (2438.37),\\n band 445 refl [%*100] (2443.81),\\n band 446 refl [%*100] (2449.24),\\n band 447 refl [%*100] (2454.68),\\n band 448 refl [%*100] (2460.11),\\n band 449 refl [%*100] (2465.55),\\n band 450 refl [%*100] (2470.98),\\n band 451 refl [%*100] (2476.42),\\n band 452 refl [%*100] (2481.85),\\n band 453 refl [%*100] (2487.28),\\n band 454 refl [%*100] (2492.72),\\n band 455 refl [%*100] (2498.15),\\n band 456 refl [%*100] (2503.59),\\n band 457 refl [%*100] (2509.02)}',\n",
       " 'data ignore value': '14000'}"
      ]
     },
     "execution_count": 61,
     "metadata": {},
     "output_type": "execute_result"
    }
   ],
   "source": [
    "targetmeta"
   ]
  },
  {
   "cell_type": "code",
   "execution_count": null,
   "metadata": {},
   "outputs": [
    {
     "data": {
      "text/plain": [
       "{'samples': '1901',\n",
       " 'lines': '10151',\n",
       " 'bands': '457',\n",
       " 'header offset': '0',\n",
       " 'data type': '2',\n",
       " 'byte order': '0',\n",
       " 'interleave': 'BSQ',\n",
       " 'file type': 'ENVI Standard',\n",
       " 'default bands': '{290, 140, 20}',\n",
       " 'description': '{ATCOR4 : 11\\\\07\\\\20  solar zen=56.0,  solar azi=247.5,  sensorid=HySpex_457_FoV2_Husky,\\n fcref=100.0,  fctem=100.0}',\n",
       " 'x start': '1.00000',\n",
       " 'y start': '1.00000',\n",
       " 'pixel size': '{       1.0000000,        1.0000000}',\n",
       " 'map info': '{UTM,        1,        1,        474899.50,        7232100.5,  1.0000000000e+000,  1.0000000000e+000,  6,  North,  WGS-84,  units=Meters}',\n",
       " 'z plot titles': '{ wavelength [nm], reflectance [%*100] }',\n",
       " 'band names': '{band   1 refl [%*100], band   2 refl [%*100], band   3 refl [%*100],\\n band   4 refl [%*100], band   5 refl [%*100], band   6 refl [%*100], band   7 refl [%*100],\\n band   8 refl [%*100], band   9 refl [%*100], band  10 refl [%*100], band  11 refl [%*100],\\n band  12 refl [%*100], band  13 refl [%*100], band  14 refl [%*100], band  15 refl [%*100],\\n band  16 refl [%*100], band  17 refl [%*100], band  18 refl [%*100], band  19 refl [%*100],\\n band  20 refl [%*100], band  21 refl [%*100], band  22 refl [%*100], band  23 refl [%*100],\\n band  24 refl [%*100], band  25 refl [%*100], band  26 refl [%*100], band  27 refl [%*100],\\n band  28 refl [%*100], band  29 refl [%*100], band  30 refl [%*100], band  31 refl [%*100],\\n band  32 refl [%*100], band  33 refl [%*100], band  34 refl [%*100], band  35 refl [%*100],\\n band  36 refl [%*100], band  37 refl [%*100], band  38 refl [%*100], band  39 refl [%*100],\\n band  40 refl [%*100], band  41 refl [%*100], band  42 refl [%*100], band  43 refl [%*100],\\n band  44 refl [%*100], band  45 refl [%*100], band  46 refl [%*100], band  47 refl [%*100],\\n band  48 refl [%*100], band  49 refl [%*100], band  50 refl [%*100], band  51 refl [%*100],\\n band  52 refl [%*100], band  53 refl [%*100], band  54 refl [%*100], band  55 refl [%*100],\\n band  56 refl [%*100], band  57 refl [%*100], band  58 refl [%*100], band  59 refl [%*100],\\n band  60 refl [%*100], band  61 refl [%*100], band  62 refl [%*100], band  63 refl [%*100],\\n band  64 refl [%*100], band  65 refl [%*100], band  66 refl [%*100], band  67 refl [%*100],\\n band  68 refl [%*100], band  69 refl [%*100], band  70 refl [%*100], band  71 refl [%*100],\\n band  72 refl [%*100], band  73 refl [%*100], band  74 refl [%*100], band  75 refl [%*100],\\n band  76 refl [%*100], band  77 refl [%*100], band  78 refl [%*100], band  79 refl [%*100],\\n band  80 refl [%*100], band  81 refl [%*100], band  82 refl [%*100], band  83 refl [%*100],\\n band  84 refl [%*100], band  85 refl [%*100], band  86 refl [%*100], band  87 refl [%*100],\\n band  88 refl [%*100], band* 89 refl [%*100], band* 90 refl [%*100], band* 91 refl [%*100],\\n band* 92 refl [%*100], band* 93 refl [%*100], band* 94 refl [%*100], band* 95 refl [%*100],\\n band* 96 refl [%*100], band* 97 refl [%*100], band* 98 refl [%*100], band* 99 refl [%*100],\\n band*100 refl [%*100], band*101 refl [%*100], band*102 refl [%*100], band*103 refl [%*100],\\n band*104 refl [%*100], band*105 refl [%*100], band 106 refl [%*100], band 107 refl [%*100],\\n band 108 refl [%*100], band*109 refl [%*100], band*110 refl [%*100], band*111 refl [%*100],\\n band*112 refl [%*100], band*113 refl [%*100], band*114 refl [%*100], band*115 refl [%*100],\\n band 116 refl [%*100], band 117 refl [%*100], band 118 refl [%*100], band 119 refl [%*100],\\n band 120 refl [%*100], band*121 refl [%*100], band*122 refl [%*100], band*123 refl [%*100],\\n band*124 refl [%*100], band*125 refl [%*100], band*126 refl [%*100], band*127 refl [%*100],\\n band*128 refl [%*100], band*129 refl [%*100], band*130 refl [%*100], band*131 refl [%*100],\\n band*132 refl [%*100], band*133 refl [%*100], band*134 refl [%*100], band*135 refl [%*100],\\n band*136 refl [%*100], band 137 refl [%*100], band 138 refl [%*100], band 139 refl [%*100],\\n band 140 refl [%*100], band 141 refl [%*100], band 142 refl [%*100], band 143 refl [%*100],\\n band 144 refl [%*100], band 145 refl [%*100], band 146 refl [%*100], band 147 refl [%*100],\\n band 148 refl [%*100], band 149 refl [%*100], band 150 refl [%*100], band 151 refl [%*100],\\n band 152 refl [%*100], band 153 refl [%*100], band*154 refl [%*100], band*155 refl [%*100],\\n band*156 refl [%*100], band*157 refl [%*100], band*158 refl [%*100], band*159 refl [%*100],\\n band*160 refl [%*100], band*161 refl [%*100], band*162 refl [%*100], band*163 refl [%*100],\\n band*164 refl [%*100], band*165 refl [%*100], band*166 refl [%*100], band*167 refl [%*100],\\n band*168 refl [%*100], band*169 refl [%*100], band*170 refl [%*100], band*171 refl [%*100],\\n band*172 refl [%*100], band*173 refl [%*100], band*174 refl [%*100], band*175 refl [%*100],\\n band*176 refl [%*100], band*177 refl [%*100], band*178 refl [%*100], band*179 refl [%*100],\\n band 180 refl [%*100], band 181 refl [%*100], band 182 refl [%*100], band 183 refl [%*100],\\n band 184 refl [%*100], band 185 refl [%*100], band 186 refl [%*100], band 187 refl [%*100],\\n band 188 refl [%*100], band 189 refl [%*100], band 190 refl [%*100], band 191 refl [%*100],\\n band 192 refl [%*100], band 193 refl [%*100], band*194 refl [%*100], band*195 refl [%*100],\\n band*196 refl [%*100], band*197 refl [%*100], band*198 refl [%*100], band*199 refl [%*100],\\n band*200 refl [%*100], band*201 refl [%*100], band*202 refl [%*100], band*203 refl [%*100],\\n band*204 refl [%*100], band*205 refl [%*100], band*206 refl [%*100], band*207 refl [%*100],\\n band*208 refl [%*100], band*209 refl [%*100], band*210 refl [%*100], band*211 refl [%*100],\\n band*212 refl [%*100], band*213 refl [%*100], band*214 refl [%*100], band 215 refl [%*100],\\n band 216 refl [%*100], band 217 refl [%*100], band 218 refl [%*100], band 219 refl [%*100],\\n band 220 refl [%*100], band 221 refl [%*100], band 222 refl [%*100], band 223 refl [%*100],\\n band 224 refl [%*100], band 225 refl [%*100], band 226 refl [%*100], band 227 refl [%*100],\\n band 228 refl [%*100], band 229 refl [%*100], band 230 refl [%*100], band 231 refl [%*100],\\n band 232 refl [%*100], band 233 refl [%*100], band 234 refl [%*100], band 235 refl [%*100],\\n band 236 refl [%*100], band 237 refl [%*100], band 238 refl [%*100], band 239 refl [%*100],\\n band 240 refl [%*100], band 241 refl [%*100], band 242 refl [%*100], band 243 refl [%*100],\\n band 244 refl [%*100], band 245 refl [%*100], band 246 refl [%*100], band 247 refl [%*100],\\n band 248 refl [%*100], band 249 refl [%*100], band 250 refl [%*100], band 251 refl [%*100],\\n band 252 refl [%*100], band 253 refl [%*100], band 254 refl [%*100], band 255 refl [%*100],\\n band 256 refl [%*100], band 257 refl [%*100], band 258 refl [%*100], band 259 refl [%*100],\\n band 260 refl [%*100], band 261 refl [%*100], band 262 refl [%*100], band 263 refl [%*100],\\n band 264 refl [%*100], band 265 refl [%*100], band 266 refl [%*100], band 267 refl [%*100],\\n band 268 refl [%*100], band 269 refl [%*100], band 270 refl [%*100], band 271 refl [%*100],\\n band 272 refl [%*100], band 273 refl [%*100], band 274 refl [%*100], band 275 refl [%*100],\\n band 276 refl [%*100], band 277 refl [%*100], band 278 refl [%*100], band 279 refl [%*100],\\n band 280 refl [%*100], band 281 refl [%*100], band 282 refl [%*100], band 283 refl [%*100],\\n band 284 refl [%*100], band 285 refl [%*100], band 286 refl [%*100], band 287 refl [%*100],\\n band 288 refl [%*100], band 289 refl [%*100], band 290 refl [%*100], band 291 refl [%*100],\\n band 292 refl [%*100], band 293 refl [%*100], band 294 refl [%*100], band 295 refl [%*100],\\n band 296 refl [%*100], band 297 refl [%*100], band 298 refl [%*100], band 299 refl [%*100],\\n band 300 refl [%*100], band 301 refl [%*100], band 302 refl [%*100], band 303 refl [%*100],\\n band 304 refl [%*100], band 305 refl [%*100], band 306 refl [%*100], band 307 refl [%*100],\\n band 308 refl [%*100], band 309 refl [%*100], band 310 refl [%*100], band 311 refl [%*100],\\n band 312 refl [%*100], band 313 refl [%*100], band 314 refl [%*100], band 315 refl [%*100],\\n band 316 refl [%*100], band 317 refl [%*100], band 318 refl [%*100], band 319 refl [%*100],\\n band 320 refl [%*100], band 321 refl [%*100], band 322 refl [%*100], band 323 refl [%*100],\\n band 324 refl [%*100], band 325 refl [%*100], band 326 refl [%*100], band 327 refl [%*100],\\n band 328 refl [%*100], band 329 refl [%*100], band 330 refl [%*100], band 331 refl [%*100],\\n band 332 refl [%*100], band 333 refl [%*100], band 334 refl [%*100], band 335 refl [%*100],\\n band 336 refl [%*100], band 337 refl [%*100], band 338 refl [%*100], band 339 refl [%*100],\\n band 340 refl [%*100], band 341 refl [%*100], band 342 refl [%*100], band 343 refl [%*100],\\n band 344 refl [%*100], band 345 refl [%*100], band 346 refl [%*100], band 347 refl [%*100],\\n band 348 refl [%*100], band 349 refl [%*100], band 350 refl [%*100], band 351 refl [%*100],\\n band 352 refl [%*100], band 353 refl [%*100], band 354 refl [%*100], band 355 refl [%*100],\\n band 356 refl [%*100], band 357 refl [%*100], band 358 refl [%*100], band 359 refl [%*100],\\n band 360 refl [%*100], band 361 refl [%*100], band 362 refl [%*100], band 363 refl [%*100],\\n band 364 refl [%*100], band 365 refl [%*100], band 366 refl [%*100], band 367 refl [%*100],\\n band 368 refl [%*100], band 369 refl [%*100], band 370 refl [%*100], band 371 refl [%*100],\\n band 372 refl [%*100], band 373 refl [%*100], band 374 refl [%*100], band 375 refl [%*100],\\n band 376 refl [%*100], band 377 refl [%*100], band 378 refl [%*100], band 379 refl [%*100],\\n band 380 refl [%*100], band 381 refl [%*100], band 382 refl [%*100], band 383 refl [%*100],\\n band 384 refl [%*100], band 385 refl [%*100], band 386 refl [%*100], band 387 refl [%*100],\\n band 388 refl [%*100], band 389 refl [%*100], band 390 refl [%*100], band 391 refl [%*100],\\n band 392 refl [%*100], band 393 refl [%*100], band 394 refl [%*100], band 395 refl [%*100],\\n band 396 refl [%*100], band 397 refl [%*100], band 398 refl [%*100], band 399 refl [%*100],\\n band 400 refl [%*100], band 401 refl [%*100], band 402 refl [%*100], band 403 refl [%*100],\\n band 404 refl [%*100], band 405 refl [%*100], band 406 refl [%*100], band 407 refl [%*100],\\n band 408 refl [%*100], band 409 refl [%*100], band 410 refl [%*100], band 411 refl [%*100],\\n band 412 refl [%*100], band 413 refl [%*100], band 414 refl [%*100], band 415 refl [%*100],\\n band 416 refl [%*100], band 417 refl [%*100], band 418 refl [%*100], band 419 refl [%*100],\\n band 420 refl [%*100], band 421 refl [%*100], band 422 refl [%*100], band 423 refl [%*100],\\n band 424 refl [%*100], band 425 refl [%*100], band 426 refl [%*100], band 427 refl [%*100],\\n band 428 refl [%*100], band 429 refl [%*100], band 430 refl [%*100], band 431 refl [%*100],\\n band 432 refl [%*100], band 433 refl [%*100], band 434 refl [%*100], band 435 refl [%*100],\\n band 436 refl [%*100], band 437 refl [%*100], band 438 refl [%*100], band 439 refl [%*100],\\n band 440 refl [%*100], band 441 refl [%*100], band 442 refl [%*100], band 443 refl [%*100],\\n band 444 refl [%*100], band 445 refl [%*100], band 446 refl [%*100], band 447 refl [%*100],\\n band 448 refl [%*100], band 449 refl [%*100], band 450 refl [%*100], band 451 refl [%*100],\\n band 452 refl [%*100], band 453 refl [%*100], band 454 refl [%*100], band 455 refl [%*100],\\n band 456 refl [%*100], band 457 refl [%*100]}',\n",
       " 'wavelength': '{ 410.36,  413.53,  416.70,  419.87,  423.04,  426.21,  429.38,\\n 432.55,  435.71,  438.89,  442.05,  445.23,  448.40,  451.57,  454.74,\\n 457.90,  461.07,  464.24,  467.41,  470.58,  473.75,  476.92,  480.09,\\n 483.26,  486.43,  489.60,  492.77,  495.94,  499.11,  502.28,  505.45,\\n 508.62,  511.79,  514.96,  518.13,  521.29,  524.47,  527.63,  530.80,\\n 533.97,  537.15,  540.32,  543.48,  546.65,  549.82,  552.99,  556.16,\\n 559.33,  562.50,  565.67,  568.84,  572.01,  575.18,  578.35,  581.52,\\n 584.69,  587.86,  591.03,  594.20,  597.37,  600.54,  603.71,  606.88,\\n 610.05,  613.22,  616.39,  619.55,  622.73,  625.90,  629.06,  632.23,\\n 635.40,  638.57,  641.74,  644.91,  648.08,  651.25,  654.42,  657.59,\\n 660.76,  663.93,  667.10,  670.27,  673.44,  676.61,  679.78,  682.95,\\n 686.12,  689.28,  692.46,  695.63,  698.80,  701.96,  705.14,  708.30,\\n 711.47,  714.64,  717.81,  720.98,  724.15,  727.32,  730.49,  733.66,\\n 736.83,  740.00,  743.17,  746.34,  749.51,  752.68,  755.85,  759.02,\\n 762.19,  765.36,  768.53,  771.70,  774.86,  778.04,  781.21,  784.38,\\n 787.55,  790.71,  793.88,  797.05,  800.22,  803.39,  806.56,  809.73,\\n 812.90,  816.07,  819.24,  822.41,  825.58,  828.75,  831.92,  835.09,\\n 838.26,  841.43,  844.60,  847.77,  850.94,  854.11,  857.28,  860.45,\\n 863.62,  866.78,  869.96,  873.13,  876.29,  879.46,  882.63,  885.80,\\n 888.97,  892.14,  895.31,  898.48,  901.65,  904.82,  907.99,  911.16,\\n 914.33,  917.50,  920.67,  923.84,  927.01,  930.18,  933.35,  936.52,\\n 939.69,  942.85,  946.03,  954.75,  960.18,  965.62,  971.05,  976.49,\\n 981.92,  987.36,  992.79,  998.23, 1003.66, 1009.10, 1014.53, 1019.96,\\n 1025.40, 1030.83, 1036.27, 1041.70, 1047.14, 1052.57, 1058.01, 1063.44,\\n 1068.88, 1074.31, 1079.74, 1085.18, 1090.61, 1096.05, 1101.48, 1106.92,\\n 1112.35, 1117.79, 1123.22, 1128.65, 1134.09, 1139.52, 1144.96, 1150.39,\\n 1155.83, 1161.26, 1166.70, 1172.13, 1177.57, 1183.00, 1188.43, 1193.87,\\n 1199.30, 1204.74, 1210.17, 1215.61, 1221.04, 1226.48, 1231.91, 1237.35,\\n 1242.78, 1248.21, 1253.65, 1259.08, 1264.52, 1269.95, 1275.39, 1280.82,\\n 1286.26, 1291.69, 1297.12, 1302.56, 1307.99, 1313.43, 1318.86, 1324.30,\\n 1329.73, 1335.17, 1340.60, 1346.04, 1351.47, 1356.90, 1362.34, 1367.77,\\n 1373.21, 1378.64, 1384.08, 1389.51, 1394.95, 1400.38, 1405.82, 1411.25,\\n 1416.68, 1422.12, 1427.55, 1432.99, 1438.42, 1443.86, 1449.29, 1454.73,\\n 1460.16, 1465.60, 1471.03, 1476.46, 1481.90, 1487.33, 1492.77, 1498.20,\\n 1503.64, 1509.07, 1514.51, 1519.94, 1525.37, 1530.81, 1536.24, 1541.68,\\n 1547.11, 1552.55, 1557.98, 1563.42, 1568.85, 1574.29, 1579.72, 1585.15,\\n 1590.59, 1596.02, 1601.46, 1606.89, 1612.33, 1617.76, 1623.20, 1628.63,\\n 1634.07, 1639.50, 1644.93, 1650.37, 1655.80, 1661.24, 1666.67, 1672.11,\\n 1677.54, 1682.98, 1688.41, 1693.84, 1699.28, 1704.71, 1710.15, 1715.58,\\n 1721.02, 1726.45, 1731.89, 1737.32, 1742.76, 1748.19, 1753.62, 1759.06,\\n 1764.49, 1769.93, 1775.36, 1780.80, 1786.23, 1791.67, 1797.10, 1802.54,\\n 1807.97, 1813.40, 1818.84, 1824.27, 1829.71, 1835.14, 1840.58, 1846.01,\\n 1851.45, 1856.88, 1862.31, 1867.75, 1873.18, 1878.62, 1884.05, 1889.49,\\n 1894.92, 1900.36, 1905.79, 1911.23, 1916.66, 1922.09, 1927.53, 1932.96,\\n 1938.40, 1943.83, 1949.27, 1954.70, 1960.14, 1965.57, 1971.01, 1976.44,\\n 1981.87, 1987.31, 1992.74, 1998.18, 2003.61, 2009.05, 2014.48, 2019.92,\\n 2025.35, 2030.79, 2036.22, 2041.65, 2047.09, 2052.52, 2057.96, 2063.39,\\n 2068.83, 2074.26, 2079.70, 2085.13, 2090.56, 2096.00, 2101.43, 2106.87,\\n 2112.30, 2117.74, 2123.17, 2128.61, 2134.04, 2139.48, 2144.91, 2150.34,\\n 2155.78, 2161.21, 2166.65, 2172.08, 2177.52, 2182.95, 2188.39, 2193.82,\\n 2199.26, 2204.69, 2210.12, 2215.56, 2220.99, 2226.43, 2231.86, 2237.30,\\n 2242.73, 2248.17, 2253.60, 2259.03, 2264.47, 2269.90, 2275.34, 2280.77,\\n 2286.21, 2291.64, 2297.08, 2302.51, 2307.95, 2313.38, 2318.81, 2324.25,\\n 2329.68, 2335.12, 2340.55, 2345.99, 2351.42, 2356.86, 2362.29, 2367.73,\\n 2373.16, 2378.59, 2384.03, 2389.46, 2394.90, 2400.33, 2405.77, 2411.20,\\n 2416.64, 2422.07, 2427.50, 2432.94, 2438.37, 2443.81, 2449.24, 2454.68,\\n 2460.11, 2465.55, 2470.98, 2476.42, 2481.85, 2487.28, 2492.72, 2498.15,\\n 2503.59, 2509.02}',\n",
       " 'fwhm': '{  3.80,   3.80,   3.80,   3.80,   3.80,   3.80,   3.80,   3.80,\\n 3.80,   3.80,   3.80,   3.80,   3.80,   3.80,   3.80,   3.80,   3.80,\\n 3.80,   3.80,   3.80,   3.80,   3.80,   3.80,   3.80,   3.80,   3.80,\\n 3.80,   3.80,   3.80,   3.80,   3.80,   3.80,   3.80,   3.80,   3.80,\\n 3.80,   3.80,   3.80,   3.80,   3.80,   3.80,   3.80,   3.80,   3.80,\\n 3.80,   3.80,   3.80,   3.80,   3.80,   3.80,   3.80,   3.80,   3.80,\\n 3.80,   3.80,   3.80,   3.80,   3.80,   3.80,   3.80,   3.80,   3.80,\\n 3.80,   3.80,   3.80,   3.80,   3.80,   3.80,   3.80,   3.80,   3.80,\\n 3.80,   3.80,   3.80,   3.80,   3.80,   3.80,   3.80,   3.80,   3.80,\\n 3.80,   3.80,   3.80,   3.80,   3.80,   3.80,   3.80,   3.80,   3.80,\\n 3.80,   3.80,   3.80,   3.80,   3.80,   3.80,   3.80,   3.80,   3.80,\\n 3.80,   3.80,   3.80,   3.80,   3.80,   3.80,   3.80,   3.80,   3.80,\\n 3.80,   3.80,   3.80,   3.80,   3.80,   3.80,   3.80,   3.80,   3.80,\\n 3.80,   3.80,   3.80,   3.80,   3.80,   3.80,   3.80,   3.80,   3.80,\\n 3.80,   3.80,   3.80,   3.80,   3.80,   3.80,   3.80,   3.80,   3.80,\\n 3.80,   3.80,   3.80,   3.80,   3.80,   3.80,   3.80,   3.80,   3.80,\\n 3.80,   3.80,   3.80,   3.80,   3.80,   3.80,   3.80,   3.80,   3.80,\\n 3.80,   3.80,   3.80,   3.80,   3.80,   3.80,   3.80,   3.80,   3.80,\\n 3.80,   3.80,   3.80,   3.80,   3.80,   3.80,   3.80,   3.80,  10.47,\\n 6.52,   6.52,   6.52,   6.52,   6.52,   6.52,   6.52,   6.52,   6.52,\\n 6.53,   6.52,   6.52,   6.53,   6.52,   6.53,   6.52,   6.53,   6.52,\\n 6.53,   6.52,   6.53,   6.52,   6.52,   6.53,   6.52,   6.53,   6.52,\\n 6.53,   6.52,   6.53,   6.52,   6.52,   6.53,   6.52,   6.53,   6.52,\\n 6.53,   6.52,   6.53,   6.52,   6.53,   6.52,   6.52,   6.53,   6.52,\\n 6.53,   6.52,   6.53,   6.52,   6.53,   6.52,   6.53,   6.52,   6.52,\\n 6.53,   6.52,   6.53,   6.52,   6.53,   6.52,   6.53,   6.52,   6.52,\\n 6.53,   6.52,   6.53,   6.52,   6.53,   6.52,   6.53,   6.52,   6.53,\\n 6.52,   6.52,   6.53,   6.52,   6.53,   6.52,   6.53,   6.52,   6.53,\\n 6.52,   6.53,   6.52,   6.52,   6.53,   6.52,   6.53,   6.52,   6.53,\\n 6.52,   6.53,   6.52,   6.53,   6.52,   6.52,   6.53,   6.52,   6.53,\\n 6.52,   6.53,   6.52,   6.53,   6.52,   6.52,   6.53,   6.52,   6.53,\\n 6.52,   6.53,   6.52,   6.53,   6.52,   6.53,   6.52,   6.52,   6.53,\\n 6.52,   6.53,   6.52,   6.53,   6.52,   6.53,   6.52,   6.53,   6.52,\\n 6.52,   6.53,   6.52,   6.53,   6.52,   6.53,   6.52,   6.53,   6.52,\\n 6.52,   6.53,   6.52,   6.53,   6.52,   6.53,   6.52,   6.53,   6.52,\\n 6.53,   6.52,   6.52,   6.53,   6.52,   6.53,   6.52,   6.53,   6.52,\\n 6.53,   6.52,   6.53,   6.52,   6.52,   6.53,   6.52,   6.53,   6.52,\\n 6.53,   6.52,   6.53,   6.52,   6.52,   6.53,   6.52,   6.53,   6.52,\\n 6.53,   6.52,   6.53,   6.52,   6.53,   6.52,   6.52,   6.53,   6.52,\\n 6.53,   6.52,   6.53,   6.52,   6.53,   6.52,   6.53,   6.52,   6.52,\\n 6.53,   6.52,   6.53,   6.52,   6.53,   6.52,   6.53,   6.52,   6.53,\\n 6.52,   6.52,   6.53,   6.52,   6.53,   6.52,   6.53,   6.52,   6.53,\\n 6.52,   6.52,   6.53,   6.52,   6.53,   6.52,   6.53,   6.52,   6.53,\\n 6.52,   6.53,   6.52,   6.52,   6.53,   6.52,   6.53,   6.52,   6.53,\\n 6.52,   6.53,   6.52,   6.53,   6.52,   6.52,   6.53,   6.52,   6.53,\\n 6.52,   6.53,   6.52,   6.53,   6.52,   6.52,   6.53,   6.52,   6.53,\\n 6.52,   6.53,   6.52,   6.53,   6.52,   6.53,   6.52,   6.52,   6.53,\\n 6.52,   6.53,   6.52,   6.53,   6.52,   6.53,   6.52,   6.53,   6.52,\\n 6.52,   6.53,   6.52,   6.53,   6.52,   6.53,   6.52,   6.53,   6.52,\\n 6.52,   6.53,   6.52,   6.53,   6.52,   6.53,   6.52,   6.53,   6.52,\\n 6.53,   6.52,   6.52,   6.53,   6.52,   6.53,   6.52,   6.52}',\n",
       " 'data ignore value': '15000',\n",
       " 'reflectance scale factor': '10000',\n",
       " 'coordinate system string': '{PROJCS[\"WGS_1984_UTM_Zone_6N\",GEOGCS[\"GCS_WGS_1984\",DATUM[\"D_WGS_1984\",SPHEROID[\"WGS_1984\",6378137.0,298.257223563]],PRIMEM[\"Greenwich\",0.0],UNIT[\"Degree\",0.0174532925199433]],PROJECTION[\"Transverse_Mercator\"],PARAMETER[\"False_Easting\",500000.0],PARAMETER[\"False_Northing\",0.0],PARAMETER[\"Central_Meridian\",-147.0],PARAMETER[\"Scale_Factor\",0.9996],PARAMETER[\"Latitude_Of_Origin\",0.0],UNIT[\"Meter\",1.0]]}'}"
      ]
     },
     "execution_count": 62,
     "metadata": {},
     "output_type": "execute_result"
    }
   ],
   "source": [
    "atcormeta"
   ]
  },
  {
   "cell_type": "code",
   "execution_count": null,
   "metadata": {},
   "outputs": [
    {
     "data": {
      "text/plain": [
       "{'description': '{Frameperiod = 12000 Integration time = 8300 Binning = 1 Number of frames = 17299 Aperture size =   0.008000 dw = 1 EQ = 0 FOVexp = 5 Lens = 5 NumberOfAvg = 1 CalibAvailable = 0 Number of background = 200 Pixelsize x =   0.000320 Pixelsize y =   0.000640 ID = VNIR_1800_SN00812 Comment =  Serialnumber = 812 Scanningmode = Airborne; PARGE Geocoded  20200710-CPC_14_VNIR_1800_SN00812_FOVx2_raw_rad_bsq_float32 ENVI-File}',\n",
       " 'samples': '1901',\n",
       " 'lines': '10151',\n",
       " 'bands': '457',\n",
       " 'header offset': '0',\n",
       " 'file type': 'ENVI Standard',\n",
       " 'data type': '4',\n",
       " 'interleave': 'bsq',\n",
       " 'sensor type': 'HYSPEX',\n",
       " 'byte order': '0',\n",
       " 'map info': '{UTM, 1.000, 1.000, 474899.500, 7232100.500, 1.0000000000e+000, 1.0000000000e+000, 6, North, WGS-84, units=Meters}',\n",
       " 'coordinate system string': '{PROJCS[\"WGS_1984_UTM_Zone_6N\",GEOGCS[\"GCS_WGS_1984\",DATUM[\"D_WGS_1984\",SPHEROID[\"WGS_1984\",6378137.0,298.257223563]],PRIMEM[\"Greenwich\",0.0],UNIT[\"Degree\",0.0174532925199433]],PROJECTION[\"Transverse_Mercator\"],PARAMETER[\"False_Easting\",500000.0],PARAMETER[\"False_Northing\",0.0],PARAMETER[\"Central_Meridian\",-147.0],PARAMETER[\"Scale_Factor\",0.9996],PARAMETER[\"Latitude_Of_Origin\",0.0],UNIT[\"Meter\",1.0]]}',\n",
       " 'wavelength units': 'Nanometers',\n",
       " 'band names': '{ Band 1 (VNIR Band 1), Band 2 (VNIR Band 2), Band 3 (VNIR Band 3), Band 4 (VNIR Band 4), Band 5 (VNIR Band 5), Band 6 (VNIR Band 6), Band 7 (VNIR Band 7), Band 8 (VNIR Band 8), Band 9 (VNIR Band 9), Band 10 (VNIR Band 10), Band 11 (VNIR Band 11), Band 12 (VNIR Band 12), Band 13 (VNIR Band 13), Band 14 (VNIR Band 14), Band 15 (VNIR Band 15), Band 16 (VNIR Band 16), Band 17 (VNIR Band 17), Band 18 (VNIR Band 18), Band 19 (VNIR Band 19), Band 20 (VNIR Band 20), Band 21 (VNIR Band 21), Band 22 (VNIR Band 22), Band 23 (VNIR Band 23), Band 24 (VNIR Band 24), Band 25 (VNIR Band 25), Band 26 (VNIR Band 26), Band 27 (VNIR Band 27), Band 28 (VNIR Band 28), Band 29 (VNIR Band 29), Band 30 (VNIR Band 30), Band 31 (VNIR Band 31), Band 32 (VNIR Band 32), Band 33 (VNIR Band 33), Band 34 (VNIR Band 34), Band 35 (VNIR Band 35), Band 36 (VNIR Band 36), Band 37 (VNIR Band 37), Band 38 (VNIR Band 38), Band 39 (VNIR Band 39), Band 40 (VNIR Band 40), Band 41 (VNIR Band 41), Band 42 (VNIR Band 42), Band 43 (VNIR Band 43), Band 44 (VNIR Band 44), Band 45 (VNIR Band 45), Band 46 (VNIR Band 46), Band 47 (VNIR Band 47), Band 48 (VNIR Band 48), Band 49 (VNIR Band 49), Band 50 (VNIR Band 50), Band 51 (VNIR Band 51), Band 52 (VNIR Band 52), Band 53 (VNIR Band 53), Band 54 (VNIR Band 54), Band 55 (VNIR Band 55), Band 56 (VNIR Band 56), Band 57 (VNIR Band 57), Band 58 (VNIR Band 58), Band 59 (VNIR Band 59), Band 60 (VNIR Band 60), Band 61 (VNIR Band 61), Band 62 (VNIR Band 62), Band 63 (VNIR Band 63), Band 64 (VNIR Band 64), Band 65 (VNIR Band 65), Band 66 (VNIR Band 66), Band 67 (VNIR Band 67), Band 68 (VNIR Band 68), Band 69 (VNIR Band 69), Band 70 (VNIR Band 70), Band 71 (VNIR Band 71), Band 72 (VNIR Band 72), Band 73 (VNIR Band 73), Band 74 (VNIR Band 74), Band 75 (VNIR Band 75), Band 76 (VNIR Band 76), Band 77 (VNIR Band 77), Band 78 (VNIR Band 78), Band 79 (VNIR Band 79), Band 80 (VNIR Band 80), Band 81 (VNIR Band 81), Band 82 (VNIR Band 82), Band 83 (VNIR Band 83), Band 84 (VNIR Band 84), Band 85 (VNIR Band 85), Band 86 (VNIR Band 86), Band 87 (VNIR Band 87), Band 88 (VNIR Band 88), Band 89 (VNIR Band 89), Band 90 (VNIR Band 90), Band 91 (VNIR Band 91), Band 92 (VNIR Band 92), Band 93 (VNIR Band 93), Band 94 (VNIR Band 94), Band 95 (VNIR Band 95), Band 96 (VNIR Band 96), Band 97 (VNIR Band 97), Band 98 (VNIR Band 98), Band 99 (VNIR Band 99), Band 100 (VNIR Band 100), Band 101 (VNIR Band 101), Band 102 (VNIR Band 102), Band 103 (VNIR Band 103), Band 104 (VNIR Band 104), Band 105 (VNIR Band 105), Band 106 (VNIR Band 106), Band 107 (VNIR Band 107), Band 108 (VNIR Band 108), Band 109 (VNIR Band 109), Band 110 (VNIR Band 110), Band 111 (VNIR Band 111), Band 112 (VNIR Band 112), Band 113 (VNIR Band 113), Band 114 (VNIR Band 114), Band 115 (VNIR Band 115), Band 116 (VNIR Band 116), Band 117 (VNIR Band 117), Band 118 (VNIR Band 118), Band 119 (VNIR Band 119), Band 120 (VNIR Band 120), Band 121 (VNIR Band 121), Band 122 (VNIR Band 122), Band 123 (VNIR Band 123), Band 124 (VNIR Band 124), Band 125 (VNIR Band 125), Band 126 (VNIR Band 126), Band 127 (VNIR Band 127), Band 128 (VNIR Band 128), Band 129 (VNIR Band 129), Band 130 (VNIR Band 130), Band 131 (VNIR Band 131), Band 132 (VNIR Band 132), Band 133 (VNIR Band 133), Band 134 (VNIR Band 134), Band 135 (VNIR Band 135), Band 136 (VNIR Band 136), Band 137 (VNIR Band 137), Band 138 (VNIR Band 138), Band 139 (VNIR Band 139), Band 140 (VNIR Band 140), Band 141 (VNIR Band 141), Band 142 (VNIR Band 142), Band 143 (VNIR Band 143), Band 144 (VNIR Band 144), Band 145 (VNIR Band 145), Band 146 (VNIR Band 146), Band 147 (VNIR Band 147), Band 148 (VNIR Band 148), Band 149 (VNIR Band 149), Band 150 (VNIR Band 150), Band 151 (VNIR Band 151), Band 152 (VNIR Band 152), Band 153 (VNIR Band 153), Band 154 (VNIR Band 154), Band 155 (VNIR Band 155), Band 156 (VNIR Band 156), Band 157 (VNIR Band 157), Band 158 (VNIR Band 158), Band 159 (VNIR Band 159), Band 160 (VNIR Band 160), Band 161 (VNIR Band 161), Band 162 (VNIR Band 162), Band 163 (VNIR Band 163), Band 164 (VNIR Band 164), Band 165 (VNIR Band 165), Band 166 (VNIR Band 166), Band 167 (VNIR Band 167), Band 168 (VNIR Band 168), Band 169 (VNIR Band 169), Band 170 (VNIR Band 170), Band 171 (SWIR Band 2), Band 172 (SWIR Band 3), Band 173 (SWIR Band 4), Band 174 (SWIR Band 5), Band 175 (SWIR Band 6), Band 176 (SWIR Band 7), Band 177 (SWIR Band 8), Band 178 (SWIR Band 9), Band 179 (SWIR Band 10), Band 180 (SWIR Band 11), Band 181 (SWIR Band 12), Band 182 (SWIR Band 13), Band 183 (SWIR Band 14), Band 184 (SWIR Band 15), Band 185 (SWIR Band 16), Band 186 (SWIR Band 17), Band 187 (SWIR Band 18), Band 188 (SWIR Band 19), Band 189 (SWIR Band 20), Band 190 (SWIR Band 21), Band 191 (SWIR Band 22), Band 192 (SWIR Band 23), Band 193 (SWIR Band 24), Band 194 (SWIR Band 25), Band 195 (SWIR Band 26), Band 196 (SWIR Band 27), Band 197 (SWIR Band 28), Band 198 (SWIR Band 29), Band 199 (SWIR Band 30), Band 200 (SWIR Band 31), Band 201 (SWIR Band 32), Band 202 (SWIR Band 33), Band 203 (SWIR Band 34), Band 204 (SWIR Band 35), Band 205 (SWIR Band 36), Band 206 (SWIR Band 37), Band 207 (SWIR Band 38), Band 208 (SWIR Band 39), Band 209 (SWIR Band 40), Band 210 (SWIR Band 41), Band 211 (SWIR Band 42), Band 212 (SWIR Band 43), Band 213 (SWIR Band 44), Band 214 (SWIR Band 45), Band 215 (SWIR Band 46), Band 216 (SWIR Band 47), Band 217 (SWIR Band 48), Band 218 (SWIR Band 49), Band 219 (SWIR Band 50), Band 220 (SWIR Band 51), Band 221 (SWIR Band 52), Band 222 (SWIR Band 53), Band 223 (SWIR Band 54), Band 224 (SWIR Band 55), Band 225 (SWIR Band 56), Band 226 (SWIR Band 57), Band 227 (SWIR Band 58), Band 228 (SWIR Band 59), Band 229 (SWIR Band 60), Band 230 (SWIR Band 61), Band 231 (SWIR Band 62), Band 232 (SWIR Band 63), Band 233 (SWIR Band 64), Band 234 (SWIR Band 65), Band 235 (SWIR Band 66), Band 236 (SWIR Band 67), Band 237 (SWIR Band 68), Band 238 (SWIR Band 69), Band 239 (SWIR Band 70), Band 240 (SWIR Band 71), Band 241 (SWIR Band 72), Band 242 (SWIR Band 73), Band 243 (SWIR Band 74), Band 244 (SWIR Band 75), Band 245 (SWIR Band 76), Band 246 (SWIR Band 77), Band 247 (SWIR Band 78), Band 248 (SWIR Band 79), Band 249 (SWIR Band 80), Band 250 (SWIR Band 81), Band 251 (SWIR Band 82), Band 252 (SWIR Band 83), Band 253 (SWIR Band 84), Band 254 (SWIR Band 85), Band 255 (SWIR Band 86), Band 256 (SWIR Band 87), Band 257 (SWIR Band 88), Band 258 (SWIR Band 89), Band 259 (SWIR Band 90), Band 260 (SWIR Band 91), Band 261 (SWIR Band 92), Band 262 (SWIR Band 93), Band 263 (SWIR Band 94), Band 264 (SWIR Band 95), Band 265 (SWIR Band 96), Band 266 (SWIR Band 97), Band 267 (SWIR Band 98), Band 268 (SWIR Band 99), Band 269 (SWIR Band 100), Band 270 (SWIR Band 101), Band 271 (SWIR Band 102), Band 272 (SWIR Band 103), Band 273 (SWIR Band 104), Band 274 (SWIR Band 105), Band 275 (SWIR Band 106), Band 276 (SWIR Band 107), Band 277 (SWIR Band 108), Band 278 (SWIR Band 109), Band 279 (SWIR Band 110), Band 280 (SWIR Band 111), Band 281 (SWIR Band 112), Band 282 (SWIR Band 113), Band 283 (SWIR Band 114), Band 284 (SWIR Band 115), Band 285 (SWIR Band 116), Band 286 (SWIR Band 117), Band 287 (SWIR Band 118), Band 288 (SWIR Band 119), Band 289 (SWIR Band 120), Band 290 (SWIR Band 121), Band 291 (SWIR Band 122), Band 292 (SWIR Band 123), Band 293 (SWIR Band 124), Band 294 (SWIR Band 125), Band 295 (SWIR Band 126), Band 296 (SWIR Band 127), Band 297 (SWIR Band 128), Band 298 (SWIR Band 129), Band 299 (SWIR Band 130), Band 300 (SWIR Band 131), Band 301 (SWIR Band 132), Band 302 (SWIR Band 133), Band 303 (SWIR Band 134), Band 304 (SWIR Band 135), Band 305 (SWIR Band 136), Band 306 (SWIR Band 137), Band 307 (SWIR Band 138), Band 308 (SWIR Band 139), Band 309 (SWIR Band 140), Band 310 (SWIR Band 141), Band 311 (SWIR Band 142), Band 312 (SWIR Band 143), Band 313 (SWIR Band 144), Band 314 (SWIR Band 145), Band 315 (SWIR Band 146), Band 316 (SWIR Band 147), Band 317 (SWIR Band 148), Band 318 (SWIR Band 149), Band 319 (SWIR Band 150), Band 320 (SWIR Band 151), Band 321 (SWIR Band 152), Band 322 (SWIR Band 153), Band 323 (SWIR Band 154), Band 324 (SWIR Band 155), Band 325 (SWIR Band 156), Band 326 (SWIR Band 157), Band 327 (SWIR Band 158), Band 328 (SWIR Band 159), Band 329 (SWIR Band 160), Band 330 (SWIR Band 161), Band 331 (SWIR Band 162), Band 332 (SWIR Band 163), Band 333 (SWIR Band 164), Band 334 (SWIR Band 165), Band 335 (SWIR Band 166), Band 336 (SWIR Band 167), Band 337 (SWIR Band 168), Band 338 (SWIR Band 169), Band 339 (SWIR Band 170), Band 340 (SWIR Band 171), Band 341 (SWIR Band 172), Band 342 (SWIR Band 173), Band 343 (SWIR Band 174), Band 344 (SWIR Band 175), Band 345 (SWIR Band 176), Band 346 (SWIR Band 177), Band 347 (SWIR Band 178), Band 348 (SWIR Band 179), Band 349 (SWIR Band 180), Band 350 (SWIR Band 181), Band 351 (SWIR Band 182), Band 352 (SWIR Band 183), Band 353 (SWIR Band 184), Band 354 (SWIR Band 185), Band 355 (SWIR Band 186), Band 356 (SWIR Band 187), Band 357 (SWIR Band 188), Band 358 (SWIR Band 189), Band 359 (SWIR Band 190), Band 360 (SWIR Band 191), Band 361 (SWIR Band 192), Band 362 (SWIR Band 193), Band 363 (SWIR Band 194), Band 364 (SWIR Band 195), Band 365 (SWIR Band 196), Band 366 (SWIR Band 197), Band 367 (SWIR Band 198), Band 368 (SWIR Band 199), Band 369 (SWIR Band 200), Band 370 (SWIR Band 201), Band 371 (SWIR Band 202), Band 372 (SWIR Band 203), Band 373 (SWIR Band 204), Band 374 (SWIR Band 205), Band 375 (SWIR Band 206), Band 376 (SWIR Band 207), Band 377 (SWIR Band 208), Band 378 (SWIR Band 209), Band 379 (SWIR Band 210), Band 380 (SWIR Band 211), Band 381 (SWIR Band 212), Band 382 (SWIR Band 213), Band 383 (SWIR Band 214), Band 384 (SWIR Band 215), Band 385 (SWIR Band 216), Band 386 (SWIR Band 217), Band 387 (SWIR Band 218), Band 388 (SWIR Band 219), Band 389 (SWIR Band 220), Band 390 (SWIR Band 221), Band 391 (SWIR Band 222), Band 392 (SWIR Band 223), Band 393 (SWIR Band 224), Band 394 (SWIR Band 225), Band 395 (SWIR Band 226), Band 396 (SWIR Band 227), Band 397 (SWIR Band 228), Band 398 (SWIR Band 229), Band 399 (SWIR Band 230), Band 400 (SWIR Band 231), Band 401 (SWIR Band 232), Band 402 (SWIR Band 233), Band 403 (SWIR Band 234), Band 404 (SWIR Band 235), Band 405 (SWIR Band 236), Band 406 (SWIR Band 237), Band 407 (SWIR Band 238), Band 408 (SWIR Band 239), Band 409 (SWIR Band 240), Band 410 (SWIR Band 241), Band 411 (SWIR Band 242), Band 412 (SWIR Band 243), Band 413 (SWIR Band 244), Band 414 (SWIR Band 245), Band 415 (SWIR Band 246), Band 416 (SWIR Band 247), Band 417 (SWIR Band 248), Band 418 (SWIR Band 249), Band 419 (SWIR Band 250), Band 420 (SWIR Band 251), Band 421 (SWIR Band 252), Band 422 (SWIR Band 253), Band 423 (SWIR Band 254), Band 424 (SWIR Band 255), Band 425 (SWIR Band 256), Band 426 (SWIR Band 257), Band 427 (SWIR Band 258), Band 428 (SWIR Band 259), Band 429 (SWIR Band 260), Band 430 (SWIR Band 261), Band 431 (SWIR Band 262), Band 432 (SWIR Band 263), Band 433 (SWIR Band 264), Band 434 (SWIR Band 265), Band 435 (SWIR Band 266), Band 436 (SWIR Band 267), Band 437 (SWIR Band 268), Band 438 (SWIR Band 269), Band 439 (SWIR Band 270), Band 440 (SWIR Band 271), Band 441 (SWIR Band 272), Band 442 (SWIR Band 273), Band 443 (SWIR Band 274), Band 444 (SWIR Band 275), Band 445 (SWIR Band 276), Band 446 (SWIR Band 277), Band 447 (SWIR Band 278), Band 448 (SWIR Band 279), Band 449 (SWIR Band 280), Band 450 (SWIR Band 281), Band 451 (SWIR Band 282), Band 452 (SWIR Band 283), Band 453 (SWIR Band 284), Band 454 (SWIR Band 285), Band 455 (SWIR Band 286), Band 456 (SWIR Band 287), Band 457 (SWIR Band 288) }',\n",
       " 'wavelength': '{ 410.359000,  413.529000,  416.698000,  419.868000,  423.038000,  426.207000, 429.377000,  432.547000,  435.716000,  438.886000,  442.055000,  445.225000, 448.395000,  451.564000,  454.734000,  457.904000,  461.073000,  464.243000, 467.412000,  470.582000,  473.752000,  476.921000,  480.091000,  483.261000, 486.430000,  489.600000,  492.769000,  495.939000,  499.109000,  502.278000, 505.448000,  508.618000,  511.787000,  514.957000,  518.126000,  521.296000, 524.466000,  527.635000,  530.805000,  533.975000,  537.144000,  540.314000, 543.483000,  546.653000,  549.823000,  552.992000,  556.162000,  559.332000, 562.501000,  565.671000,  568.840000,  572.010000,  575.180000,  578.349000, 581.519000,  584.689000,  587.858000,  591.028000,  594.197000,  597.367000, 600.537000,  603.706000,  606.876000,  610.046000,  613.215000,  616.385000, 619.554000,  622.724000,  625.894000,  629.063000,  632.233000,  635.403000, 638.572000,  641.742000,  644.911000,  648.081000,  651.251000,  654.420000, 657.590000,  660.760000,  663.929000,  667.099000,  670.268000,  673.438000, 676.608000,  679.777000,  682.947000,  686.117000,  689.286000,  692.456000, 695.625000,  698.795000,  701.965000,  705.134000,  708.304000,  711.474000, 714.643000,  717.813000,  720.982000,  724.152000,  727.322000,  730.491000, 733.661000,  736.831000,  740.000000,  743.170000,  746.339000,  749.509000, 752.679000,  755.848000,  759.018000,  762.188000,  765.357000,  768.527000, 771.696000,  774.866000,  778.036000,  781.205000,  784.375000,  787.545000, 790.714000,  793.884000,  797.053000,  800.223000,  803.393000,  806.562000, 809.732000,  812.902000,  816.071000,  819.241000,  822.410000,  825.580000, 828.750000,  831.919000,  835.089000,  838.259000,  841.428000,  844.598000, 847.767000,  850.937000,  854.107000,  857.276000,  860.446000,  863.616000, 866.785000,  869.955000,  873.124000,  876.294000,  879.464000,  882.633000, 885.803000,  888.973000,  892.142000,  895.312000,  898.481000,  901.651000, 904.821000,  907.990000,  911.160000,  914.330000,  917.499000,  920.669000, 923.839000,  927.008000,  930.178000,  933.347000,  936.517000,  939.687000, 942.856000,  946.026000,  954.750000,  960.185000,  965.619000,  971.054000, 976.488000,  981.923000,  987.357000,  992.792000,  998.226000, 1003.660000, 1009.100000, 1014.530000, 1019.960000, 1025.400000, 1030.830000, 1036.270000, 1041.700000, 1047.140000, 1052.570000, 1058.010000, 1063.440000, 1068.880000, 1074.310000, 1079.740000, 1085.180000, 1090.610000, 1096.050000, 1101.480000, 1106.920000, 1112.350000, 1117.790000, 1123.220000, 1128.650000, 1134.090000, 1139.520000, 1144.960000, 1150.390000, 1155.830000, 1161.260000, 1166.700000, 1172.130000, 1177.570000, 1183.000000, 1188.430000, 1193.870000, 1199.300000, 1204.740000, 1210.170000, 1215.610000, 1221.040000, 1226.480000, 1231.910000, 1237.350000, 1242.780000, 1248.210000, 1253.650000, 1259.080000, 1264.520000, 1269.950000, 1275.390000, 1280.820000, 1286.260000, 1291.690000, 1297.120000, 1302.560000, 1307.990000, 1313.430000, 1318.860000, 1324.300000, 1329.730000, 1335.170000, 1340.600000, 1346.040000, 1351.470000, 1356.900000, 1362.340000, 1367.770000, 1373.210000, 1378.640000, 1384.080000, 1389.510000, 1394.950000, 1400.380000, 1405.820000, 1411.250000, 1416.680000, 1422.120000, 1427.550000, 1432.990000, 1438.420000, 1443.860000, 1449.290000, 1454.730000, 1460.160000, 1465.600000, 1471.030000, 1476.460000, 1481.900000, 1487.330000, 1492.770000, 1498.200000, 1503.640000, 1509.070000, 1514.510000, 1519.940000, 1525.370000, 1530.810000, 1536.240000, 1541.680000, 1547.110000, 1552.550000, 1557.980000, 1563.420000, 1568.850000, 1574.290000, 1579.720000, 1585.150000, 1590.590000, 1596.020000, 1601.460000, 1606.890000, 1612.330000, 1617.760000, 1623.200000, 1628.630000, 1634.070000, 1639.500000, 1644.930000, 1650.370000, 1655.800000, 1661.240000, 1666.670000, 1672.110000, 1677.540000, 1682.980000, 1688.410000, 1693.840000, 1699.280000, 1704.710000, 1710.150000, 1715.580000, 1721.020000, 1726.450000, 1731.890000, 1737.320000, 1742.760000, 1748.190000, 1753.620000, 1759.060000, 1764.490000, 1769.930000, 1775.360000, 1780.800000, 1786.230000, 1791.670000, 1797.100000, 1802.540000, 1807.970000, 1813.400000, 1818.840000, 1824.270000, 1829.710000, 1835.140000, 1840.580000, 1846.010000, 1851.450000, 1856.880000, 1862.310000, 1867.750000, 1873.180000, 1878.620000, 1884.050000, 1889.490000, 1894.920000, 1900.360000, 1905.790000, 1911.230000, 1916.660000, 1922.090000, 1927.530000, 1932.960000, 1938.400000, 1943.830000, 1949.270000, 1954.700000, 1960.140000, 1965.570000, 1971.010000, 1976.440000, 1981.870000, 1987.310000, 1992.740000, 1998.180000, 2003.610000, 2009.050000, 2014.480000, 2019.920000, 2025.350000, 2030.790000, 2036.220000, 2041.650000, 2047.090000, 2052.520000, 2057.960000, 2063.390000, 2068.830000, 2074.260000, 2079.700000, 2085.130000, 2090.560000, 2096.000000, 2101.430000, 2106.870000, 2112.300000, 2117.740000, 2123.170000, 2128.610000, 2134.040000, 2139.480000, 2144.910000, 2150.340000, 2155.780000, 2161.210000, 2166.650000, 2172.080000, 2177.520000, 2182.950000, 2188.390000, 2193.820000, 2199.260000, 2204.690000, 2210.120000, 2215.560000, 2220.990000, 2226.430000, 2231.860000, 2237.300000, 2242.730000, 2248.170000, 2253.600000, 2259.030000, 2264.470000, 2269.900000, 2275.340000, 2280.770000, 2286.210000, 2291.640000, 2297.080000, 2302.510000, 2307.950000, 2313.380000, 2318.810000, 2324.250000, 2329.680000, 2335.120000, 2340.550000, 2345.990000, 2351.420000, 2356.860000, 2362.290000, 2367.730000, 2373.160000, 2378.590000, 2384.030000, 2389.460000, 2394.900000, 2400.330000, 2405.770000, 2411.200000, 2416.640000, 2422.070000, 2427.500000, 2432.940000, 2438.370000, 2443.810000, 2449.240000, 2454.680000, 2460.110000, 2465.550000, 2470.980000, 2476.420000, 2481.850000, 2487.280000, 2492.720000, 2498.150000, 2503.590000, 2509.020000}',\n",
       " 'GPS long-lat-alt': '{-147.51211, 65.164214, 2335.7176}',\n",
       " 'heading [deg]': '183.09112',\n",
       " 'DEM height [m]': '430.84607',\n",
       " 'x start': '1',\n",
       " 'y start': '1',\n",
       " 'pixel size': '{1.0000000, 1.0000000}',\n",
       " 'acquisition time': '2020-07-11T01:33:33.0Z',\n",
       " 'data ignore value': '0',\n",
       " 'default bands': '{290, 140, 20}'}"
      ]
     },
     "execution_count": 63,
     "metadata": {},
     "output_type": "execute_result"
    }
   ],
   "source": [
    "pargemeta"
   ]
  },
  {
   "cell_type": "code",
   "execution_count": null,
   "metadata": {},
   "outputs": [],
   "source": [
    "replacements = {\n",
    "    'acquisition time': flightdata['linets_utc'],\n",
    "    'reflectance scale factor': atcormeta['reflectance scale factor'],\n",
    "    'default bands': '{289.000000, 141.000000, 20.000000}' if targetmeta['bands'] == 457 else '{291.000000, 141.000000, 20.000000}',\n",
    "    'description':  ( \n",
    "        f\"{{Spectral reflectance (%*100) for HySpex flightline {flightdata['flightlinename']}. \"\n",
    "        f\"central lat: {flightdata['latitude']}, lon: {flightdata['longitude']}, flight elev: {flightdata['elevation_m_amsl']} m above MSL. \"\n",
    "        f\"PARGE (VNIR): {strip_braces(pargemeta['description'])} \"\n",
    "        f\"ATCOR:  {strip_braces(atcormeta['description'])} }}\" ),\n",
    "    'band names': atcormeta['band names'].replace(' refl [%*100]', ''),\n",
    "    'wavelength': atcormeta['wavelength'],\n",
    "    'wavelength units': 'nm',\n",
    "    'fwhm': atcormeta['fwhm'],\n",
    "    'z plot titles': atcormeta['z plot titles'],\n",
    "    'z plot range': '{0, 10000}',\n",
    "    'sun azimuth': flightdata['sun_azimuth'],\n",
    "    'sun elevation': 90.0 - flightdata['sun_zenith'],\n",
    "}\n"
   ]
  },
  {
   "cell_type": "code",
   "execution_count": null,
   "metadata": {},
   "outputs": [
    {
     "data": {
      "text/plain": [
       "{'acquisition time': '2020-07-11T01:38:09.0Z',\n",
       " 'reflectance scale factor': '10000',\n",
       " 'default bands': '{291.000000, 141.000000, 20.000000}',\n",
       " 'description': '{Spectral reflectance (%*100) for HySpex flightline 20200710-CPC_14. central lat: 65.16, lon: -147.51, flight elev: 2335.72 m above MSL. PARGE (VNIR): Frameperiod = 12000 Integration time = 8300 Binning = 1 Number of frames = 17299 Aperture size =   0.008000 dw = 1 EQ = 0 FOVexp = 5 Lens = 5 NumberOfAvg = 1 CalibAvailable = 0 Number of background = 200 Pixelsize x =   0.000320 Pixelsize y =   0.000640 ID = VNIR_1800_SN00812 Comment =  Serialnumber = 812 Scanningmode = Airborne; PARGE Geocoded  20200710-CPC_14_VNIR_1800_SN00812_FOVx2_raw_rad_bsq_float32 ENVI-File ATCOR:  ATCOR4 : 11\\\\07\\\\20  solar zen=56.0,  solar azi=247.5,  sensorid=HySpex_457_FoV2_Husky,\\n fcref=100.0,  fctem=100.0 }',\n",
       " 'band names': '{band   1, band   2, band   3,\\n band   4, band   5, band   6, band   7,\\n band   8, band   9, band  10, band  11,\\n band  12, band  13, band  14, band  15,\\n band  16, band  17, band  18, band  19,\\n band  20, band  21, band  22, band  23,\\n band  24, band  25, band  26, band  27,\\n band  28, band  29, band  30, band  31,\\n band  32, band  33, band  34, band  35,\\n band  36, band  37, band  38, band  39,\\n band  40, band  41, band  42, band  43,\\n band  44, band  45, band  46, band  47,\\n band  48, band  49, band  50, band  51,\\n band  52, band  53, band  54, band  55,\\n band  56, band  57, band  58, band  59,\\n band  60, band  61, band  62, band  63,\\n band  64, band  65, band  66, band  67,\\n band  68, band  69, band  70, band  71,\\n band  72, band  73, band  74, band  75,\\n band  76, band  77, band  78, band  79,\\n band  80, band  81, band  82, band  83,\\n band  84, band  85, band  86, band  87,\\n band  88, band* 89, band* 90, band* 91,\\n band* 92, band* 93, band* 94, band* 95,\\n band* 96, band* 97, band* 98, band* 99,\\n band*100, band*101, band*102, band*103,\\n band*104, band*105, band 106, band 107,\\n band 108, band*109, band*110, band*111,\\n band*112, band*113, band*114, band*115,\\n band 116, band 117, band 118, band 119,\\n band 120, band*121, band*122, band*123,\\n band*124, band*125, band*126, band*127,\\n band*128, band*129, band*130, band*131,\\n band*132, band*133, band*134, band*135,\\n band*136, band 137, band 138, band 139,\\n band 140, band 141, band 142, band 143,\\n band 144, band 145, band 146, band 147,\\n band 148, band 149, band 150, band 151,\\n band 152, band 153, band*154, band*155,\\n band*156, band*157, band*158, band*159,\\n band*160, band*161, band*162, band*163,\\n band*164, band*165, band*166, band*167,\\n band*168, band*169, band*170, band*171,\\n band*172, band*173, band*174, band*175,\\n band*176, band*177, band*178, band*179,\\n band 180, band 181, band 182, band 183,\\n band 184, band 185, band 186, band 187,\\n band 188, band 189, band 190, band 191,\\n band 192, band 193, band*194, band*195,\\n band*196, band*197, band*198, band*199,\\n band*200, band*201, band*202, band*203,\\n band*204, band*205, band*206, band*207,\\n band*208, band*209, band*210, band*211,\\n band*212, band*213, band*214, band 215,\\n band 216, band 217, band 218, band 219,\\n band 220, band 221, band 222, band 223,\\n band 224, band 225, band 226, band 227,\\n band 228, band 229, band 230, band 231,\\n band 232, band 233, band 234, band 235,\\n band 236, band 237, band 238, band 239,\\n band 240, band 241, band 242, band 243,\\n band 244, band 245, band 246, band 247,\\n band 248, band 249, band 250, band 251,\\n band 252, band 253, band 254, band 255,\\n band 256, band 257, band 258, band 259,\\n band 260, band 261, band 262, band 263,\\n band 264, band 265, band 266, band 267,\\n band 268, band 269, band 270, band 271,\\n band 272, band 273, band 274, band 275,\\n band 276, band 277, band 278, band 279,\\n band 280, band 281, band 282, band 283,\\n band 284, band 285, band 286, band 287,\\n band 288, band 289, band 290, band 291,\\n band 292, band 293, band 294, band 295,\\n band 296, band 297, band 298, band 299,\\n band 300, band 301, band 302, band 303,\\n band 304, band 305, band 306, band 307,\\n band 308, band 309, band 310, band 311,\\n band 312, band 313, band 314, band 315,\\n band 316, band 317, band 318, band 319,\\n band 320, band 321, band 322, band 323,\\n band 324, band 325, band 326, band 327,\\n band 328, band 329, band 330, band 331,\\n band 332, band 333, band 334, band 335,\\n band 336, band 337, band 338, band 339,\\n band 340, band 341, band 342, band 343,\\n band 344, band 345, band 346, band 347,\\n band 348, band 349, band 350, band 351,\\n band 352, band 353, band 354, band 355,\\n band 356, band 357, band 358, band 359,\\n band 360, band 361, band 362, band 363,\\n band 364, band 365, band 366, band 367,\\n band 368, band 369, band 370, band 371,\\n band 372, band 373, band 374, band 375,\\n band 376, band 377, band 378, band 379,\\n band 380, band 381, band 382, band 383,\\n band 384, band 385, band 386, band 387,\\n band 388, band 389, band 390, band 391,\\n band 392, band 393, band 394, band 395,\\n band 396, band 397, band 398, band 399,\\n band 400, band 401, band 402, band 403,\\n band 404, band 405, band 406, band 407,\\n band 408, band 409, band 410, band 411,\\n band 412, band 413, band 414, band 415,\\n band 416, band 417, band 418, band 419,\\n band 420, band 421, band 422, band 423,\\n band 424, band 425, band 426, band 427,\\n band 428, band 429, band 430, band 431,\\n band 432, band 433, band 434, band 435,\\n band 436, band 437, band 438, band 439,\\n band 440, band 441, band 442, band 443,\\n band 444, band 445, band 446, band 447,\\n band 448, band 449, band 450, band 451,\\n band 452, band 453, band 454, band 455,\\n band 456, band 457}',\n",
       " 'wavelength': '{ 410.36,  413.53,  416.70,  419.87,  423.04,  426.21,  429.38,\\n 432.55,  435.71,  438.89,  442.05,  445.23,  448.40,  451.57,  454.74,\\n 457.90,  461.07,  464.24,  467.41,  470.58,  473.75,  476.92,  480.09,\\n 483.26,  486.43,  489.60,  492.77,  495.94,  499.11,  502.28,  505.45,\\n 508.62,  511.79,  514.96,  518.13,  521.29,  524.47,  527.63,  530.80,\\n 533.97,  537.15,  540.32,  543.48,  546.65,  549.82,  552.99,  556.16,\\n 559.33,  562.50,  565.67,  568.84,  572.01,  575.18,  578.35,  581.52,\\n 584.69,  587.86,  591.03,  594.20,  597.37,  600.54,  603.71,  606.88,\\n 610.05,  613.22,  616.39,  619.55,  622.73,  625.90,  629.06,  632.23,\\n 635.40,  638.57,  641.74,  644.91,  648.08,  651.25,  654.42,  657.59,\\n 660.76,  663.93,  667.10,  670.27,  673.44,  676.61,  679.78,  682.95,\\n 686.12,  689.28,  692.46,  695.63,  698.80,  701.96,  705.14,  708.30,\\n 711.47,  714.64,  717.81,  720.98,  724.15,  727.32,  730.49,  733.66,\\n 736.83,  740.00,  743.17,  746.34,  749.51,  752.68,  755.85,  759.02,\\n 762.19,  765.36,  768.53,  771.70,  774.86,  778.04,  781.21,  784.38,\\n 787.55,  790.71,  793.88,  797.05,  800.22,  803.39,  806.56,  809.73,\\n 812.90,  816.07,  819.24,  822.41,  825.58,  828.75,  831.92,  835.09,\\n 838.26,  841.43,  844.60,  847.77,  850.94,  854.11,  857.28,  860.45,\\n 863.62,  866.78,  869.96,  873.13,  876.29,  879.46,  882.63,  885.80,\\n 888.97,  892.14,  895.31,  898.48,  901.65,  904.82,  907.99,  911.16,\\n 914.33,  917.50,  920.67,  923.84,  927.01,  930.18,  933.35,  936.52,\\n 939.69,  942.85,  946.03,  954.75,  960.18,  965.62,  971.05,  976.49,\\n 981.92,  987.36,  992.79,  998.23, 1003.66, 1009.10, 1014.53, 1019.96,\\n 1025.40, 1030.83, 1036.27, 1041.70, 1047.14, 1052.57, 1058.01, 1063.44,\\n 1068.88, 1074.31, 1079.74, 1085.18, 1090.61, 1096.05, 1101.48, 1106.92,\\n 1112.35, 1117.79, 1123.22, 1128.65, 1134.09, 1139.52, 1144.96, 1150.39,\\n 1155.83, 1161.26, 1166.70, 1172.13, 1177.57, 1183.00, 1188.43, 1193.87,\\n 1199.30, 1204.74, 1210.17, 1215.61, 1221.04, 1226.48, 1231.91, 1237.35,\\n 1242.78, 1248.21, 1253.65, 1259.08, 1264.52, 1269.95, 1275.39, 1280.82,\\n 1286.26, 1291.69, 1297.12, 1302.56, 1307.99, 1313.43, 1318.86, 1324.30,\\n 1329.73, 1335.17, 1340.60, 1346.04, 1351.47, 1356.90, 1362.34, 1367.77,\\n 1373.21, 1378.64, 1384.08, 1389.51, 1394.95, 1400.38, 1405.82, 1411.25,\\n 1416.68, 1422.12, 1427.55, 1432.99, 1438.42, 1443.86, 1449.29, 1454.73,\\n 1460.16, 1465.60, 1471.03, 1476.46, 1481.90, 1487.33, 1492.77, 1498.20,\\n 1503.64, 1509.07, 1514.51, 1519.94, 1525.37, 1530.81, 1536.24, 1541.68,\\n 1547.11, 1552.55, 1557.98, 1563.42, 1568.85, 1574.29, 1579.72, 1585.15,\\n 1590.59, 1596.02, 1601.46, 1606.89, 1612.33, 1617.76, 1623.20, 1628.63,\\n 1634.07, 1639.50, 1644.93, 1650.37, 1655.80, 1661.24, 1666.67, 1672.11,\\n 1677.54, 1682.98, 1688.41, 1693.84, 1699.28, 1704.71, 1710.15, 1715.58,\\n 1721.02, 1726.45, 1731.89, 1737.32, 1742.76, 1748.19, 1753.62, 1759.06,\\n 1764.49, 1769.93, 1775.36, 1780.80, 1786.23, 1791.67, 1797.10, 1802.54,\\n 1807.97, 1813.40, 1818.84, 1824.27, 1829.71, 1835.14, 1840.58, 1846.01,\\n 1851.45, 1856.88, 1862.31, 1867.75, 1873.18, 1878.62, 1884.05, 1889.49,\\n 1894.92, 1900.36, 1905.79, 1911.23, 1916.66, 1922.09, 1927.53, 1932.96,\\n 1938.40, 1943.83, 1949.27, 1954.70, 1960.14, 1965.57, 1971.01, 1976.44,\\n 1981.87, 1987.31, 1992.74, 1998.18, 2003.61, 2009.05, 2014.48, 2019.92,\\n 2025.35, 2030.79, 2036.22, 2041.65, 2047.09, 2052.52, 2057.96, 2063.39,\\n 2068.83, 2074.26, 2079.70, 2085.13, 2090.56, 2096.00, 2101.43, 2106.87,\\n 2112.30, 2117.74, 2123.17, 2128.61, 2134.04, 2139.48, 2144.91, 2150.34,\\n 2155.78, 2161.21, 2166.65, 2172.08, 2177.52, 2182.95, 2188.39, 2193.82,\\n 2199.26, 2204.69, 2210.12, 2215.56, 2220.99, 2226.43, 2231.86, 2237.30,\\n 2242.73, 2248.17, 2253.60, 2259.03, 2264.47, 2269.90, 2275.34, 2280.77,\\n 2286.21, 2291.64, 2297.08, 2302.51, 2307.95, 2313.38, 2318.81, 2324.25,\\n 2329.68, 2335.12, 2340.55, 2345.99, 2351.42, 2356.86, 2362.29, 2367.73,\\n 2373.16, 2378.59, 2384.03, 2389.46, 2394.90, 2400.33, 2405.77, 2411.20,\\n 2416.64, 2422.07, 2427.50, 2432.94, 2438.37, 2443.81, 2449.24, 2454.68,\\n 2460.11, 2465.55, 2470.98, 2476.42, 2481.85, 2487.28, 2492.72, 2498.15,\\n 2503.59, 2509.02}',\n",
       " 'wavelength units': 'nm',\n",
       " 'fwhm': '{  3.80,   3.80,   3.80,   3.80,   3.80,   3.80,   3.80,   3.80,\\n 3.80,   3.80,   3.80,   3.80,   3.80,   3.80,   3.80,   3.80,   3.80,\\n 3.80,   3.80,   3.80,   3.80,   3.80,   3.80,   3.80,   3.80,   3.80,\\n 3.80,   3.80,   3.80,   3.80,   3.80,   3.80,   3.80,   3.80,   3.80,\\n 3.80,   3.80,   3.80,   3.80,   3.80,   3.80,   3.80,   3.80,   3.80,\\n 3.80,   3.80,   3.80,   3.80,   3.80,   3.80,   3.80,   3.80,   3.80,\\n 3.80,   3.80,   3.80,   3.80,   3.80,   3.80,   3.80,   3.80,   3.80,\\n 3.80,   3.80,   3.80,   3.80,   3.80,   3.80,   3.80,   3.80,   3.80,\\n 3.80,   3.80,   3.80,   3.80,   3.80,   3.80,   3.80,   3.80,   3.80,\\n 3.80,   3.80,   3.80,   3.80,   3.80,   3.80,   3.80,   3.80,   3.80,\\n 3.80,   3.80,   3.80,   3.80,   3.80,   3.80,   3.80,   3.80,   3.80,\\n 3.80,   3.80,   3.80,   3.80,   3.80,   3.80,   3.80,   3.80,   3.80,\\n 3.80,   3.80,   3.80,   3.80,   3.80,   3.80,   3.80,   3.80,   3.80,\\n 3.80,   3.80,   3.80,   3.80,   3.80,   3.80,   3.80,   3.80,   3.80,\\n 3.80,   3.80,   3.80,   3.80,   3.80,   3.80,   3.80,   3.80,   3.80,\\n 3.80,   3.80,   3.80,   3.80,   3.80,   3.80,   3.80,   3.80,   3.80,\\n 3.80,   3.80,   3.80,   3.80,   3.80,   3.80,   3.80,   3.80,   3.80,\\n 3.80,   3.80,   3.80,   3.80,   3.80,   3.80,   3.80,   3.80,   3.80,\\n 3.80,   3.80,   3.80,   3.80,   3.80,   3.80,   3.80,   3.80,  10.47,\\n 6.52,   6.52,   6.52,   6.52,   6.52,   6.52,   6.52,   6.52,   6.52,\\n 6.53,   6.52,   6.52,   6.53,   6.52,   6.53,   6.52,   6.53,   6.52,\\n 6.53,   6.52,   6.53,   6.52,   6.52,   6.53,   6.52,   6.53,   6.52,\\n 6.53,   6.52,   6.53,   6.52,   6.52,   6.53,   6.52,   6.53,   6.52,\\n 6.53,   6.52,   6.53,   6.52,   6.53,   6.52,   6.52,   6.53,   6.52,\\n 6.53,   6.52,   6.53,   6.52,   6.53,   6.52,   6.53,   6.52,   6.52,\\n 6.53,   6.52,   6.53,   6.52,   6.53,   6.52,   6.53,   6.52,   6.52,\\n 6.53,   6.52,   6.53,   6.52,   6.53,   6.52,   6.53,   6.52,   6.53,\\n 6.52,   6.52,   6.53,   6.52,   6.53,   6.52,   6.53,   6.52,   6.53,\\n 6.52,   6.53,   6.52,   6.52,   6.53,   6.52,   6.53,   6.52,   6.53,\\n 6.52,   6.53,   6.52,   6.53,   6.52,   6.52,   6.53,   6.52,   6.53,\\n 6.52,   6.53,   6.52,   6.53,   6.52,   6.52,   6.53,   6.52,   6.53,\\n 6.52,   6.53,   6.52,   6.53,   6.52,   6.53,   6.52,   6.52,   6.53,\\n 6.52,   6.53,   6.52,   6.53,   6.52,   6.53,   6.52,   6.53,   6.52,\\n 6.52,   6.53,   6.52,   6.53,   6.52,   6.53,   6.52,   6.53,   6.52,\\n 6.52,   6.53,   6.52,   6.53,   6.52,   6.53,   6.52,   6.53,   6.52,\\n 6.53,   6.52,   6.52,   6.53,   6.52,   6.53,   6.52,   6.53,   6.52,\\n 6.53,   6.52,   6.53,   6.52,   6.52,   6.53,   6.52,   6.53,   6.52,\\n 6.53,   6.52,   6.53,   6.52,   6.52,   6.53,   6.52,   6.53,   6.52,\\n 6.53,   6.52,   6.53,   6.52,   6.53,   6.52,   6.52,   6.53,   6.52,\\n 6.53,   6.52,   6.53,   6.52,   6.53,   6.52,   6.53,   6.52,   6.52,\\n 6.53,   6.52,   6.53,   6.52,   6.53,   6.52,   6.53,   6.52,   6.53,\\n 6.52,   6.52,   6.53,   6.52,   6.53,   6.52,   6.53,   6.52,   6.53,\\n 6.52,   6.52,   6.53,   6.52,   6.53,   6.52,   6.53,   6.52,   6.53,\\n 6.52,   6.53,   6.52,   6.52,   6.53,   6.52,   6.53,   6.52,   6.53,\\n 6.52,   6.53,   6.52,   6.53,   6.52,   6.52,   6.53,   6.52,   6.53,\\n 6.52,   6.53,   6.52,   6.53,   6.52,   6.52,   6.53,   6.52,   6.53,\\n 6.52,   6.53,   6.52,   6.53,   6.52,   6.53,   6.52,   6.52,   6.53,\\n 6.52,   6.53,   6.52,   6.53,   6.52,   6.53,   6.52,   6.53,   6.52,\\n 6.52,   6.53,   6.52,   6.53,   6.52,   6.53,   6.52,   6.53,   6.52,\\n 6.52,   6.53,   6.52,   6.53,   6.52,   6.53,   6.52,   6.53,   6.52,\\n 6.53,   6.52,   6.52,   6.53,   6.52,   6.53,   6.52,   6.52}',\n",
       " 'z plot titles': '{ wavelength [nm], reflectance [%*100] }',\n",
       " 'z plot range': '{0, 10000}',\n",
       " 'sun azimuth': 247.51,\n",
       " 'sun elevation': 34.0}"
      ]
     },
     "execution_count": 65,
     "metadata": {},
     "output_type": "execute_result"
    }
   ],
   "source": [
    "replacements"
   ]
  },
  {
   "cell_type": "code",
   "execution_count": null,
   "metadata": {},
   "outputs": [],
   "source": [
    "targetmeta.update(replacements)"
   ]
  },
  {
   "cell_type": "code",
   "execution_count": null,
   "metadata": {},
   "outputs": [
    {
     "data": {
      "text/plain": [
       "{'description': '{Spectral reflectance (%*100) for HySpex flightline 20200710-CPC_14. central lat: 65.16, lon: -147.51, flight elev: 2335.72 m above MSL. PARGE (VNIR): Frameperiod = 12000 Integration time = 8300 Binning = 1 Number of frames = 17299 Aperture size =   0.008000 dw = 1 EQ = 0 FOVexp = 5 Lens = 5 NumberOfAvg = 1 CalibAvailable = 0 Number of background = 200 Pixelsize x =   0.000320 Pixelsize y =   0.000640 ID = VNIR_1800_SN00812 Comment =  Serialnumber = 812 Scanningmode = Airborne; PARGE Geocoded  20200710-CPC_14_VNIR_1800_SN00812_FOVx2_raw_rad_bsq_float32 ENVI-File ATCOR:  ATCOR4 : 11\\\\07\\\\20  solar zen=56.0,  solar azi=247.5,  sensorid=HySpex_457_FoV2_Husky,\\n fcref=100.0,  fctem=100.0 }',\n",
       " 'samples': '1128',\n",
       " 'lines': '6503',\n",
       " 'bands': '457',\n",
       " 'header offset': '0',\n",
       " 'file type': 'ENVI Standard',\n",
       " 'data type': '2',\n",
       " 'interleave': 'bsq',\n",
       " 'byte order': '0',\n",
       " 'map info': '{UTM, 1, 1, 475388.5, 7230445.5, 1, 1, 6, North,WGS-84}',\n",
       " 'coordinate system string': '{PROJCS[\"WGS_1984_UTM_Zone_6N\",GEOGCS[\"GCS_WGS_1984\",DATUM[\"D_WGS_1984\",SPHEROID[\"WGS_1984\",6378137.0,298.257223563]],PRIMEM[\"Greenwich\",0.0],UNIT[\"Degree\",0.0174532925199433]],PROJECTION[\"Transverse_Mercator\"],PARAMETER[\"False_Easting\",500000.0],PARAMETER[\"False_Northing\",0.0],PARAMETER[\"Central_Meridian\",-147.0],PARAMETER[\"Scale_Factor\",0.9996],PARAMETER[\"Latitude_Of_Origin\",0.0],UNIT[\"Meter\",1.0]]}',\n",
       " 'band names': '{band   1, band   2, band   3,\\n band   4, band   5, band   6, band   7,\\n band   8, band   9, band  10, band  11,\\n band  12, band  13, band  14, band  15,\\n band  16, band  17, band  18, band  19,\\n band  20, band  21, band  22, band  23,\\n band  24, band  25, band  26, band  27,\\n band  28, band  29, band  30, band  31,\\n band  32, band  33, band  34, band  35,\\n band  36, band  37, band  38, band  39,\\n band  40, band  41, band  42, band  43,\\n band  44, band  45, band  46, band  47,\\n band  48, band  49, band  50, band  51,\\n band  52, band  53, band  54, band  55,\\n band  56, band  57, band  58, band  59,\\n band  60, band  61, band  62, band  63,\\n band  64, band  65, band  66, band  67,\\n band  68, band  69, band  70, band  71,\\n band  72, band  73, band  74, band  75,\\n band  76, band  77, band  78, band  79,\\n band  80, band  81, band  82, band  83,\\n band  84, band  85, band  86, band  87,\\n band  88, band* 89, band* 90, band* 91,\\n band* 92, band* 93, band* 94, band* 95,\\n band* 96, band* 97, band* 98, band* 99,\\n band*100, band*101, band*102, band*103,\\n band*104, band*105, band 106, band 107,\\n band 108, band*109, band*110, band*111,\\n band*112, band*113, band*114, band*115,\\n band 116, band 117, band 118, band 119,\\n band 120, band*121, band*122, band*123,\\n band*124, band*125, band*126, band*127,\\n band*128, band*129, band*130, band*131,\\n band*132, band*133, band*134, band*135,\\n band*136, band 137, band 138, band 139,\\n band 140, band 141, band 142, band 143,\\n band 144, band 145, band 146, band 147,\\n band 148, band 149, band 150, band 151,\\n band 152, band 153, band*154, band*155,\\n band*156, band*157, band*158, band*159,\\n band*160, band*161, band*162, band*163,\\n band*164, band*165, band*166, band*167,\\n band*168, band*169, band*170, band*171,\\n band*172, band*173, band*174, band*175,\\n band*176, band*177, band*178, band*179,\\n band 180, band 181, band 182, band 183,\\n band 184, band 185, band 186, band 187,\\n band 188, band 189, band 190, band 191,\\n band 192, band 193, band*194, band*195,\\n band*196, band*197, band*198, band*199,\\n band*200, band*201, band*202, band*203,\\n band*204, band*205, band*206, band*207,\\n band*208, band*209, band*210, band*211,\\n band*212, band*213, band*214, band 215,\\n band 216, band 217, band 218, band 219,\\n band 220, band 221, band 222, band 223,\\n band 224, band 225, band 226, band 227,\\n band 228, band 229, band 230, band 231,\\n band 232, band 233, band 234, band 235,\\n band 236, band 237, band 238, band 239,\\n band 240, band 241, band 242, band 243,\\n band 244, band 245, band 246, band 247,\\n band 248, band 249, band 250, band 251,\\n band 252, band 253, band 254, band 255,\\n band 256, band 257, band 258, band 259,\\n band 260, band 261, band 262, band 263,\\n band 264, band 265, band 266, band 267,\\n band 268, band 269, band 270, band 271,\\n band 272, band 273, band 274, band 275,\\n band 276, band 277, band 278, band 279,\\n band 280, band 281, band 282, band 283,\\n band 284, band 285, band 286, band 287,\\n band 288, band 289, band 290, band 291,\\n band 292, band 293, band 294, band 295,\\n band 296, band 297, band 298, band 299,\\n band 300, band 301, band 302, band 303,\\n band 304, band 305, band 306, band 307,\\n band 308, band 309, band 310, band 311,\\n band 312, band 313, band 314, band 315,\\n band 316, band 317, band 318, band 319,\\n band 320, band 321, band 322, band 323,\\n band 324, band 325, band 326, band 327,\\n band 328, band 329, band 330, band 331,\\n band 332, band 333, band 334, band 335,\\n band 336, band 337, band 338, band 339,\\n band 340, band 341, band 342, band 343,\\n band 344, band 345, band 346, band 347,\\n band 348, band 349, band 350, band 351,\\n band 352, band 353, band 354, band 355,\\n band 356, band 357, band 358, band 359,\\n band 360, band 361, band 362, band 363,\\n band 364, band 365, band 366, band 367,\\n band 368, band 369, band 370, band 371,\\n band 372, band 373, band 374, band 375,\\n band 376, band 377, band 378, band 379,\\n band 380, band 381, band 382, band 383,\\n band 384, band 385, band 386, band 387,\\n band 388, band 389, band 390, band 391,\\n band 392, band 393, band 394, band 395,\\n band 396, band 397, band 398, band 399,\\n band 400, band 401, band 402, band 403,\\n band 404, band 405, band 406, band 407,\\n band 408, band 409, band 410, band 411,\\n band 412, band 413, band 414, band 415,\\n band 416, band 417, band 418, band 419,\\n band 420, band 421, band 422, band 423,\\n band 424, band 425, band 426, band 427,\\n band 428, band 429, band 430, band 431,\\n band 432, band 433, band 434, band 435,\\n band 436, band 437, band 438, band 439,\\n band 440, band 441, band 442, band 443,\\n band 444, band 445, band 446, band 447,\\n band 448, band 449, band 450, band 451,\\n band 452, band 453, band 454, band 455,\\n band 456, band 457}',\n",
       " 'data ignore value': '14000',\n",
       " 'acquisition time': '2020-07-11T01:38:09.0Z',\n",
       " 'reflectance scale factor': '10000',\n",
       " 'default bands': '{291.000000, 141.000000, 20.000000}',\n",
       " 'wavelength': '{ 410.36,  413.53,  416.70,  419.87,  423.04,  426.21,  429.38,\\n 432.55,  435.71,  438.89,  442.05,  445.23,  448.40,  451.57,  454.74,\\n 457.90,  461.07,  464.24,  467.41,  470.58,  473.75,  476.92,  480.09,\\n 483.26,  486.43,  489.60,  492.77,  495.94,  499.11,  502.28,  505.45,\\n 508.62,  511.79,  514.96,  518.13,  521.29,  524.47,  527.63,  530.80,\\n 533.97,  537.15,  540.32,  543.48,  546.65,  549.82,  552.99,  556.16,\\n 559.33,  562.50,  565.67,  568.84,  572.01,  575.18,  578.35,  581.52,\\n 584.69,  587.86,  591.03,  594.20,  597.37,  600.54,  603.71,  606.88,\\n 610.05,  613.22,  616.39,  619.55,  622.73,  625.90,  629.06,  632.23,\\n 635.40,  638.57,  641.74,  644.91,  648.08,  651.25,  654.42,  657.59,\\n 660.76,  663.93,  667.10,  670.27,  673.44,  676.61,  679.78,  682.95,\\n 686.12,  689.28,  692.46,  695.63,  698.80,  701.96,  705.14,  708.30,\\n 711.47,  714.64,  717.81,  720.98,  724.15,  727.32,  730.49,  733.66,\\n 736.83,  740.00,  743.17,  746.34,  749.51,  752.68,  755.85,  759.02,\\n 762.19,  765.36,  768.53,  771.70,  774.86,  778.04,  781.21,  784.38,\\n 787.55,  790.71,  793.88,  797.05,  800.22,  803.39,  806.56,  809.73,\\n 812.90,  816.07,  819.24,  822.41,  825.58,  828.75,  831.92,  835.09,\\n 838.26,  841.43,  844.60,  847.77,  850.94,  854.11,  857.28,  860.45,\\n 863.62,  866.78,  869.96,  873.13,  876.29,  879.46,  882.63,  885.80,\\n 888.97,  892.14,  895.31,  898.48,  901.65,  904.82,  907.99,  911.16,\\n 914.33,  917.50,  920.67,  923.84,  927.01,  930.18,  933.35,  936.52,\\n 939.69,  942.85,  946.03,  954.75,  960.18,  965.62,  971.05,  976.49,\\n 981.92,  987.36,  992.79,  998.23, 1003.66, 1009.10, 1014.53, 1019.96,\\n 1025.40, 1030.83, 1036.27, 1041.70, 1047.14, 1052.57, 1058.01, 1063.44,\\n 1068.88, 1074.31, 1079.74, 1085.18, 1090.61, 1096.05, 1101.48, 1106.92,\\n 1112.35, 1117.79, 1123.22, 1128.65, 1134.09, 1139.52, 1144.96, 1150.39,\\n 1155.83, 1161.26, 1166.70, 1172.13, 1177.57, 1183.00, 1188.43, 1193.87,\\n 1199.30, 1204.74, 1210.17, 1215.61, 1221.04, 1226.48, 1231.91, 1237.35,\\n 1242.78, 1248.21, 1253.65, 1259.08, 1264.52, 1269.95, 1275.39, 1280.82,\\n 1286.26, 1291.69, 1297.12, 1302.56, 1307.99, 1313.43, 1318.86, 1324.30,\\n 1329.73, 1335.17, 1340.60, 1346.04, 1351.47, 1356.90, 1362.34, 1367.77,\\n 1373.21, 1378.64, 1384.08, 1389.51, 1394.95, 1400.38, 1405.82, 1411.25,\\n 1416.68, 1422.12, 1427.55, 1432.99, 1438.42, 1443.86, 1449.29, 1454.73,\\n 1460.16, 1465.60, 1471.03, 1476.46, 1481.90, 1487.33, 1492.77, 1498.20,\\n 1503.64, 1509.07, 1514.51, 1519.94, 1525.37, 1530.81, 1536.24, 1541.68,\\n 1547.11, 1552.55, 1557.98, 1563.42, 1568.85, 1574.29, 1579.72, 1585.15,\\n 1590.59, 1596.02, 1601.46, 1606.89, 1612.33, 1617.76, 1623.20, 1628.63,\\n 1634.07, 1639.50, 1644.93, 1650.37, 1655.80, 1661.24, 1666.67, 1672.11,\\n 1677.54, 1682.98, 1688.41, 1693.84, 1699.28, 1704.71, 1710.15, 1715.58,\\n 1721.02, 1726.45, 1731.89, 1737.32, 1742.76, 1748.19, 1753.62, 1759.06,\\n 1764.49, 1769.93, 1775.36, 1780.80, 1786.23, 1791.67, 1797.10, 1802.54,\\n 1807.97, 1813.40, 1818.84, 1824.27, 1829.71, 1835.14, 1840.58, 1846.01,\\n 1851.45, 1856.88, 1862.31, 1867.75, 1873.18, 1878.62, 1884.05, 1889.49,\\n 1894.92, 1900.36, 1905.79, 1911.23, 1916.66, 1922.09, 1927.53, 1932.96,\\n 1938.40, 1943.83, 1949.27, 1954.70, 1960.14, 1965.57, 1971.01, 1976.44,\\n 1981.87, 1987.31, 1992.74, 1998.18, 2003.61, 2009.05, 2014.48, 2019.92,\\n 2025.35, 2030.79, 2036.22, 2041.65, 2047.09, 2052.52, 2057.96, 2063.39,\\n 2068.83, 2074.26, 2079.70, 2085.13, 2090.56, 2096.00, 2101.43, 2106.87,\\n 2112.30, 2117.74, 2123.17, 2128.61, 2134.04, 2139.48, 2144.91, 2150.34,\\n 2155.78, 2161.21, 2166.65, 2172.08, 2177.52, 2182.95, 2188.39, 2193.82,\\n 2199.26, 2204.69, 2210.12, 2215.56, 2220.99, 2226.43, 2231.86, 2237.30,\\n 2242.73, 2248.17, 2253.60, 2259.03, 2264.47, 2269.90, 2275.34, 2280.77,\\n 2286.21, 2291.64, 2297.08, 2302.51, 2307.95, 2313.38, 2318.81, 2324.25,\\n 2329.68, 2335.12, 2340.55, 2345.99, 2351.42, 2356.86, 2362.29, 2367.73,\\n 2373.16, 2378.59, 2384.03, 2389.46, 2394.90, 2400.33, 2405.77, 2411.20,\\n 2416.64, 2422.07, 2427.50, 2432.94, 2438.37, 2443.81, 2449.24, 2454.68,\\n 2460.11, 2465.55, 2470.98, 2476.42, 2481.85, 2487.28, 2492.72, 2498.15,\\n 2503.59, 2509.02}',\n",
       " 'wavelength units': 'nm',\n",
       " 'fwhm': '{  3.80,   3.80,   3.80,   3.80,   3.80,   3.80,   3.80,   3.80,\\n 3.80,   3.80,   3.80,   3.80,   3.80,   3.80,   3.80,   3.80,   3.80,\\n 3.80,   3.80,   3.80,   3.80,   3.80,   3.80,   3.80,   3.80,   3.80,\\n 3.80,   3.80,   3.80,   3.80,   3.80,   3.80,   3.80,   3.80,   3.80,\\n 3.80,   3.80,   3.80,   3.80,   3.80,   3.80,   3.80,   3.80,   3.80,\\n 3.80,   3.80,   3.80,   3.80,   3.80,   3.80,   3.80,   3.80,   3.80,\\n 3.80,   3.80,   3.80,   3.80,   3.80,   3.80,   3.80,   3.80,   3.80,\\n 3.80,   3.80,   3.80,   3.80,   3.80,   3.80,   3.80,   3.80,   3.80,\\n 3.80,   3.80,   3.80,   3.80,   3.80,   3.80,   3.80,   3.80,   3.80,\\n 3.80,   3.80,   3.80,   3.80,   3.80,   3.80,   3.80,   3.80,   3.80,\\n 3.80,   3.80,   3.80,   3.80,   3.80,   3.80,   3.80,   3.80,   3.80,\\n 3.80,   3.80,   3.80,   3.80,   3.80,   3.80,   3.80,   3.80,   3.80,\\n 3.80,   3.80,   3.80,   3.80,   3.80,   3.80,   3.80,   3.80,   3.80,\\n 3.80,   3.80,   3.80,   3.80,   3.80,   3.80,   3.80,   3.80,   3.80,\\n 3.80,   3.80,   3.80,   3.80,   3.80,   3.80,   3.80,   3.80,   3.80,\\n 3.80,   3.80,   3.80,   3.80,   3.80,   3.80,   3.80,   3.80,   3.80,\\n 3.80,   3.80,   3.80,   3.80,   3.80,   3.80,   3.80,   3.80,   3.80,\\n 3.80,   3.80,   3.80,   3.80,   3.80,   3.80,   3.80,   3.80,   3.80,\\n 3.80,   3.80,   3.80,   3.80,   3.80,   3.80,   3.80,   3.80,  10.47,\\n 6.52,   6.52,   6.52,   6.52,   6.52,   6.52,   6.52,   6.52,   6.52,\\n 6.53,   6.52,   6.52,   6.53,   6.52,   6.53,   6.52,   6.53,   6.52,\\n 6.53,   6.52,   6.53,   6.52,   6.52,   6.53,   6.52,   6.53,   6.52,\\n 6.53,   6.52,   6.53,   6.52,   6.52,   6.53,   6.52,   6.53,   6.52,\\n 6.53,   6.52,   6.53,   6.52,   6.53,   6.52,   6.52,   6.53,   6.52,\\n 6.53,   6.52,   6.53,   6.52,   6.53,   6.52,   6.53,   6.52,   6.52,\\n 6.53,   6.52,   6.53,   6.52,   6.53,   6.52,   6.53,   6.52,   6.52,\\n 6.53,   6.52,   6.53,   6.52,   6.53,   6.52,   6.53,   6.52,   6.53,\\n 6.52,   6.52,   6.53,   6.52,   6.53,   6.52,   6.53,   6.52,   6.53,\\n 6.52,   6.53,   6.52,   6.52,   6.53,   6.52,   6.53,   6.52,   6.53,\\n 6.52,   6.53,   6.52,   6.53,   6.52,   6.52,   6.53,   6.52,   6.53,\\n 6.52,   6.53,   6.52,   6.53,   6.52,   6.52,   6.53,   6.52,   6.53,\\n 6.52,   6.53,   6.52,   6.53,   6.52,   6.53,   6.52,   6.52,   6.53,\\n 6.52,   6.53,   6.52,   6.53,   6.52,   6.53,   6.52,   6.53,   6.52,\\n 6.52,   6.53,   6.52,   6.53,   6.52,   6.53,   6.52,   6.53,   6.52,\\n 6.52,   6.53,   6.52,   6.53,   6.52,   6.53,   6.52,   6.53,   6.52,\\n 6.53,   6.52,   6.52,   6.53,   6.52,   6.53,   6.52,   6.53,   6.52,\\n 6.53,   6.52,   6.53,   6.52,   6.52,   6.53,   6.52,   6.53,   6.52,\\n 6.53,   6.52,   6.53,   6.52,   6.52,   6.53,   6.52,   6.53,   6.52,\\n 6.53,   6.52,   6.53,   6.52,   6.53,   6.52,   6.52,   6.53,   6.52,\\n 6.53,   6.52,   6.53,   6.52,   6.53,   6.52,   6.53,   6.52,   6.52,\\n 6.53,   6.52,   6.53,   6.52,   6.53,   6.52,   6.53,   6.52,   6.53,\\n 6.52,   6.52,   6.53,   6.52,   6.53,   6.52,   6.53,   6.52,   6.53,\\n 6.52,   6.52,   6.53,   6.52,   6.53,   6.52,   6.53,   6.52,   6.53,\\n 6.52,   6.53,   6.52,   6.52,   6.53,   6.52,   6.53,   6.52,   6.53,\\n 6.52,   6.53,   6.52,   6.53,   6.52,   6.52,   6.53,   6.52,   6.53,\\n 6.52,   6.53,   6.52,   6.53,   6.52,   6.52,   6.53,   6.52,   6.53,\\n 6.52,   6.53,   6.52,   6.53,   6.52,   6.53,   6.52,   6.52,   6.53,\\n 6.52,   6.53,   6.52,   6.53,   6.52,   6.53,   6.52,   6.53,   6.52,\\n 6.52,   6.53,   6.52,   6.53,   6.52,   6.53,   6.52,   6.53,   6.52,\\n 6.52,   6.53,   6.52,   6.53,   6.52,   6.53,   6.52,   6.53,   6.52,\\n 6.53,   6.52,   6.52,   6.53,   6.52,   6.53,   6.52,   6.52}',\n",
       " 'z plot titles': '{ wavelength [nm], reflectance [%*100] }',\n",
       " 'z plot range': '{0, 10000}',\n",
       " 'sun azimuth': 247.51,\n",
       " 'sun elevation': 34.0}"
      ]
     },
     "execution_count": 67,
     "metadata": {},
     "output_type": "execute_result"
    }
   ],
   "source": [
    "targetmeta"
   ]
  },
  {
   "cell_type": "markdown",
   "metadata": {},
   "source": [
    "---"
   ]
  },
  {
   "cell_type": "markdown",
   "metadata": {},
   "source": [
    "Write new header file"
   ]
  },
  {
   "cell_type": "code",
   "execution_count": null,
   "metadata": {},
   "outputs": [
    {
     "data": {
      "text/plain": [
       "WindowsPath('Z:/fihyper/cwaigl/20200710_CPC/02_intermediate/brefcor/20200710-CPC_14_VNIR_SWIR_rad_geo_atm_bcor_crop.hdr.bak')"
      ]
     },
     "execution_count": 68,
     "metadata": {},
     "output_type": "execute_result"
    }
   ],
   "source": [
    "shutil.copyfile(brefcordir / targetfile, brefcordir / f\"{targetfile}.bak\")"
   ]
  },
  {
   "cell_type": "code",
   "execution_count": null,
   "metadata": {},
   "outputs": [],
   "source": [
    "with open(brefcordir / targetfile, \"w\") as dst:\n",
    "    dst.write(\"ENVI\\n\")\n",
    "    for key in targetmeta:\n",
    "        dst.write(f\"{key} = {targetmeta[key]}\\n\")"
   ]
  },
  {
   "cell_type": "code",
   "execution_count": null,
   "metadata": {},
   "outputs": [
    {
     "data": {
      "text/plain": [
       "WindowsPath('Z:/fihyper/cwaigl/20200710_CPC/02_intermediate/brefcor/20200710-CPC_14_VNIR_SWIR_rad_geo_atm_bcor_crop.hdr')"
      ]
     },
     "execution_count": 70,
     "metadata": {},
     "output_type": "execute_result"
    }
   ],
   "source": [
    "brefcordir / targetfile"
   ]
  },
  {
   "cell_type": "markdown",
   "metadata": {},
   "source": [
    "---"
   ]
  },
  {
   "cell_type": "markdown",
   "metadata": {},
   "source": [
    "### Now loop through all"
   ]
  },
  {
   "cell_type": "code",
   "execution_count": null,
   "metadata": {},
   "outputs": [],
   "source": [
    "projdir = \"Z:\\\\fihyper\\\\cwaigl\\\\20210803_BC\"\n",
    "prefix = \"20210803-BC\"\n",
    "crop = True\n",
    "\n",
    "brefcordir = Path(f\"{projdir}\\\\02_intermediate\\\\brefcor\")\n",
    "outputdir = Path(f\"{projdir}\\\\02_intermediate\\\\working\")\n",
    "\n",
    "extra = '_rad'\n",
    "if crop:\n",
    "    cropextra = \"_crop\"\n",
    "    textextra = \" cropped\"\n",
    "else:\n",
    "    cropextra = \"\"\n",
    "    textextra = \"\"\n",
    "\n",
    "startline = 1\n",
    "endline = 7\n",
    "\n",
    "linenos = [str(ii).zfill(2) for ii in range(startline, endline+1)]"
   ]
  },
  {
   "cell_type": "code",
   "execution_count": null,
   "metadata": {},
   "outputs": [
    {
     "data": {
      "text/plain": [
       "False"
      ]
     },
     "execution_count": 220,
     "metadata": {},
     "output_type": "execute_result"
    }
   ],
   "source": [
    "(brefcordir / f\"{targetfile}.bak\").exists()"
   ]
  },
  {
   "cell_type": "code",
   "execution_count": null,
   "metadata": {},
   "outputs": [
    {
     "data": {
      "text/plain": [
       "'20220417_000755'"
      ]
     },
     "execution_count": 221,
     "metadata": {},
     "output_type": "execute_result"
    }
   ],
   "source": [
    "dt.datetime.now().strftime(\"%Y%m%d_%H%M%S\")"
   ]
  },
  {
   "cell_type": "code",
   "execution_count": null,
   "metadata": {},
   "outputs": [
    {
     "name": "stdout",
     "output_type": "stream",
     "text": [
      "Z:\\fihyper\\cwaigl\\20210803_BC\\20210803-BC_01\\PARGE\n",
      "updating 20210803-BC_01_VNIR_SWIR_rad_geo_atm_bcor_crop.hdr\n",
      "Z:\\fihyper\\cwaigl\\20210803_BC\\20210803-BC_02\\PARGE\n",
      "updating 20210803-BC_02_VNIR_SWIR_rad_geo_atm_bcor_crop.hdr\n",
      "Z:\\fihyper\\cwaigl\\20210803_BC\\20210803-BC_03\\PARGE\n",
      "updating 20210803-BC_03_VNIR_SWIR_rad_geo_atm_bcor_crop.hdr\n",
      "Z:\\fihyper\\cwaigl\\20210803_BC\\20210803-BC_04\\PARGE\n",
      "updating 20210803-BC_04_VNIR_SWIR_rad_geo_atm_bcor_crop.hdr\n",
      "Z:\\fihyper\\cwaigl\\20210803_BC\\20210803-BC_05\\PARGE\n",
      "updating 20210803-BC_05_VNIR_SWIR_rad_geo_atm_bcor_crop.hdr\n",
      "Z:\\fihyper\\cwaigl\\20210803_BC\\20210803-BC_06\\PARGE\n",
      "updating 20210803-BC_06_VNIR_SWIR_rad_geo_atm_bcor_crop.hdr\n",
      "Z:\\fihyper\\cwaigl\\20210803_BC\\20210803-BC_07\\PARGE\n",
      "updating 20210803-BC_07_VNIR_SWIR_rad_geo_atm_bcor_crop.hdr\n"
     ]
    }
   ],
   "source": [
    "for lineno in linenos:\n",
    "    navdir = Path(f\"{projdir}\\\\{prefix}_{lineno}\\\\NAV\")\n",
    "    pargedir = Path(f\"{projdir}\\\\{prefix}_{lineno}\\\\PARGE\")\n",
    "    print(pargedir)\n",
    "    atcordir = Path(f\"{projdir}\\\\{prefix}_{lineno}\\\\ATCOR\")\n",
    "    targetfile = f'{prefix}_{lineno}_VNIR_SWIR_rad_geo_atm_bcor{cropextra}.hdr'\n",
    "    atcorfile = f'{prefix}_{lineno}_VNIR_SWIR_rad_geo_atm.hdr'\n",
    "    pargefile = f'{prefix}_{lineno}_VNIR_SWIR{extra}_geo.hdr'\n",
    "    flightdatafile = f'{prefix}_{lineno}_VNIR_SWIR_rad_geo_flightdata.txt'\n",
    "    pargemeta = hdrfile_to_dict(pargedir / pargefile)\n",
    "    atcormeta = hdrfile_to_dict(atcordir / atcorfile)\n",
    "    targetmeta = hdrfile_to_dict(brefcordir / targetfile)\n",
    "    flightdata = json.load(open(navdir / flightdatafile))\n",
    "    replacements = {\n",
    "        'acquisition time': flightdata['linets_utc'],\n",
    "        'reflectance scale factor': atcormeta['reflectance scale factor'],\n",
    "        'default bands': '{289.000000, 141.000000, 20.000000}' if targetmeta['bands'] == 457 else '{291.000000, 141.000000, 20.000000}',\n",
    "        'description':  ( \n",
    "            f\"{{Spectral reflectance (%*100) for{textextra} HySpex flightline {flightdata['flightlinename']}. \"\n",
    "            f\"central lat: {flightdata['latitude']}, lon: {flightdata['longitude']}, flight elev: {flightdata['elevation_m_amsl']} m above MSL. \"\n",
    "            f\"PARGE (VNIR): {strip_braces(pargemeta['description'])} \"\n",
    "            f\"ATCOR:  {strip_braces(atcormeta['description'])} }}\" ),\n",
    "        'band names': atcormeta['band names'].replace(' refl [%*100]', ''),\n",
    "        'wavelength': atcormeta['wavelength'],\n",
    "        'wavelength units': 'nm',\n",
    "        'fwhm': atcormeta['fwhm'],\n",
    "        'z plot titles': atcormeta['z plot titles'],\n",
    "        'z plot range': '{0, 10000}',\n",
    "        'sun azimuth': flightdata['sun_azimuth'],\n",
    "        'sun elevation': 90.0 - flightdata['sun_zenith'],\n",
    "    }\n",
    "    print(f\"updating {targetfile}\")\n",
    "    targetmeta.update(replacements)\n",
    "    if (brefcordir / f\"{targetfile}.bak\").exists():\n",
    "        timestamp = dt.datetime.now().strftime(\"%Y%m%d_%H%M%S\")\n",
    "        shutil.copyfile(brefcordir / targetfile, brefcordir / f\"{targetfile}.{timestamp}.bak\")\n",
    "    else:\n",
    "        shutil.copyfile(brefcordir / targetfile, brefcordir / f\"{targetfile}.bak\")\n",
    "    with open(brefcordir / targetfile, \"w\") as dst:\n",
    "        dst.write(\"ENVI\\n\")\n",
    "        for key in targetmeta:\n",
    "            dst.write(f\"{key} = {targetmeta[key]}\\n\")"
   ]
  }
 ],
 "metadata": {
  "kernelspec": {
   "display_name": "Python 3",
   "language": "python",
   "name": "python3"
  },
  "language_info": {
   "codemirror_mode": {
    "name": "ipython",
    "version": 3
   },
   "file_extension": ".py",
   "mimetype": "text/x-python",
   "name": "python",
   "nbconvert_exporter": "python",
   "pygments_lexer": "ipython3"
  }
 },
 "nbformat": 4,
 "nbformat_minor": 4
}
