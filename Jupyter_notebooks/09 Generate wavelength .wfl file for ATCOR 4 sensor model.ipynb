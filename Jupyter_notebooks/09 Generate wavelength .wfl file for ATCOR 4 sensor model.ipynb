{
 "cells": [
  {
   "cell_type": "code",
   "execution_count": null,
   "metadata": {},
   "outputs": [],
   "source": [
    "import numpy as np\n",
    "import metadata\n",
    "from pathlib import Path"
   ]
  },
  {
   "cell_type": "markdown",
   "metadata": {},
   "source": [
    "### When to run this notebook"
   ]
  },
  {
   "cell_type": "markdown",
   "metadata": {},
   "source": [
    "If you want to create a new sensor model for use in ATCOR, see sections 4.6 (and 5.2.1, 5.2.2., 5.2.4 of the ATCOR-4 manual). \n",
    "\n",
    "New sensor models are for example needed when you make a decision to change the number of bands to include into the supercube that is passed to ATCOR-4 for atmospheric correction."
   ]
  },
  {
   "cell_type": "markdown",
   "metadata": {},
   "source": [
    "### What the notebook does"
   ]
  },
  {
   "cell_type": "markdown",
   "metadata": {},
   "source": [
    "From an existing `.hdr` file (eg. a radiance supercube after stacking) we read in the wavelengths using the `metadata.py` helper functions. The notebook generates a `.wfl` file. \n",
    "\n",
    "**Depending on the version of ATCOR-4 this file has either two or three columns: band index, central wavelength, FWHM, or just central wavelength and FWHM. Also, even though the manual says that the wavelengths can be specified in μm or nm, apparently μm is less prone to errors.**"
   ]
  },
  {
   "cell_type": "markdown",
   "metadata": {},
   "source": [
    "### Steps"
   ]
  },
  {
   "cell_type": "markdown",
   "metadata": {},
   "source": [
    "1. Provide path to input `.hdr` file as well as output directory and filename."
   ]
  },
  {
   "cell_type": "code",
   "execution_count": null,
   "metadata": {},
   "outputs": [],
   "source": [
    "sampledir = Path(r\"Z:\\fihyper\\cwaigl\\20200710_CPC\\20200710-CPC_11\\ATCOR\")\n",
    "samplefile = '20200710-CPC_11_VNIR_SWIR_supercube_masked_geo.hdr'\n",
    "outdir = Path('C:/Users/cwaigl/Documents/HySpex_sensor')\n",
    "outfn = 'HySpex_forATCOR_457.wvl'"
   ]
  },
  {
   "cell_type": "markdown",
   "metadata": {},
   "source": [
    "2. Read metadata"
   ]
  },
  {
   "cell_type": "code",
   "execution_count": null,
   "metadata": {},
   "outputs": [],
   "source": [
    "meta = metadata.hdrfile_to_dict(sampledir / samplefile)"
   ]
  },
  {
   "cell_type": "markdown",
   "metadata": {},
   "source": [
    "3. Generate arrays of band index, wavelenght and fwhm."
   ]
  },
  {
   "cell_type": "markdown",
   "metadata": {},
   "source": [
    "(FWHM is calculated from successive wavelength differences. The last FWHM value is just assumed to be the same as the second-to-last one.)"
   ]
  },
  {
   "cell_type": "code",
   "execution_count": null,
   "metadata": {},
   "outputs": [],
   "source": [
    "idx = np.arange(1, 460)\n",
    "wvlth = np.fromstring(meta['wavelength'].strip(' {}'), dtype=float, sep=',')/1000   # micrometers!!!\n",
    "fwhm = 1.2 * np.diff(wvlth, append=2*wvlth[-1]-wvlth[-2])"
   ]
  },
  {
   "cell_type": "markdown",
   "metadata": {},
   "source": [
    "4. Save output\n",
    "\n",
    "If you want a 3-column output, run this:"
   ]
  },
  {
   "cell_type": "code",
   "execution_count": null,
   "metadata": {},
   "outputs": [],
   "source": [
    "np.savetxt(outdir / outfn, np.stack((idx, wvlth, fwhm), axis=-1), fmt='    %1.3f    %0.7f    %0.7f')"
   ]
  },
  {
   "cell_type": "markdown",
   "metadata": {},
   "source": [
    "If you want a 2-column output, run this: "
   ]
  },
  {
   "cell_type": "code",
   "execution_count": null,
   "metadata": {},
   "outputs": [],
   "source": [
    "np.savetxt(outdir / outfn, np.stack((wvlth, fwhm), axis=-1), fmt='    %0.7f    %0.7f')"
   ]
  }
 ],
 "metadata": {
  "kernelspec": {
   "display_name": "Python 3",
   "language": "python",
   "name": "python3"
  },
  "language_info": {
   "codemirror_mode": {
    "name": "ipython",
    "version": 3
   },
   "file_extension": ".py",
   "mimetype": "text/x-python",
   "name": "python",
   "nbconvert_exporter": "python",
   "pygments_lexer": "ipython3"
  }
 },
 "nbformat": 4,
 "nbformat_minor": 4
}
