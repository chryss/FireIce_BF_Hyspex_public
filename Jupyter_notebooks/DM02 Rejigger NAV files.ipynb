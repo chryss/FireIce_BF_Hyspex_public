{
 "cells": [
  {
   "cell_type": "code",
   "execution_count": null,
   "metadata": {},
   "outputs": [],
   "source": [
    "from pathlib import Path\n",
    "import pandas as pd\n",
    "import numpy as np"
   ]
  },
  {
   "cell_type": "markdown",
   "metadata": {},
   "source": [
    "This Jupiter Notebook serves to post-process a folder full of manually rescued NAV files (after a but that made splitting of the events file necessary) in case latitude and longitude colums get swapped.\n",
    "\n",
    "It takes an in and an out folder, then loops through the files in the in folder, reads each (whitespace-delimited file) , swaps columsn 2 and 3, and writes the result out."
   ]
  },
  {
   "cell_type": "code",
   "execution_count": null,
   "metadata": {},
   "outputs": [],
   "source": [
    "indir = Path(r\"Z:\\fihyper\\cwaigl\\20210828_KN\\00_aux\\Software\\NAV_output_overflow_bug_fromAntoine\\HySpex NAV\\nav_files_current_height\")\n",
    "outdir = Path(r\"Z:\\fihyper\\cwaigl\\20210828_KN\\00_aux\\Software\\HySpex_NAV_20200402_latest\")\n",
    "prefix = \"20210828-KN\""
   ]
  },
  {
   "cell_type": "code",
   "execution_count": null,
   "metadata": {},
   "outputs": [
    {
     "name": "stdout",
     "output_type": "stream",
     "text": [
      "Writing Z:\\fihyper\\cwaigl\\20210828_KN\\00_aux\\Software\\HySpex_NAV_20200402_latest\\20210828-KN_10_VNIR_1800_SN00812_FOVx2_raw.txt\n",
      "Writing Z:\\fihyper\\cwaigl\\20210828_KN\\00_aux\\Software\\HySpex_NAV_20200402_latest\\20210828-KN_11_SWIR_384me_SN3107_FOVx2_raw.txt\n",
      "Writing Z:\\fihyper\\cwaigl\\20210828_KN\\00_aux\\Software\\HySpex_NAV_20200402_latest\\20210828-KN_11_VNIR_1800_SN00812_FOVx2_raw.txt\n",
      "Writing Z:\\fihyper\\cwaigl\\20210828_KN\\00_aux\\Software\\HySpex_NAV_20200402_latest\\20210828-KN_12_SWIR_384me_SN3107_FOVx2_raw.txt\n",
      "Writing Z:\\fihyper\\cwaigl\\20210828_KN\\00_aux\\Software\\HySpex_NAV_20200402_latest\\20210828-KN_12_VNIR_1800_SN00812_FOVx2_raw.txt\n",
      "Writing Z:\\fihyper\\cwaigl\\20210828_KN\\00_aux\\Software\\HySpex_NAV_20200402_latest\\20210828-KN_13_SWIR_384me_SN3107_FOVx2_raw.txt\n",
      "Writing Z:\\fihyper\\cwaigl\\20210828_KN\\00_aux\\Software\\HySpex_NAV_20200402_latest\\20210828-KN_13_VNIR_1800_SN00812_FOVx2_raw.txt\n",
      "Writing Z:\\fihyper\\cwaigl\\20210828_KN\\00_aux\\Software\\HySpex_NAV_20200402_latest\\20210828-KN_14_SWIR_384me_SN3107_FOVx2_raw.txt\n",
      "Writing Z:\\fihyper\\cwaigl\\20210828_KN\\00_aux\\Software\\HySpex_NAV_20200402_latest\\20210828-KN_14_VNIR_1800_SN00812_FOVx2_raw.txt\n",
      "Writing Z:\\fihyper\\cwaigl\\20210828_KN\\00_aux\\Software\\HySpex_NAV_20200402_latest\\20210828-KN_01_SWIR_384me_SN3107_FOVx2_raw.txt\n",
      "Writing Z:\\fihyper\\cwaigl\\20210828_KN\\00_aux\\Software\\HySpex_NAV_20200402_latest\\20210828-KN_01_VNIR_1800_SN00812_FOVx2_raw.txt\n",
      "Writing Z:\\fihyper\\cwaigl\\20210828_KN\\00_aux\\Software\\HySpex_NAV_20200402_latest\\20210828-KN_02_SWIR_384me_SN3107_FOVx2_raw.txt\n",
      "Writing Z:\\fihyper\\cwaigl\\20210828_KN\\00_aux\\Software\\HySpex_NAV_20200402_latest\\20210828-KN_02_VNIR_1800_SN00812_FOVx2_raw.txt\n",
      "Writing Z:\\fihyper\\cwaigl\\20210828_KN\\00_aux\\Software\\HySpex_NAV_20200402_latest\\20210828-KN_03_SWIR_384me_SN3107_FOVx2_raw.txt\n",
      "Writing Z:\\fihyper\\cwaigl\\20210828_KN\\00_aux\\Software\\HySpex_NAV_20200402_latest\\20210828-KN_03_VNIR_1800_SN00812_FOVx2_raw.txt\n",
      "Writing Z:\\fihyper\\cwaigl\\20210828_KN\\00_aux\\Software\\HySpex_NAV_20200402_latest\\20210828-KN_04_SWIR_384me_SN3107_FOVx2_raw.txt\n",
      "Writing Z:\\fihyper\\cwaigl\\20210828_KN\\00_aux\\Software\\HySpex_NAV_20200402_latest\\20210828-KN_04_VNIR_1800_SN00812_FOVx2_raw.txt\n",
      "Writing Z:\\fihyper\\cwaigl\\20210828_KN\\00_aux\\Software\\HySpex_NAV_20200402_latest\\20210828-KN_05_SWIR_384me_SN3107_FOVx2_raw.txt\n",
      "Writing Z:\\fihyper\\cwaigl\\20210828_KN\\00_aux\\Software\\HySpex_NAV_20200402_latest\\20210828-KN_05_VNIR_1800_SN00812_FOVx2_raw.txt\n",
      "Writing Z:\\fihyper\\cwaigl\\20210828_KN\\00_aux\\Software\\HySpex_NAV_20200402_latest\\20210828-KN_06_SWIR_384me_SN3107_FOVx2_raw.txt\n",
      "Writing Z:\\fihyper\\cwaigl\\20210828_KN\\00_aux\\Software\\HySpex_NAV_20200402_latest\\20210828-KN_06_VNIR_1800_SN00812_FOVx2_raw.txt\n",
      "Writing Z:\\fihyper\\cwaigl\\20210828_KN\\00_aux\\Software\\HySpex_NAV_20200402_latest\\20210828-KN_07_SWIR_384me_SN3107_FOVx2_raw.txt\n",
      "Writing Z:\\fihyper\\cwaigl\\20210828_KN\\00_aux\\Software\\HySpex_NAV_20200402_latest\\20210828-KN_07_VNIR_1800_SN00812_FOVx2_raw.txt\n",
      "Writing Z:\\fihyper\\cwaigl\\20210828_KN\\00_aux\\Software\\HySpex_NAV_20200402_latest\\20210828-KN_08_SWIR_384me_SN3107_FOVx2_raw.txt\n",
      "Writing Z:\\fihyper\\cwaigl\\20210828_KN\\00_aux\\Software\\HySpex_NAV_20200402_latest\\20210828-KN_08_VNIR_1800_SN00812_FOVx2_raw.txt\n",
      "Writing Z:\\fihyper\\cwaigl\\20210828_KN\\00_aux\\Software\\HySpex_NAV_20200402_latest\\20210828-KN_09_SWIR_384me_SN3107_FOVx2_raw.txt\n",
      "Writing Z:\\fihyper\\cwaigl\\20210828_KN\\00_aux\\Software\\HySpex_NAV_20200402_latest\\20210828-KN_09_VNIR_1800_SN00812_FOVx2_raw.txt\n",
      "Writing Z:\\fihyper\\cwaigl\\20210828_KN\\00_aux\\Software\\HySpex_NAV_20200402_latest\\20210828-KN_10_SWIR_384me_SN3107_FOVx2_raw.txt\n"
     ]
    }
   ],
   "source": [
    "infiles = indir.glob(f\"{prefix}*_raw.txt\")\n",
    "for fp in infiles:\n",
    "    testdf = pd.read_csv(fp, sep='\\s+', header=None)\n",
    "    outfp = outdir / f\"{fp.name}\"\n",
    "    print(f\"Writing {outfp}\")\n",
    "    testdf.to_csv(outfp, \n",
    "                  columns=[0, 2, 1, 3, 4, 5, 6, 7],\n",
    "                  header=None, index=None, \n",
    "                  sep=' ', quotechar=' ',\n",
    "                  float_format='  %6.10f')"
   ]
  },
  {
   "cell_type": "code",
   "execution_count": null,
   "metadata": {},
   "outputs": [],
   "source": [
    "testfn = Path('Z:/fihyper/cwaigl/20210828_KN/00_aux/Software/NAV_output_overflow_bug_fromAntoine/HySpex NAV/nav_files_current_height/20210828-KN_01_VNIR_1800_SN00812_FOVx2_raw.txt')\n",
    "testdf = pd.read_csv(testfn, sep='\\s+', header=None)\n",
    "testdf.to_csv(outdir / f\"TESTING_{testfn.name}\", \n",
    "                                        columns=[0, 2, 1, 3, 4, 5, 6, 7],\n",
    "                                        header=None, index=None, sep=' ', quotechar=' ',\n",
    "                                        float_format='  %6.10f')\n",
    "#np.savetxt(outdir / f\"TESTING_{testfn.name}\", testdf[[0, 2, 1, 3, 4, 5, 6, 7]], delimiter='      ')"
   ]
  },
  {
   "cell_type": "code",
   "execution_count": null,
   "metadata": {},
   "outputs": [
    {
     "data": {
      "text/plain": [
       "'Z:\\\\fihyper\\\\cwaigl\\\\20210828_KN\\\\00_aux\\\\Software\\\\NAV_20200402_latest\\\\TESTING_20210828-KN_10_VNIR_1800_SN00812_FOVx2_raw.txt'"
      ]
     },
     "execution_count": 17,
     "metadata": {},
     "output_type": "execute_result"
    }
   ],
   "source": [
    "str(outdir / f\"TESTING_{testfn.name}\")"
   ]
  },
  {
   "cell_type": "code",
   "execution_count": null,
   "metadata": {},
   "outputs": [
    {
     "data": {
      "text/plain": [
       "True"
      ]
     },
     "execution_count": 23,
     "metadata": {},
     "output_type": "execute_result"
    }
   ],
   "source": [
    "Path(r\"Z:\\fihyper\\cwaigl\\20210828_KN\\00_aux\\Software\\HySpex_NAV_20200402_latest\").exists()"
   ]
  },
  {
   "cell_type": "code",
   "execution_count": null,
   "metadata": {},
   "outputs": [
    {
     "data": {
      "text/plain": [
       "True"
      ]
     },
     "execution_count": 26,
     "metadata": {},
     "output_type": "execute_result"
    }
   ],
   "source": [
    "outdir.exists()"
   ]
  },
  {
   "cell_type": "code",
   "execution_count": null,
   "metadata": {},
   "outputs": [
    {
     "data": {
      "text/plain": [
       "WindowsPath('Z:/fihyper/cwaigl/20210828_KN/00_aux/Software/NAV_output_overflow_bug_fromAntoine/HySpex NAV/nav_files_current_height')"
      ]
     },
     "execution_count": 22,
     "metadata": {},
     "output_type": "execute_result"
    }
   ],
   "source": [
    "indir"
   ]
  }
 ],
 "metadata": {
  "kernelspec": {
   "display_name": "Python 3",
   "language": "python",
   "name": "python3"
  },
  "language_info": {
   "codemirror_mode": {
    "name": "ipython",
    "version": 3
   },
   "file_extension": ".py",
   "mimetype": "text/x-python",
   "name": "python",
   "nbconvert_exporter": "python",
   "pygments_lexer": "ipython3"
  }
 },
 "nbformat": 4,
 "nbformat_minor": 4
}
